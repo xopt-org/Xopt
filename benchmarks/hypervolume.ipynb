{
 "cells": [
  {
   "cell_type": "code",
   "execution_count": null,
   "id": "45866515e9149bfe",
   "metadata": {},
   "outputs": [],
   "source": [
    "import numpy as np\n",
    "import pandas as pd\n",
    "from xopt.resources.benchmarking import BenchHV\n",
    "\n",
    "bench = BenchHV(\n",
    "    n_obj_list=[2, 3, 4], it=20, n_array=np.logspace(1, 3.2, 30).astype(int)\n",
    ")"
   ]
  },
  {
   "cell_type": "code",
   "execution_count": null,
   "id": "716df3b866750d96",
   "metadata": {},
   "outputs": [],
   "source": [
    "results_dicts = bench.run()"
   ]
  },
  {
   "cell_type": "code",
   "execution_count": null,
   "id": "initial_id",
   "metadata": {
    "collapsed": true
   },
   "outputs": [],
   "source": [
    "df = pd.DataFrame(results_dicts)"
   ]
  },
  {
   "cell_type": "code",
   "execution_count": null,
   "id": "631ba6f61c12bc99",
   "metadata": {},
   "outputs": [],
   "source": [
    "df"
   ]
  },
  {
   "cell_type": "code",
   "execution_count": null,
   "id": "29348b79999988e3",
   "metadata": {},
   "outputs": [],
   "source": [
    "from matplotlib import pyplot as plt\n",
    "\n",
    "fig, ax = plt.subplots(1, 1, figsize=(10, 5))\n",
    "df2 = df[df[\"n_obj\"] == 2].drop(\n",
    "    columns=[\"n_obj\", \"t_botorch_pf\", \"t_botorch_partitioning_pf\"]\n",
    ")\n",
    "df2.plot(\n",
    "    ax=ax,\n",
    "    grid=True,\n",
    "    x=\"n_points\",\n",
    "    ylabel=\"CPU time (seconds)\",\n",
    "    logy=True,\n",
    "    title=\"Scaling 2 objectives\",\n",
    "    marker=\".\",\n",
    ")"
   ]
  },
  {
   "cell_type": "code",
   "execution_count": null,
   "id": "424e305ff7218e6b",
   "metadata": {},
   "outputs": [],
   "source": [
    "fig, ax = plt.subplots(1, 1, figsize=(10, 5))\n",
    "df3 = df[df[\"n_obj\"] == 3].drop(\n",
    "    columns=[\"n_obj\", \"t_botorch_pf\", \"t_botorch_partitioning_pf\"]\n",
    ")\n",
    "df3.plot(\n",
    "    ax=ax,\n",
    "    grid=True,\n",
    "    x=\"n_points\",\n",
    "    ylabel=\"CPU time (seconds)\",\n",
    "    logy=True,\n",
    "    title=\"Scaling 3 objectives\",\n",
    "    marker=\".\",\n",
    ")"
   ]
  },
  {
   "cell_type": "code",
   "execution_count": null,
   "id": "f4f27a37ab359f60",
   "metadata": {},
   "outputs": [],
   "source": [
    "fig, ax = plt.subplots(1, 1, figsize=(10, 5))\n",
    "df3 = df[df[\"n_obj\"] == 4].drop(\n",
    "    columns=[\"n_obj\", \"t_botorch_pf\", \"t_botorch_partitioning_pf\"]\n",
    ")\n",
    "df3.plot(\n",
    "    ax=ax,\n",
    "    grid=True,\n",
    "    x=\"n_points\",\n",
    "    ylabel=\"CPU time (seconds)\",\n",
    "    logy=True,\n",
    "    title=\"Scaling 4 objectives\",\n",
    "    marker=\".\",\n",
    ")"
   ]
  }
 ],
 "metadata": {
  "kernelspec": {
   "display_name": "Python 3",
   "language": "python",
   "name": "python3"
  },
  "language_info": {
   "codemirror_mode": {
    "name": "ipython",
    "version": 2
   },
   "file_extension": ".py",
   "mimetype": "text/x-python",
   "name": "python",
   "nbconvert_exporter": "python",
   "pygments_lexer": "ipython2",
   "version": "2.7.6"
  }
 },
 "nbformat": 4,
 "nbformat_minor": 5
}
