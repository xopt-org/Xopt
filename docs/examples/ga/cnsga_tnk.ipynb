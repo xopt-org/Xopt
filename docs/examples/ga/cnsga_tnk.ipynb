{
 "cells": [
  {
   "cell_type": "markdown",
   "metadata": {},
   "source": [
    "# Xopt CNSGA algorithm"
   ]
  },
  {
   "cell_type": "code",
   "execution_count": null,
   "metadata": {
    "ExecuteTime": {
     "end_time": "2023-09-06T21:51:52.453021600Z",
     "start_time": "2023-09-06T21:51:49.273323Z"
    },
    "execution": {
     "iopub.execute_input": "2024-09-13T16:00:01.585855Z",
     "iopub.status.busy": "2024-09-13T16:00:01.585522Z",
     "iopub.status.idle": "2024-09-13T16:00:02.749698Z",
     "shell.execute_reply": "2024-09-13T16:00:02.749434Z"
    }
   },
   "outputs": [],
   "source": [
    "from xopt.generators.ga.cnsga import CNSGAGenerator\n",
    "\n",
    "from xopt.resources.test_functions.tnk import evaluate_TNK, tnk_vocs\n",
    "\n",
    "from xopt.utils import read_xopt_csv\n",
    "\n",
    "from xopt import Xopt, Evaluator\n",
    "\n",
    "import pandas as pd\n",
    "\n",
    "from glob import glob\n",
    "\n",
    "import matplotlib.pyplot as plt"
   ]
  },
  {
   "cell_type": "code",
   "execution_count": null,
   "metadata": {
    "ExecuteTime": {
     "end_time": "2023-09-06T21:51:52.469030800Z",
     "start_time": "2023-09-06T21:51:52.449951900Z"
    },
    "execution": {
     "iopub.execute_input": "2024-09-13T16:00:02.751723Z",
     "iopub.status.busy": "2024-09-13T16:00:02.751521Z",
     "iopub.status.idle": "2024-09-13T16:00:02.753525Z",
     "shell.execute_reply": "2024-09-13T16:00:02.753086Z"
    }
   },
   "outputs": [],
   "source": [
    "# Useful for debugging\n",
    "# %load_ext autoreload\n",
    "# %autoreload 2"
   ]
  },
  {
   "cell_type": "code",
   "execution_count": null,
   "metadata": {
    "ExecuteTime": {
     "end_time": "2023-09-06T21:51:52.493030800Z",
     "start_time": "2023-09-06T21:51:52.465030400Z"
    },
    "execution": {
     "iopub.execute_input": "2024-09-13T16:00:02.755254Z",
     "iopub.status.busy": "2024-09-13T16:00:02.755117Z",
     "iopub.status.idle": "2024-09-13T16:00:02.759971Z",
     "shell.execute_reply": "2024-09-13T16:00:02.759724Z"
    }
   },
   "outputs": [],
   "source": [
    "ev = Evaluator(function=evaluate_TNK)\n",
    "ev.function_kwargs = {\n",
    "    \"raise_probability\": 0.1\n",
    "}  # optional random crashing, to mimic real-world use."
   ]
  },
  {
   "cell_type": "code",
   "execution_count": null,
   "metadata": {
    "ExecuteTime": {
     "end_time": "2023-09-06T21:51:52.509029400Z",
     "start_time": "2023-09-06T21:51:52.495029300Z"
    },
    "execution": {
     "iopub.execute_input": "2024-09-13T16:00:02.761413Z",
     "iopub.status.busy": "2024-09-13T16:00:02.761328Z",
     "iopub.status.idle": "2024-09-13T16:00:02.763167Z",
     "shell.execute_reply": "2024-09-13T16:00:02.762928Z"
    }
   },
   "outputs": [],
   "source": [
    "X = Xopt(\n",
    "    generator=CNSGAGenerator(vocs=tnk_vocs),\n",
    "    evaluator=ev,\n",
    "    vocs=tnk_vocs,\n",
    ")\n",
    "X.strict = False"
   ]
  },
  {
   "cell_type": "markdown",
   "metadata": {
    "tags": []
   },
   "source": [
    "Run 100 generations"
   ]
  },
  {
   "cell_type": "code",
   "execution_count": null,
   "metadata": {
    "ExecuteTime": {
     "end_time": "2023-09-06T21:51:57.548278900Z",
     "start_time": "2023-09-06T21:51:52.510031300Z"
    },
    "execution": {
     "iopub.execute_input": "2024-09-13T16:00:02.764555Z",
     "iopub.status.busy": "2024-09-13T16:00:02.764469Z",
     "iopub.status.idle": "2024-09-13T16:00:04.262400Z",
     "shell.execute_reply": "2024-09-13T16:00:04.262090Z"
    }
   },
   "outputs": [],
   "source": [
    "%%time\n",
    "for _ in range(64 * 20):\n",
    "    X.step()"
   ]
  },
  {
   "cell_type": "markdown",
   "metadata": {},
   "source": [
    "# Plot "
   ]
  },
  {
   "cell_type": "code",
   "execution_count": null,
   "metadata": {
    "ExecuteTime": {
     "end_time": "2023-09-06T21:51:58.011277600Z",
     "start_time": "2023-09-06T21:51:57.986277600Z"
    },
    "execution": {
     "iopub.execute_input": "2024-09-13T16:00:04.283246Z",
     "iopub.status.busy": "2024-09-13T16:00:04.283105Z",
     "iopub.status.idle": "2024-09-13T16:00:04.285630Z",
     "shell.execute_reply": "2024-09-13T16:00:04.285358Z"
    }
   },
   "outputs": [],
   "source": [
    "def plot_population(X):\n",
    "    fig, ax = plt.subplots(figsize=(8, 8))\n",
    "\n",
    "    fdata = tnk_vocs.feasibility_data(X.data)\n",
    "\n",
    "    k1 = \"x1\"\n",
    "    k2 = \"x2\"\n",
    "\n",
    "    X.data.plot.scatter(k1, k2, marker=\".\", alpha=0.1, color=\"black\", ax=ax)\n",
    "    X.data[fdata[\"feasible\"]].plot.scatter(\n",
    "        k1, k2, marker=\"x\", alpha=0.3, color=\"orange\", ax=ax\n",
    "    )\n",
    "    X.generator.population.plot.scatter(k1, k2, marker=\"o\", color=\"red\", alpha=1, ax=ax)\n",
    "    ax.set_xlabel(k1)\n",
    "    ax.set_ylabel(k2)\n",
    "    ax.set_xlim(0, 1.5)\n",
    "    ax.set_ylim(0, 1.5)\n",
    "    ax.set_title(\"TNK with Xopt's CNSGA\")"
   ]
  },
  {
   "cell_type": "code",
   "execution_count": null,
   "metadata": {
    "ExecuteTime": {
     "end_time": "2023-09-06T21:51:58.283280100Z",
     "start_time": "2023-09-06T21:51:58.000279400Z"
    },
    "execution": {
     "iopub.execute_input": "2024-09-13T16:00:04.287031Z",
     "iopub.status.busy": "2024-09-13T16:00:04.286924Z",
     "iopub.status.idle": "2024-09-13T16:00:04.428891Z",
     "shell.execute_reply": "2024-09-13T16:00:04.428627Z"
    }
   },
   "outputs": [],
   "source": [
    "plot_population(X)"
   ]
  },
  {
   "cell_type": "markdown",
   "metadata": {},
   "source": [
    "Write the current population"
   ]
  },
  {
   "cell_type": "code",
   "execution_count": null,
   "metadata": {
    "ExecuteTime": {
     "end_time": "2023-09-06T21:51:58.316288Z",
     "start_time": "2023-09-06T21:51:58.285309200Z"
    },
    "execution": {
     "iopub.execute_input": "2024-09-13T16:00:04.430764Z",
     "iopub.status.busy": "2024-09-13T16:00:04.430654Z",
     "iopub.status.idle": "2024-09-13T16:00:04.436574Z",
     "shell.execute_reply": "2024-09-13T16:00:04.436346Z"
    }
   },
   "outputs": [],
   "source": [
    "X.generator.write_population(\"test.csv\")"
   ]
  },
  {
   "cell_type": "markdown",
   "metadata": {},
   "source": [
    "# YAML method"
   ]
  },
  {
   "cell_type": "code",
   "execution_count": null,
   "metadata": {
    "ExecuteTime": {
     "end_time": "2023-09-06T21:51:58.373278300Z",
     "start_time": "2023-09-06T21:51:58.316288Z"
    },
    "execution": {
     "iopub.execute_input": "2024-09-13T16:00:04.438007Z",
     "iopub.status.busy": "2024-09-13T16:00:04.437902Z",
     "iopub.status.idle": "2024-09-13T16:00:04.444599Z",
     "shell.execute_reply": "2024-09-13T16:00:04.444366Z"
    }
   },
   "outputs": [],
   "source": [
    "YAML = \"\"\"\n",
    "max_evaluations: 6400\n",
    "strict: False\n",
    "generator:\n",
    "    name: cnsga\n",
    "    population_size: 32\n",
    "    population_file: test.csv\n",
    "    output_path: .\n",
    "\n",
    "evaluator:\n",
    "    function: xopt.resources.test_functions.tnk.evaluate_TNK\n",
    "    function_kwargs:\n",
    "      raise_probability: 0.1\n",
    "\n",
    "vocs:\n",
    "    variables:\n",
    "        x1: [0, 3.14159]\n",
    "        x2: [0, 3.14159]\n",
    "    objectives: {y1: MINIMIZE, y2: MINIMIZE}\n",
    "    constraints:\n",
    "        c1: [GREATER_THAN, 0]\n",
    "        c2: [LESS_THAN, 0.5]\n",
    "    constants: {a: dummy_constant}\n",
    "\n",
    "\"\"\"\n",
    "\n",
    "X = Xopt(YAML)\n",
    "X"
   ]
  },
  {
   "cell_type": "markdown",
   "metadata": {},
   "source": [
    "This will have loaded children from the population file. These will need to be re-evaluated."
   ]
  },
  {
   "cell_type": "code",
   "execution_count": null,
   "metadata": {
    "ExecuteTime": {
     "end_time": "2023-09-06T21:51:58.416310600Z",
     "start_time": "2023-09-06T21:51:58.376279Z"
    },
    "execution": {
     "iopub.execute_input": "2024-09-13T16:00:04.445940Z",
     "iopub.status.busy": "2024-09-13T16:00:04.445855Z",
     "iopub.status.idle": "2024-09-13T16:00:04.447821Z",
     "shell.execute_reply": "2024-09-13T16:00:04.447595Z"
    }
   },
   "outputs": [],
   "source": [
    "len(X.generator._children)"
   ]
  },
  {
   "cell_type": "code",
   "execution_count": null,
   "metadata": {
    "ExecuteTime": {
     "end_time": "2023-09-06T21:52:00.028438300Z",
     "start_time": "2023-09-06T21:51:58.389282400Z"
    },
    "execution": {
     "iopub.execute_input": "2024-09-13T16:00:04.449135Z",
     "iopub.status.busy": "2024-09-13T16:00:04.449059Z",
     "iopub.status.idle": "2024-09-13T16:00:12.513591Z",
     "shell.execute_reply": "2024-09-13T16:00:12.513316Z"
    }
   },
   "outputs": [],
   "source": [
    "%%time\n",
    "X.run()"
   ]
  },
  {
   "cell_type": "code",
   "execution_count": null,
   "metadata": {
    "ExecuteTime": {
     "end_time": "2023-09-06T21:52:00.248435500Z",
     "start_time": "2023-09-06T21:52:00.026439100Z"
    },
    "execution": {
     "iopub.execute_input": "2024-09-13T16:00:12.514949Z",
     "iopub.status.busy": "2024-09-13T16:00:12.514843Z",
     "iopub.status.idle": "2024-09-13T16:00:12.676122Z",
     "shell.execute_reply": "2024-09-13T16:00:12.675844Z"
    }
   },
   "outputs": [],
   "source": [
    "plot_population(X)"
   ]
  },
  {
   "cell_type": "code",
   "execution_count": null,
   "metadata": {
    "ExecuteTime": {
     "end_time": "2023-09-06T21:52:00.283467500Z",
     "start_time": "2023-09-06T21:52:00.250437600Z"
    },
    "execution": {
     "iopub.execute_input": "2024-09-13T16:00:12.679960Z",
     "iopub.status.busy": "2024-09-13T16:00:12.679838Z",
     "iopub.status.idle": "2024-09-13T16:00:12.682027Z",
     "shell.execute_reply": "2024-09-13T16:00:12.681797Z"
    }
   },
   "outputs": [],
   "source": [
    "len(X.data)"
   ]
  },
  {
   "cell_type": "markdown",
   "metadata": {},
   "source": [
    "Setting `output_path` will write .csv files for each population, as well as the offspring considered in each generation"
   ]
  },
  {
   "cell_type": "code",
   "execution_count": null,
   "metadata": {
    "ExecuteTime": {
     "end_time": "2023-09-06T21:52:00.284436600Z",
     "start_time": "2023-09-06T21:52:00.264435700Z"
    },
    "execution": {
     "iopub.execute_input": "2024-09-13T16:00:12.683493Z",
     "iopub.status.busy": "2024-09-13T16:00:12.683383Z",
     "iopub.status.idle": "2024-09-13T16:00:12.685782Z",
     "shell.execute_reply": "2024-09-13T16:00:12.685583Z"
    }
   },
   "outputs": [],
   "source": [
    "pop_files = sorted(glob(\"cnsga_population*\"))\n",
    "pop_files[:10]"
   ]
  },
  {
   "cell_type": "code",
   "execution_count": null,
   "metadata": {
    "ExecuteTime": {
     "end_time": "2023-09-06T21:52:00.295436300Z",
     "start_time": "2023-09-06T21:52:00.280436100Z"
    },
    "execution": {
     "iopub.execute_input": "2024-09-13T16:00:12.687091Z",
     "iopub.status.busy": "2024-09-13T16:00:12.686989Z",
     "iopub.status.idle": "2024-09-13T16:00:12.689402Z",
     "shell.execute_reply": "2024-09-13T16:00:12.689121Z"
    },
    "tags": []
   },
   "outputs": [],
   "source": [
    "offspring_files = sorted(glob(\"cnsga_offspring*\"))\n",
    "offspring_files[0:10]"
   ]
  },
  {
   "cell_type": "code",
   "execution_count": null,
   "metadata": {
    "ExecuteTime": {
     "end_time": "2023-09-06T21:52:00.412434900Z",
     "start_time": "2023-09-06T21:52:00.294436Z"
    },
    "execution": {
     "iopub.execute_input": "2024-09-13T16:00:12.690731Z",
     "iopub.status.busy": "2024-09-13T16:00:12.690639Z",
     "iopub.status.idle": "2024-09-13T16:00:12.756141Z",
     "shell.execute_reply": "2024-09-13T16:00:12.755882Z"
    }
   },
   "outputs": [],
   "source": [
    "pop_df = read_xopt_csv(pop_files[-1])\n",
    "pop_df.plot.scatter(\"x1\", \"x2\", marker=\"o\", color=\"red\", alpha=1)"
   ]
  },
  {
   "cell_type": "markdown",
   "metadata": {
    "tags": []
   },
   "source": [
    "Similarly, offsrping files can be loaded. This will load the last few:"
   ]
  },
  {
   "cell_type": "code",
   "execution_count": null,
   "metadata": {
    "execution": {
     "iopub.execute_input": "2024-09-13T16:00:12.757854Z",
     "iopub.status.busy": "2024-09-13T16:00:12.757734Z",
     "iopub.status.idle": "2024-09-13T16:00:12.840341Z",
     "shell.execute_reply": "2024-09-13T16:00:12.840075Z"
    },
    "tags": []
   },
   "outputs": [],
   "source": [
    "offspring_df = read_xopt_csv(*offspring_files[-10:])\n",
    "offspring_df.plot.scatter(\"x1\", \"x2\", marker=\".\", color=\"black\", alpha=0.1)"
   ]
  },
  {
   "cell_type": "markdown",
   "metadata": {},
   "source": [
    "Occationally there are duplicates in offspring"
   ]
  },
  {
   "cell_type": "code",
   "execution_count": null,
   "metadata": {
    "execution": {
     "iopub.execute_input": "2024-09-13T16:00:12.841961Z",
     "iopub.status.busy": "2024-09-13T16:00:12.841848Z",
     "iopub.status.idle": "2024-09-13T16:00:12.906879Z",
     "shell.execute_reply": "2024-09-13T16:00:12.906594Z"
    },
    "tags": []
   },
   "outputs": [],
   "source": [
    "all_offspring = read_xopt_csv(*offspring_files)\n",
    "len(all_offspring), len(all_offspring.drop_duplicates())"
   ]
  },
  {
   "cell_type": "code",
   "execution_count": null,
   "metadata": {
    "execution": {
     "iopub.execute_input": "2024-09-13T16:00:12.908464Z",
     "iopub.status.busy": "2024-09-13T16:00:12.908347Z",
     "iopub.status.idle": "2024-09-13T16:00:13.302556Z",
     "shell.execute_reply": "2024-09-13T16:00:13.301941Z"
    }
   },
   "outputs": [],
   "source": [
    "# Cleanup\n",
    "!rm cnsga_population*\n",
    "!rm cnsga_offspring*\n",
    "!rm test.csv"
   ]
  },
  {
   "cell_type": "markdown",
   "metadata": {},
   "source": [
    "# Examine generator"
   ]
  },
  {
   "cell_type": "code",
   "execution_count": null,
   "metadata": {
    "execution": {
     "iopub.execute_input": "2024-09-13T16:00:13.305396Z",
     "iopub.status.busy": "2024-09-13T16:00:13.305190Z",
     "iopub.status.idle": "2024-09-13T16:00:13.438995Z",
     "shell.execute_reply": "2024-09-13T16:00:13.438672Z"
    }
   },
   "outputs": [],
   "source": [
    "df = pd.DataFrame(X.generator.generate(1000))\n",
    "\n",
    "fig, ax = plt.subplots()\n",
    "df.plot.scatter(\n",
    "    \"x1\", \"x2\", marker=\".\", color=\"green\", alpha=0.5, ax=ax, label=\"candidates\"\n",
    ")\n",
    "pop_df.plot.scatter(\n",
    "    \"x1\", \"x2\", marker=\"o\", color=\"red\", alpha=1, ax=ax, label=\"population\"\n",
    ")\n",
    "plt.legend()"
   ]
  },
  {
   "cell_type": "markdown",
   "metadata": {},
   "source": [
    "# Vectorized evaluation\n",
    "\n",
    "Some functions also allow vectorized inputs. This can often be very fast.\n",
    "\n",
    "However, vectorized evaluation has some restrictions. For example, the output dict cannot append additional arrays with odd lengths."
   ]
  },
  {
   "cell_type": "code",
   "execution_count": null,
   "metadata": {
    "execution": {
     "iopub.execute_input": "2024-09-13T16:00:13.440603Z",
     "iopub.status.busy": "2024-09-13T16:00:13.440494Z",
     "iopub.status.idle": "2024-09-13T16:00:13.442758Z",
     "shell.execute_reply": "2024-09-13T16:00:13.442553Z"
    }
   },
   "outputs": [],
   "source": [
    "# Notice that this returns `some_array`\n",
    "evaluate_TNK({\"x1\": 1, \"x2\": 1})"
   ]
  },
  {
   "cell_type": "code",
   "execution_count": null,
   "metadata": {
    "execution": {
     "iopub.execute_input": "2024-09-13T16:00:13.444045Z",
     "iopub.status.busy": "2024-09-13T16:00:13.443955Z",
     "iopub.status.idle": "2024-09-13T16:00:13.445644Z",
     "shell.execute_reply": "2024-09-13T16:00:13.445440Z"
    }
   },
   "outputs": [],
   "source": [
    "# Here we make a version that does not have this\n",
    "def evaluate_TNK2(*args, **kwargs):\n",
    "    outputs = evaluate_TNK(*args, **kwargs)\n",
    "    outputs.pop(\"some_array\")\n",
    "    return outputs"
   ]
  },
  {
   "cell_type": "code",
   "execution_count": null,
   "metadata": {
    "execution": {
     "iopub.execute_input": "2024-09-13T16:00:13.446869Z",
     "iopub.status.busy": "2024-09-13T16:00:13.446796Z",
     "iopub.status.idle": "2024-09-13T16:00:13.780954Z",
     "shell.execute_reply": "2024-09-13T16:00:13.780631Z"
    }
   },
   "outputs": [],
   "source": [
    "YAML = \"\"\"\n",
    "max_evaluations: 6400\n",
    "strict: False\n",
    "generator:\n",
    "    name: cnsga\n",
    "    population_size: 32\n",
    "\n",
    "evaluator:\n",
    "    function: __main__.evaluate_TNK2\n",
    "    function_kwargs:\n",
    "      raise_probability: 0.1\n",
    "    vectorized: True\n",
    "    max_workers: 32\n",
    "\n",
    "vocs:\n",
    "    variables:\n",
    "        x1: [0, 3.14159]\n",
    "        x2: [0, 3.14159]\n",
    "    objectives: {y1: MINIMIZE, y2: MINIMIZE}\n",
    "    constraints:\n",
    "        c1: [GREATER_THAN, 0]\n",
    "        c2: [LESS_THAN, 0.5]\n",
    "    constants: {a: dummy_constant}\n",
    "\n",
    "\"\"\"\n",
    "\n",
    "\n",
    "X2 = Xopt.from_yaml(YAML)\n",
    "X2.evaluator.function = evaluate_TNK2\n",
    "\n",
    "X2.run()\n",
    "\n",
    "len(X2.data)"
   ]
  },
  {
   "cell_type": "code",
   "execution_count": null,
   "metadata": {
    "execution": {
     "iopub.execute_input": "2024-09-13T16:00:13.782675Z",
     "iopub.status.busy": "2024-09-13T16:00:13.782545Z",
     "iopub.status.idle": "2024-09-13T16:00:13.945257Z",
     "shell.execute_reply": "2024-09-13T16:00:13.945001Z"
    },
    "tags": []
   },
   "outputs": [],
   "source": [
    "plot_population(X)"
   ]
  }
 ],
 "metadata": {
  "interpreter": {
   "hash": "72034539424920dfb606fe3b820b3f27dca0cbf1c69938110810ec4641e275b1"
  },
  "kernelspec": {
   "display_name": "Python 3 (ipykernel)",
   "language": "python",
   "name": "python3"
  },
  "language_info": {
   "codemirror_mode": {
    "name": "ipython",
    "version": 3
   },
   "file_extension": ".py",
   "mimetype": "text/x-python",
   "name": "python",
   "nbconvert_exporter": "python",
   "pygments_lexer": "ipython3",
   "version": "3.12.6"
  }
 },
 "nbformat": 4,
 "nbformat_minor": 4
}
