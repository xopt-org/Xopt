{
 "cells": [
  {
   "cell_type": "markdown",
   "metadata": {},
   "source": [
    "# Xopt CNSGA algorithm"
   ]
  },
  {
   "cell_type": "code",
   "execution_count": 1,
   "metadata": {},
   "outputs": [],
   "source": []
  },
  {
   "cell_type": "code",
   "execution_count": 2,
   "metadata": {
    "ExecuteTime": {
     "end_time": "2023-09-06T21:51:52.453021600Z",
     "start_time": "2023-09-06T21:51:49.273323Z"
    }
   },
   "outputs": [],
   "source": [
    "from xopt.generators.ga.cnsga import CNSGAGenerator\n",
    "\n",
    "from xopt.resources.test_functions.tnk import evaluate_TNK, tnk_vocs\n",
    "\n",
    "from xopt.utils import read_xopt_csv\n",
    "\n",
    "from xopt import Xopt, Evaluator\n",
    "\n",
    "import pandas as pd\n",
    "\n",
    "from glob import glob\n",
    "\n",
    "import matplotlib.pyplot as plt"
   ]
  },
  {
   "cell_type": "code",
   "execution_count": 3,
   "metadata": {
    "ExecuteTime": {
     "end_time": "2023-09-06T21:51:52.469030800Z",
     "start_time": "2023-09-06T21:51:52.449951900Z"
    }
   },
   "outputs": [],
   "source": [
    "# Useful for debugging\n",
    "# %load_ext autoreload\n",
    "# %autoreload 2"
   ]
  },
  {
   "cell_type": "code",
   "execution_count": 4,
   "metadata": {
    "ExecuteTime": {
     "end_time": "2023-09-06T21:51:52.493030800Z",
     "start_time": "2023-09-06T21:51:52.465030400Z"
    }
   },
   "outputs": [],
   "source": [
    "ev = Evaluator(function=evaluate_TNK)\n",
    "ev.function_kwargs = {\n",
    "    \"raise_probability\": 0.1\n",
    "}  # optional random crashing, to mimic real-world use."
   ]
  },
  {
   "cell_type": "code",
   "execution_count": 5,
   "metadata": {
    "ExecuteTime": {
     "end_time": "2023-09-06T21:51:52.509029400Z",
     "start_time": "2023-09-06T21:51:52.495029300Z"
    }
   },
   "outputs": [],
   "source": [
    "X = Xopt(\n",
    "    generator=CNSGAGenerator(vocs=tnk_vocs, output_path=\".\"),\n",
    "    evaluator=ev,\n",
    "    vocs=tnk_vocs,\n",
    ")\n",
    "X.strict = False"
   ]
  },
  {
   "cell_type": "markdown",
   "metadata": {
    "tags": []
   },
   "source": [
    "Run 100 generations"
   ]
  },
  {
   "cell_type": "code",
   "execution_count": 6,
   "metadata": {
    "ExecuteTime": {
     "end_time": "2023-09-06T21:51:57.548278900Z",
     "start_time": "2023-09-06T21:51:52.510031300Z"
    }
   },
   "outputs": [
    {
     "name": "stdout",
     "output_type": "stream",
     "text": [
      "CPU times: total: 3.97 s\n",
      "Wall time: 3.96 s\n"
     ]
    }
   ],
   "source": [
    "%%time\n",
    "for _ in range(64 * 20):\n",
    "    X.step()"
   ]
  },
  {
   "cell_type": "markdown",
   "metadata": {},
   "source": [
    "# Plot "
   ]
  },
  {
   "cell_type": "code",
   "execution_count": 7,
   "metadata": {
    "ExecuteTime": {
     "end_time": "2023-09-06T21:51:58.283280100Z",
     "start_time": "2023-09-06T21:51:58.000279400Z"
    }
   },
   "outputs": [
    {
     "name": "stdout",
     "output_type": "stream",
     "text": [
      ".\\cnsga_population_2025-02-05T15_20_03.754629-05_00.csv\n"
     ]
    },
    {
     "data": {
      "application/vnd.jupyter.widget-view+json": {
       "model_id": "701d941b81fc4290ab533a02ef8b5f86",
       "version_major": 2,
       "version_minor": 0
      },
      "text/plain": [
       "VBox(children=(HBox(children=(HBox(children=(VBox(children=(HBox(children=(Label(value='Select files (hold Ctr…"
      ]
     },
     "metadata": {},
     "output_type": "display_data"
    },
    {
     "data": {
      "text/plain": [
       "<xopt.generators.ga.visualization.CNSGA_GUI at 0x1caffa5e7e0>"
      ]
     },
     "execution_count": 7,
     "metadata": {},
     "output_type": "execute_result"
    }
   ],
   "source": [
    "%load_ext autoreload\n",
    "%autoreload 2\n",
    "%matplotlib widget\n",
    "X.generator.visualize()"
   ]
  },
  {
   "cell_type": "markdown",
   "metadata": {},
   "source": [
    "Write the current population"
   ]
  },
  {
   "cell_type": "code",
   "execution_count": null,
   "metadata": {
    "ExecuteTime": {
     "end_time": "2023-09-06T21:51:58.316288Z",
     "start_time": "2023-09-06T21:51:58.285309200Z"
    }
   },
   "outputs": [],
   "source": [
    "X.generator.write_population(\"test.csv\")"
   ]
  },
  {
   "cell_type": "markdown",
   "metadata": {},
   "source": [
    "# YAML method"
   ]
  },
  {
   "cell_type": "code",
   "execution_count": null,
   "metadata": {
    "ExecuteTime": {
     "end_time": "2023-09-06T21:51:58.373278300Z",
     "start_time": "2023-09-06T21:51:58.316288Z"
    }
   },
   "outputs": [],
   "source": [
    "YAML = \"\"\"\n",
    "max_evaluations: 6400\n",
    "strict: False\n",
    "generator:\n",
    "    name: cnsga\n",
    "    population_size: 32\n",
    "    population_file: test.csv\n",
    "    output_path: .\n",
    "\n",
    "evaluator:\n",
    "    function: xopt.resources.test_functions.tnk.evaluate_TNK\n",
    "    function_kwargs:\n",
    "      raise_probability: 0.1\n",
    "\n",
    "vocs:\n",
    "    variables:\n",
    "        x1: [0, 3.14159]\n",
    "        x2: [0, 3.14159]\n",
    "    objectives: {y1: MINIMIZE, y2: MINIMIZE}\n",
    "    constraints:\n",
    "        c1: [GREATER_THAN, 0]\n",
    "        c2: [LESS_THAN, 0.5]\n",
    "    constants: {a: dummy_constant}\n",
    "\n",
    "\"\"\"\n",
    "\n",
    "X = Xopt(YAML)\n",
    "X"
   ]
  },
  {
   "cell_type": "markdown",
   "metadata": {},
   "source": [
    "This will have loaded children from the population file. These will need to be re-evaluated."
   ]
  },
  {
   "cell_type": "code",
   "execution_count": null,
   "metadata": {
    "ExecuteTime": {
     "end_time": "2023-09-06T21:51:58.416310600Z",
     "start_time": "2023-09-06T21:51:58.376279Z"
    }
   },
   "outputs": [],
   "source": [
    "len(X.generator._children)"
   ]
  },
  {
   "cell_type": "code",
   "execution_count": null,
   "metadata": {
    "ExecuteTime": {
     "end_time": "2023-09-06T21:52:00.028438300Z",
     "start_time": "2023-09-06T21:51:58.389282400Z"
    }
   },
   "outputs": [],
   "source": [
    "%%time\n",
    "X.run()"
   ]
  },
  {
   "cell_type": "code",
   "execution_count": null,
   "metadata": {
    "ExecuteTime": {
     "end_time": "2023-09-06T21:52:00.248435500Z",
     "start_time": "2023-09-06T21:52:00.026439100Z"
    }
   },
   "outputs": [],
   "source": [
    "plot_population(X)"
   ]
  },
  {
   "cell_type": "code",
   "execution_count": null,
   "metadata": {
    "ExecuteTime": {
     "end_time": "2023-09-06T21:52:00.283467500Z",
     "start_time": "2023-09-06T21:52:00.250437600Z"
    }
   },
   "outputs": [],
   "source": [
    "len(X.data)"
   ]
  },
  {
   "cell_type": "markdown",
   "metadata": {},
   "source": [
    "Setting `output_path` will write .csv files for each population, as well as the offspring considered in each generation"
   ]
  },
  {
   "cell_type": "code",
   "execution_count": null,
   "metadata": {
    "ExecuteTime": {
     "end_time": "2023-09-06T21:52:00.284436600Z",
     "start_time": "2023-09-06T21:52:00.264435700Z"
    }
   },
   "outputs": [],
   "source": [
    "pop_files = sorted(glob(\"cnsga_population*\"))\n",
    "pop_files[:10]"
   ]
  },
  {
   "cell_type": "code",
   "execution_count": null,
   "metadata": {
    "ExecuteTime": {
     "end_time": "2023-09-06T21:52:00.295436300Z",
     "start_time": "2023-09-06T21:52:00.280436100Z"
    },
    "tags": []
   },
   "outputs": [],
   "source": [
    "offspring_files = sorted(glob(\"cnsga_offspring*\"))\n",
    "offspring_files[0:10]"
   ]
  },
  {
   "cell_type": "code",
   "execution_count": null,
   "metadata": {
    "ExecuteTime": {
     "end_time": "2023-09-06T21:52:00.412434900Z",
     "start_time": "2023-09-06T21:52:00.294436Z"
    }
   },
   "outputs": [],
   "source": [
    "pop_df = read_xopt_csv(pop_files[-1])\n",
    "pop_df.plot.scatter(\"x1\", \"x2\", marker=\"o\", color=\"red\", alpha=1)"
   ]
  },
  {
   "cell_type": "markdown",
   "metadata": {
    "tags": []
   },
   "source": [
    "Similarly, offsrping files can be loaded. This will load the last few:"
   ]
  },
  {
   "cell_type": "code",
   "execution_count": null,
   "metadata": {
    "tags": []
   },
   "outputs": [],
   "source": [
    "offspring_df = read_xopt_csv(*offspring_files[-10:])\n",
    "offspring_df.plot.scatter(\"x1\", \"x2\", marker=\".\", color=\"black\", alpha=0.1)"
   ]
  },
  {
   "cell_type": "markdown",
   "metadata": {},
   "source": [
    "Occationally there are duplicates in offspring"
   ]
  },
  {
   "cell_type": "code",
   "execution_count": null,
   "metadata": {
    "tags": []
   },
   "outputs": [],
   "source": [
    "all_offspring = read_xopt_csv(*offspring_files)\n",
    "len(all_offspring), len(all_offspring.drop_duplicates())"
   ]
  },
  {
   "cell_type": "code",
   "execution_count": null,
   "metadata": {},
   "outputs": [],
   "source": [
    "# Cleanup\n",
    "!rm cnsga_population*\n",
    "!rm cnsga_offspring*\n",
    "!rm test.csv"
   ]
  },
  {
   "cell_type": "markdown",
   "metadata": {},
   "source": [
    "# Examine generator"
   ]
  },
  {
   "cell_type": "code",
   "execution_count": null,
   "metadata": {},
   "outputs": [],
   "source": [
    "df = pd.DataFrame(X.generator.generate(1000))\n",
    "\n",
    "fig, ax = plt.subplots()\n",
    "df.plot.scatter(\n",
    "    \"x1\", \"x2\", marker=\".\", color=\"green\", alpha=0.5, ax=ax, label=\"candidates\"\n",
    ")\n",
    "pop_df.plot.scatter(\n",
    "    \"x1\", \"x2\", marker=\"o\", color=\"red\", alpha=1, ax=ax, label=\"population\"\n",
    ")\n",
    "plt.legend()"
   ]
  },
  {
   "cell_type": "markdown",
   "metadata": {},
   "source": [
    "# Vectorized evaluation\n",
    "\n",
    "Some functions also allow vectorized inputs. This can often be very fast.\n",
    "\n",
    "However, vectorized evaluation has some restrictions. For example, the output dict cannot append additional arrays with odd lengths."
   ]
  },
  {
   "cell_type": "code",
   "execution_count": null,
   "metadata": {},
   "outputs": [],
   "source": [
    "# Notice that this returns `some_array`\n",
    "evaluate_TNK({\"x1\": 1, \"x2\": 1})"
   ]
  },
  {
   "cell_type": "code",
   "execution_count": null,
   "metadata": {},
   "outputs": [],
   "source": [
    "# Here we make a version that does not have this\n",
    "def evaluate_TNK2(*args, **kwargs):\n",
    "    outputs = evaluate_TNK(*args, **kwargs)\n",
    "    outputs.pop(\"some_array\")\n",
    "    return outputs"
   ]
  },
  {
   "cell_type": "code",
   "execution_count": null,
   "metadata": {},
   "outputs": [],
   "source": [
    "YAML = \"\"\"\n",
    "max_evaluations: 6400\n",
    "strict: False\n",
    "generator:\n",
    "    name: cnsga\n",
    "    population_size: 32\n",
    "\n",
    "evaluator:\n",
    "    function: __main__.evaluate_TNK2\n",
    "    function_kwargs:\n",
    "      raise_probability: 0.1\n",
    "    vectorized: True\n",
    "    max_workers: 32\n",
    "\n",
    "vocs:\n",
    "    variables:\n",
    "        x1: [0, 3.14159]\n",
    "        x2: [0, 3.14159]\n",
    "    objectives: {y1: MINIMIZE, y2: MINIMIZE}\n",
    "    constraints:\n",
    "        c1: [GREATER_THAN, 0]\n",
    "        c2: [LESS_THAN, 0.5]\n",
    "    constants: {a: dummy_constant}\n",
    "\n",
    "\"\"\"\n",
    "\n",
    "\n",
    "X2 = Xopt.from_yaml(YAML)\n",
    "X2.evaluator.function = evaluate_TNK2\n",
    "\n",
    "X2.run()\n",
    "\n",
    "len(X2.data)"
   ]
  },
  {
   "cell_type": "code",
   "execution_count": null,
   "metadata": {
    "tags": []
   },
   "outputs": [],
   "source": [
    "plot_population(X)"
   ]
  }
 ],
 "metadata": {
  "interpreter": {
   "hash": "72034539424920dfb606fe3b820b3f27dca0cbf1c69938110810ec4641e275b1"
  },
  "kernelspec": {
   "display_name": "Python 3 (ipykernel)",
   "language": "python",
   "name": "python3"
  },
  "language_info": {
   "codemirror_mode": {
    "name": "ipython",
    "version": 3
   },
   "file_extension": ".py",
   "mimetype": "text/x-python",
   "name": "python",
   "nbconvert_exporter": "python",
   "pygments_lexer": "ipython3",
   "version": "3.12.0"
  }
 },
 "nbformat": 4,
 "nbformat_minor": 4
}
