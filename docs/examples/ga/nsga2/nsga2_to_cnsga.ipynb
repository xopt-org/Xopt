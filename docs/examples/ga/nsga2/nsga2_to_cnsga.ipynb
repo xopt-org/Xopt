{
 "cells": [
  {
   "cell_type": "markdown",
   "id": "8b8fba41",
   "metadata": {},
   "source": [
    "# Output Conversion to `CNSGAGenerator` Style\n",
    "This notebook demonstrates the use of the utility function `nsga2_to_cnsga_file_format`.\n",
    "This tool converts the file output from `NSGA2Generator` into the directory of timestamped files format used in `CNSGAGenerator`.\n",
    "Backwards compatibility with existing analysis codes is enabled through this function."
   ]
  },
  {
   "cell_type": "code",
   "execution_count": null,
   "id": "c48ea748",
   "metadata": {},
   "outputs": [],
   "source": [
    "from glob import glob\n",
    "import logging\n",
    "import os\n",
    "import shutil\n",
    "import tempfile\n",
    "\n",
    "from xopt import Xopt, Evaluator\n",
    "from xopt.generators.ga.nsga2 import NSGA2Generator\n",
    "from xopt.resources.test_functions.zdt import construct_zdt\n",
    "from xopt.utils import read_xopt_csv, nsga2_to_cnsga_file_format"
   ]
  },
  {
   "cell_type": "markdown",
   "id": "4b427e4d",
   "metadata": {},
   "source": [
    "## Generating Data\n",
    "First, we will run the optimization algorithm on a test problem and output data to a temporary directory (this will be cleaned up at the end of the notebook)."
   ]
  },
  {
   "cell_type": "code",
   "execution_count": null,
   "id": "b1558884",
   "metadata": {},
   "outputs": [],
   "source": [
    "# Get the problem ZDT2 and create an Xopt evaluator\n",
    "prob_vocs, prob_fun, _ = construct_zdt(30, 3)\n",
    "ev = Evaluator(function=prob_fun)"
   ]
  },
  {
   "cell_type": "code",
   "execution_count": null,
   "id": "00a395c7",
   "metadata": {},
   "outputs": [],
   "source": [
    "# Setup our output directory\n",
    "output_dir = tempfile.mkdtemp()\n",
    "print(f'Will write data to \"{output_dir}\"')"
   ]
  },
  {
   "cell_type": "code",
   "execution_count": null,
   "id": "0c8680d1",
   "metadata": {},
   "outputs": [],
   "source": [
    "# Set up a generator configured to output data\n",
    "generator = NSGA2Generator(\n",
    "    vocs=prob_vocs,\n",
    "    output_dir=output_dir,\n",
    "    checkpoint_freq=8,\n",
    ")\n",
    "\n",
    "# Run it for a couple of generations\n",
    "ev.max_workers = generator.population_size\n",
    "X = Xopt(generator=generator, evaluator=ev, vocs=prob_vocs)\n",
    "for _ in range(64):\n",
    "    X.step()"
   ]
  },
  {
   "cell_type": "markdown",
   "id": "1dc91edc",
   "metadata": {},
   "source": [
    "## Output Conversion\n",
    "Here, we take the output from `NSGA2Generator` and convert it to the format used by `CNSGAGenerator`.\n",
    "\n",
    "**Note**: The dates displayed in the filenames are the epoch datetime plus the generation index in seconds. This guarantees reproducible results from the same optimization data. IE, using the date and time the files were converted or the last modification date of the population file give results that depend on when the converter tool was run or when the last population was saved from the optimizer. This causes problems when the converter is run more than once (such as for continuously plotting data) as filenames will change and existing converted files may be duplicated."
   ]
  },
  {
   "cell_type": "code",
   "execution_count": null,
   "id": "d9e3d067",
   "metadata": {},
   "outputs": [],
   "source": [
    "# Configure the logging module to output them to console\n",
    "logging.basicConfig(\n",
    "    level=logging.INFO,\n",
    "    format=\"%(asctime)s - %(levelname)s - %(message)s\",  # Format for log messages\n",
    "    datefmt=\"%Y-%m-%d %H:%M:%S\",  # Date/time format\n",
    ")"
   ]
  },
  {
   "cell_type": "code",
   "execution_count": null,
   "id": "581985f9",
   "metadata": {},
   "outputs": [],
   "source": [
    "# Make a new directory for the converted data\n",
    "conv_dir = tempfile.mkdtemp()\n",
    "print(f'Will write converted data to \"{conv_dir}\"')"
   ]
  },
  {
   "cell_type": "code",
   "execution_count": null,
   "id": "20d3b252",
   "metadata": {},
   "outputs": [],
   "source": [
    "# Perform the conversion\n",
    "nsga2_to_cnsga_file_format(output_dir, conv_dir)"
   ]
  },
  {
   "cell_type": "code",
   "execution_count": null,
   "id": "e28ee399",
   "metadata": {},
   "outputs": [],
   "source": [
    "# Load population files\n",
    "pop_files = sorted(glob(f\"{conv_dir}/cnsga_population*\"))\n",
    "pop_files[-5:]"
   ]
  },
  {
   "cell_type": "code",
   "execution_count": null,
   "id": "2bab358e",
   "metadata": {},
   "outputs": [],
   "source": [
    "# Load offspring files\n",
    "off_files = sorted(glob(f\"{conv_dir}/cnsga_offspring*\"))\n",
    "off_files[-5:]"
   ]
  },
  {
   "cell_type": "code",
   "execution_count": null,
   "id": "d7cd09da",
   "metadata": {},
   "outputs": [],
   "source": [
    "# Load data back in and plot Pareto front\n",
    "pop_df = read_xopt_csv(pop_files[-1])\n",
    "pop_df.plot.scatter(\"f1\", \"f2\", marker=\"o\")"
   ]
  },
  {
   "cell_type": "markdown",
   "id": "1c61abba",
   "metadata": {},
   "source": [
    "## Partial Conversion\n",
    "Sometimes the output files from the optimizer can be large.\n",
    "For better performance in plotting only the final few generations, the conversion tool includes a feature to only convert the last $n$ lines of `populations.csv` and `data.csv`.\n",
    "When used, no lines except the last few are even read into memory."
   ]
  },
  {
   "cell_type": "code",
   "execution_count": null,
   "id": "f56d61c6",
   "metadata": {},
   "outputs": [],
   "source": [
    "# Make a new directory for the converted data\n",
    "conv_partial_dir = tempfile.mkdtemp()\n",
    "print(f'Will write converted data to \"{conv_partial_dir}\"')"
   ]
  },
  {
   "cell_type": "code",
   "execution_count": null,
   "id": "c737bd3c",
   "metadata": {},
   "outputs": [],
   "source": [
    "# Perform the conversion (aim for last 4 generations; population_size=50)\n",
    "nsga2_to_cnsga_file_format(output_dir, conv_partial_dir, last_n_lines=200)"
   ]
  },
  {
   "cell_type": "code",
   "execution_count": null,
   "id": "93f1ccdf",
   "metadata": {},
   "outputs": [],
   "source": [
    "# Show number of generations output (number of files = 2*generations)\n",
    "print(f\"Number of generations (full conversion): {len(os.listdir(conv_dir)) // 2}\")\n",
    "print(\n",
    "    f\"Number of generations (partial conversion): {len(os.listdir(conv_partial_dir)) // 2}\"\n",
    ")"
   ]
  },
  {
   "cell_type": "code",
   "execution_count": null,
   "id": "752b74b3",
   "metadata": {},
   "outputs": [],
   "source": [
    "# Plot the final converted generation\n",
    "pop_df = read_xopt_csv(sorted(glob(f\"{conv_partial_dir}/cnsga_population*\"))[-1])\n",
    "pop_df.plot.scatter(\"f1\", \"f2\", marker=\"o\")"
   ]
  },
  {
   "cell_type": "markdown",
   "id": "c183c702",
   "metadata": {},
   "source": [
    "## Clean Up Directories\n",
    "We will now clean up the temporary directories we created."
   ]
  },
  {
   "cell_type": "code",
   "execution_count": null,
   "id": "0294308a",
   "metadata": {},
   "outputs": [],
   "source": [
    "# Remove temp dirs\n",
    "shutil.rmtree(output_dir)\n",
    "shutil.rmtree(conv_dir)\n",
    "shutil.rmtree(conv_partial_dir)"
   ]
  }
 ],
 "metadata": {
  "kernelspec": {
   "display_name": "xopt-dev",
   "language": "python",
   "name": "python3"
  },
  "language_info": {
   "codemirror_mode": {
    "name": "ipython",
    "version": 3
   },
   "file_extension": ".py",
   "mimetype": "text/x-python",
   "name": "python",
   "nbconvert_exporter": "python",
   "pygments_lexer": "ipython3",
   "version": "3.12.0"
  }
 },
 "nbformat": 4,
 "nbformat_minor": 5
}
