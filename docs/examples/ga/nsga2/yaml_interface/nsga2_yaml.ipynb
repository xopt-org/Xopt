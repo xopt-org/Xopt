{
 "cells": [
  {
   "cell_type": "markdown",
   "id": "3ef0db5a",
   "metadata": {},
   "source": [
    "# Companion Notebook\n",
    "The `NSGA2Generator` can be run on multi-objective optimization problems purely from Xopt's YAML configuration files. This notebook demonstrates how to set up the configuration file, how to run the optimization algorithm, and how to load the data into python and plot the results. At the end, we demonstrate how to restart an optimization from one of `NSGA2Generator`'s checkpoint files."
   ]
  },
  {
   "cell_type": "code",
   "execution_count": null,
   "id": "e0e58f8b",
   "metadata": {},
   "outputs": [],
   "source": [
    "import matplotlib.pyplot as plt\n",
    "import pandas as pd\n",
    "import shutil"
   ]
  },
  {
   "cell_type": "markdown",
   "id": "375c6ccc",
   "metadata": {},
   "source": [
    "## Calling the Xopt Runner CLI Tool\n",
    "Xopt includes a tool caled `xopt-run` which will load the Xopt object from the YAML configuration file and call `Xopt.run()` on it to perform the optimization until the termination condition is achieved."
   ]
  },
  {
   "cell_type": "code",
   "execution_count": null,
   "id": "f558bceb",
   "metadata": {},
   "outputs": [],
   "source": [
    "# Run the optimizer (will take ~30s)\n",
    "# We will run from the example directory containing `eval_fun.py` which is imported during our xopt run\n",
    "! cd assets/yaml_runner_example && xopt-run nsga2_zdt3.yml "
   ]
  },
  {
   "cell_type": "markdown",
   "id": "57cf353a",
   "metadata": {},
   "source": [
    "## Loading and Plotting Data\n",
    "The YAML file specified that data will be output to the directory `nsga2_output` within the working directory of the script (ie `assets/yaml_runner_example`). In here, there will be several files.\n",
    "- `populations.csv`: Each completed population is recorded to this file\n",
    "- `data.csv`: Contains all evaluated inviduals\n",
    "- `log.txt`: A record of all log messages the genreator emitted during its run\n",
    "- `vocs.txt`: A copy of the variable, objectives, and constraints (VOCs) definitions\n",
    "- `checkpoints/`: This directory contains checkpoint files which are used with the `checkpoint_file` key of the generator to restart an optimization."
   ]
  },
  {
   "cell_type": "code",
   "execution_count": null,
   "id": "4ddf0b70",
   "metadata": {},
   "outputs": [],
   "source": [
    "# Load every generation\n",
    "df = pd.read_csv(\"assets/yaml_runner_example/nsga2_output/populations.csv\")\n",
    "df.head()"
   ]
  },
  {
   "cell_type": "code",
   "execution_count": null,
   "id": "631dbcba",
   "metadata": {},
   "outputs": [],
   "source": [
    "# Grab just the final generation\n",
    "last_gen = df[df[\"xopt_generation\"] == df[\"xopt_generation\"].max()]\n",
    "last_gen.head()"
   ]
  },
  {
   "cell_type": "code",
   "execution_count": null,
   "id": "3378f3e4",
   "metadata": {},
   "outputs": [],
   "source": [
    "# Plot the objectives\n",
    "plt.scatter(last_gen[\"f1\"], last_gen[\"f2\"])\n",
    "plt.xlabel(\"f1 (unitless)\")\n",
    "plt.ylabel(\"f2 (unitless)\")\n",
    "plt.title(f\"Generation {last_gen['xopt_generation'].max()}\")"
   ]
  },
  {
   "cell_type": "markdown",
   "id": "9ec50b9d",
   "metadata": {},
   "source": [
    "## Restoring from Checkpoints\n",
    "In this section, we will restart the optimizer from one of its saved checkpoints. This allows us to carry on an optimization that was previously terminated with no loss of information. The checkpoint is specified in the YAML file using the key `checkpoint_file`. Any additional settings in the generator will override the settings included in the checkpoint. The evaluation function still needs to be defined and should be identical to what was used during the original run."
   ]
  },
  {
   "cell_type": "code",
   "execution_count": null,
   "id": "208d11b1",
   "metadata": {},
   "outputs": [],
   "source": [
    "# Hack so you do not need to change the checkpoint filename in the config file manually for this tutorial\n",
    "# In a real optimization, you will set `checkpoint_file` to the file of your choice\n",
    "! cd assets/yaml_runner_example/nsga2_output/checkpoints &&  mv $(ls -1 | tail -n 1) 20250805_065102_1.txt"
   ]
  },
  {
   "cell_type": "code",
   "execution_count": null,
   "id": "aa406600",
   "metadata": {},
   "outputs": [],
   "source": [
    "# Run the optimizer for another few generations (will take ~30s)\n",
    "! cd assets/yaml_runner_example && xopt-run nsga2_from_checkpoint.yml "
   ]
  },
  {
   "cell_type": "code",
   "execution_count": null,
   "id": "4837daa2",
   "metadata": {},
   "outputs": [],
   "source": [
    "# Grab the last generation\n",
    "df = pd.read_csv(\n",
    "    \"assets/yaml_runner_example/nsga2_from_checkpoint_output/populations.csv\"\n",
    ")\n",
    "last_gen_restarted = df[df[\"xopt_generation\"] == df[\"xopt_generation\"].max()]\n",
    "\n",
    "# Plot the objectives\n",
    "plt.scatter(\n",
    "    last_gen[\"f1\"],\n",
    "    last_gen[\"f2\"],\n",
    "    label=f\"Generation {last_gen['xopt_generation'].max()}\",\n",
    ")\n",
    "plt.scatter(\n",
    "    last_gen_restarted[\"f1\"],\n",
    "    last_gen_restarted[\"f2\"],\n",
    "    label=f\"Generation {last_gen_restarted['xopt_generation'].max()}\",\n",
    ")\n",
    "plt.xlabel(\"f1 (unitless)\")\n",
    "plt.ylabel(\"f2 (unitless)\")\n",
    "plt.legend()"
   ]
  },
  {
   "cell_type": "markdown",
   "id": "32ef56fe",
   "metadata": {},
   "source": [
    "## Cleanup\n",
    "We will now remove the files created in this notebook."
   ]
  },
  {
   "cell_type": "code",
   "execution_count": null,
   "id": "d6b5d439",
   "metadata": {},
   "outputs": [],
   "source": [
    "# Clean up the output directoris\n",
    "shutil.rmtree(\"assets/yaml_runner_example/nsga2_output\")\n",
    "shutil.rmtree(\"assets/yaml_runner_example/nsga2_from_checkpoint_output\")"
   ]
  }
 ],
 "metadata": {
  "kernelspec": {
   "display_name": "xopt-dev",
   "language": "python",
   "name": "python3"
  },
  "language_info": {
   "codemirror_mode": {
    "name": "ipython",
    "version": 3
   },
   "file_extension": ".py",
   "mimetype": "text/x-python",
   "name": "python",
   "nbconvert_exporter": "python",
   "pygments_lexer": "ipython3",
   "version": "3.12.0"
  }
 },
 "nbformat": 4,
 "nbformat_minor": 5
}
