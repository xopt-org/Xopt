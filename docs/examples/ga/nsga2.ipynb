{
 "cells": [
  {
   "cell_type": "markdown",
   "metadata": {},
   "source": [
    "# NSGA2 Generator\n",
    "This notebook demonstrates the use of the generator `NSGA2Generator` which implements the NSGA-II algorithm from [1]. We show how to set up the optimizer object, use it to solve a test problem, and show off some of the generator's output features. Running this notebook will generate files in a temporary directory on your computer. These files will be cleaned up at the end."
   ]
  },
  {
   "cell_type": "code",
   "execution_count": null,
   "metadata": {},
   "outputs": [],
   "source": [
    "import json\n",
    "import logging\n",
    "import matplotlib.pyplot as plt\n",
    "import os\n",
    "import pandas as pd\n",
    "import shutil\n",
    "import tempfile\n",
    "\n",
    "from xopt.generators.ga.nsga2 import (\n",
    "    NSGA2Generator,\n",
    "    PolynomialMutation,\n",
    "    SimulatedBinaryCrossover,\n",
    ")\n",
    "from xopt.resources.test_functions.zdt import construct_zdt\n",
    "from xopt import Xopt, Evaluator, VOCS"
   ]
  },
  {
   "cell_type": "code",
   "execution_count": null,
   "metadata": {},
   "outputs": [],
   "source": [
    "# The NSGA2Generator object emits logger messages\n",
    "# Configure the logging module to output them to console\n",
    "logging.basicConfig(\n",
    "    level=logging.INFO,\n",
    "    format=\"%(asctime)s - %(name)s - %(levelname)s - %(message)s\",  # Format for log messages\n",
    "    datefmt=\"%Y-%m-%d %H:%M:%S\",  # Date/time format\n",
    ")"
   ]
  },
  {
   "cell_type": "code",
   "execution_count": null,
   "metadata": {},
   "outputs": [],
   "source": [
    "# Get the problem ZDT2 and create an Xopt evaluator\n",
    "prob_vocs, prob_fun, _ = construct_zdt(30, 3)\n",
    "ev = Evaluator(function=prob_fun)"
   ]
  },
  {
   "cell_type": "markdown",
   "metadata": {},
   "source": [
    "### Generator Setup and Use\n",
    "First we create the `NSGA2Generator` object, demonstrate some of its settings, and then use it to solve the ZDT3 test problem."
   ]
  },
  {
   "cell_type": "code",
   "execution_count": null,
   "metadata": {},
   "outputs": [],
   "source": [
    "# Create the NSGA2 generator with default settings\n",
    "generator = NSGA2Generator(\n",
    "    vocs=prob_vocs,  # Must provide the problem's details\n",
    ")\n",
    "\n",
    "# Let's demonstrate controlling the generator's hyperparameters and settings\n",
    "generator = NSGA2Generator(\n",
    "    vocs=prob_vocs,  # Must provide the problem's details\n",
    "    population_size=50,  # How many individuals in a population\n",
    "    mutation_operator=PolynomialMutation(\n",
    "        pm=1 / 30, eta_m=20\n",
    "    ),  # Can manually specify mutation operator and hyperparameters\n",
    "    crossover_operator=SimulatedBinaryCrossover(\n",
    "        delta_1=0.5, delta_2=0.5, eta_c=20\n",
    "    ),  # Similarly can specify crossover manually\n",
    "    deduplicate_output=True,  # Performs deduplication of candidate individuals. Ensure unique outputs from generator.\n",
    ")"
   ]
  },
  {
   "cell_type": "code",
   "execution_count": null,
   "metadata": {},
   "outputs": [],
   "source": [
    "# Run the optimizer for a few generations. Notice log output printed below this cell\n",
    "ev.max_workers = generator.population_size\n",
    "X = Xopt(generator=generator, evaluator=ev, vocs=prob_vocs)\n",
    "\n",
    "for _ in range(3):\n",
    "    X.step()"
   ]
  },
  {
   "cell_type": "markdown",
   "metadata": {},
   "source": [
    "### Exploring Optimizer Output\n",
    "We now take a look at the metadata associated with the optimizer run as well as its output."
   ]
  },
  {
   "cell_type": "code",
   "execution_count": null,
   "metadata": {},
   "outputs": [],
   "source": [
    "%%time\n",
    "# Run for longer with log output turned off\n",
    "for handler in logging.root.handlers[:]:\n",
    "    logging.root.removeHandler(handler)\n",
    "\n",
    "for _ in range(47):\n",
    "    X.step()"
   ]
  },
  {
   "cell_type": "code",
   "execution_count": null,
   "metadata": {},
   "outputs": [],
   "source": [
    "# Inspect generator properties\n",
    "print(\n",
    "    f\"Saw {generator.fevals} function evaluations\"\n",
    ")  # Number of function evaluations returned to generator\n",
    "print(\n",
    "    f\"Completed {generator.n_generations} generations\"\n",
    ")  # Number of generations finished\n",
    "print(\n",
    "    f\"Generated {generator.n_candidates} candidate solutions\"\n",
    ")  # Number of individuals generated"
   ]
  },
  {
   "cell_type": "code",
   "execution_count": null,
   "metadata": {},
   "outputs": [],
   "source": [
    "# All evaluations are stored in the following Dataframe. Speific to this generator, a `xopt_parent_generation` and\n",
    "# `xopt_candidate_idx` columns which indicate from which generation the indvidual's parents belong to as well as providing a\n",
    "# unique index for indviduals.\n",
    "#\n",
    "# NOTE: The data DataFrame is not stored when serializing the generator. It must be saved on its own for later use.\n",
    "generator.data.head()"
   ]
  },
  {
   "cell_type": "code",
   "execution_count": null,
   "metadata": {},
   "outputs": [],
   "source": [
    "# Each population the optimizer has seen is stored by the unique indices of each individual.\n",
    "print(generator.history_idx[-1][:16])  # Show the first few indices of last generation\n",
    "\n",
    "# If you have the data DataFrame you can extract all variables, objectives, constraints for each population\n",
    "# Get a DataFrame of all information for the first population with every row being an individual\n",
    "generator.data[\n",
    "    generator.data[\"xopt_candidate_idx\"].isin(generator.history_idx[0])\n",
    "].head()"
   ]
  },
  {
   "cell_type": "code",
   "execution_count": null,
   "metadata": {},
   "outputs": [],
   "source": [
    "# Using the population records we can plot the final generation's objective functions\n",
    "final_pop = generator.data[\n",
    "    generator.data[\"xopt_candidate_idx\"].isin(generator.history_idx[-1])\n",
    "]\n",
    "plt.scatter(final_pop[\"f1\"], final_pop[\"f2\"])\n",
    "plt.xlabel(\"f1\")\n",
    "plt.ylabel(\"f2\")\n",
    "plt.title(f\"ZDT3, Generation {generator.n_generations}\")"
   ]
  },
  {
   "cell_type": "markdown",
   "metadata": {},
   "source": [
    "# File Output from Generator\n",
    "In this section, we will take a look at the files which can be automatically written by the optimizer. We will create a temporary directory and clean it up at the end of this notebook.\n",
    "\n",
    "The output files are the following.\n",
    " - `data.csv`: All data evaluated during the optimization\n",
    " - `vocs.txt`: The VOCS object so that the objectives, constraints, decision variables are retained alongside the data\n",
    " - `populations.csv`: Each population is written here with a column `xopt_generation` to distinguish which generation the row belongs to\n",
    " - `checkpoints`: This generator periodically saves its full state to timestamped files in this directory\n",
    " - `log.txt`: Log output from the generator is recorded to this file\n",
    "\n",
    " Wile running each of the blocks, go ahead and open the temporary directory printed from the next cell and take a look at the files for yourself."
   ]
  },
  {
   "cell_type": "code",
   "execution_count": null,
   "metadata": {},
   "outputs": [],
   "source": [
    "# Setup our output directory\n",
    "output_dir = tempfile.mkdtemp()\n",
    "print(f'Will write data to \"{output_dir}\"')"
   ]
  },
  {
   "cell_type": "code",
   "execution_count": null,
   "metadata": {},
   "outputs": [],
   "source": [
    "# Set up a generator configured to output data\n",
    "generator = NSGA2Generator(\n",
    "    vocs=prob_vocs,\n",
    "    output_dir=output_dir,  # Where will we write data\n",
    "    checkpoint_freq=8,  # Turn on checkpoints and set ow often (in terms of generations) we save the optimizer state\n",
    "    log_level=logging.DEBUG,  # Set the level of log messages output to our log file\n",
    ")\n",
    "\n",
    "# Run it for a couple of generations\n",
    "ev.max_workers = generator.population_size\n",
    "X = Xopt(generator=generator, evaluator=ev, vocs=prob_vocs)\n",
    "for _ in range(32):\n",
    "    X.step()"
   ]
  },
  {
   "cell_type": "code",
   "execution_count": null,
   "metadata": {},
   "outputs": [],
   "source": [
    "# Check out the generated files\n",
    "print(f'\"{output_dir}\": {os.listdir(output_dir)}')\n",
    "checkpoint_dir = os.path.join(output_dir, \"checkpoints\")\n",
    "print(f'\"checkpoints\": {os.listdir(checkpoint_dir)}')"
   ]
  },
  {
   "cell_type": "code",
   "execution_count": null,
   "metadata": {},
   "outputs": [],
   "source": [
    "# In the event data was already written to `output_dir` the generator will choose a new path with a numeric suffix\n",
    "# to avoid overwriting anything.\n",
    "X = Xopt(\n",
    "    generator=NSGA2Generator(vocs=prob_vocs, output_dir=output_dir),\n",
    "    evaluator=ev,\n",
    "    vocs=prob_vocs,\n",
    ")\n",
    "for _ in range(32):\n",
    "    X.step()\n",
    "\n",
    "# Compare the requested path and where the data ended up\n",
    "print(f'Requested path: \"{output_dir}\"')\n",
    "print(f'Path used:      \"{X.generator.output_dir}\"')\n",
    "\n",
    "# Clean up the directory\n",
    "X.generator.close_log_file()\n",
    "shutil.rmtree(X.generator.output_dir)"
   ]
  },
  {
   "cell_type": "code",
   "execution_count": null,
   "metadata": {},
   "outputs": [],
   "source": [
    "# Load all data back in\n",
    "df = pd.read_csv(os.path.join(generator.output_dir, \"data.csv\"))\n",
    "df.head()"
   ]
  },
  {
   "cell_type": "code",
   "execution_count": null,
   "metadata": {},
   "outputs": [],
   "source": [
    "# Read the VOCS object back in. This can be used for data analysis / restarting optimizations\n",
    "with open(os.path.join(generator.output_dir, \"vocs.txt\")) as f:\n",
    "    vocs_from_file = VOCS.from_dict(json.load(f))\n",
    "\n",
    "# Show the objectives\n",
    "vocs_from_file.objectives"
   ]
  },
  {
   "cell_type": "code",
   "execution_count": null,
   "metadata": {},
   "outputs": [],
   "source": [
    "# Load the populations and get just the last population\n",
    "df = pd.read_csv(os.path.join(generator.output_dir, \"populations.csv\"))\n",
    "last_pop = df[df[\"xopt_generation\"] == df[\"xopt_generation\"].max()]\n",
    "last_pop.head()"
   ]
  },
  {
   "cell_type": "code",
   "execution_count": null,
   "metadata": {},
   "outputs": [],
   "source": [
    "# Reload the optimizer from its last checkpoint\n",
    "# NOTE: the vocs object is not retained with the checkpoint and should be added as in the following code\n",
    "last_checkpoint = os.path.join(checkpoint_dir, os.listdir(checkpoint_dir)[-1])\n",
    "with open(last_checkpoint) as f:\n",
    "    restored_generator = NSGA2Generator.from_dict({\"vocs\": prob_vocs, **json.load(f)})\n",
    "print(f\"From file: {restored_generator}\")\n",
    "\n",
    "# Demonstrate using the generator after loading (starting optimization from its last saved point)\n",
    "X = Xopt(generator=restored_generator, evaluator=ev, vocs=prob_vocs)\n",
    "for _ in range(32):\n",
    "    X.step()\n",
    "print(f\"Further optimization: {restored_generator}\")\n",
    "\n",
    "# Clean up the output\n",
    "X.generator.close_log_file()\n",
    "shutil.rmtree(X.generator.output_dir)"
   ]
  },
  {
   "cell_type": "code",
   "execution_count": null,
   "metadata": {},
   "outputs": [],
   "source": [
    "# Clean up the original output\n",
    "generator.close_log_file()\n",
    "shutil.rmtree(output_dir)"
   ]
  }
 ],
 "metadata": {
  "kernelspec": {
   "display_name": "Python 3",
   "language": "python",
   "name": "python3"
  },
  "language_info": {
   "codemirror_mode": {
    "name": "ipython",
    "version": 3
   },
   "file_extension": ".py",
   "mimetype": "text/x-python",
   "name": "python",
   "nbconvert_exporter": "python",
   "pygments_lexer": "ipython3",
   "version": "3.13.2"
  }
 },
 "nbformat": 4,
 "nbformat_minor": 2
}
