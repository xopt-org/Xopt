{
 "cells": [
  {
   "cell_type": "markdown",
   "metadata": {},
   "source": [
    "\n",
    "# Multi-objective Bayesian Optimization\n",
    "\n",
    "\n",
    "TNK function\n",
    "$n=2$ variables:\n",
    "$x_i \\in [0, \\pi], i=1,2$\n",
    "\n",
    "Objectives:\n",
    "- $f_i(x) = x_i$\n",
    "\n",
    "Constraints:\n",
    "- $g_1(x) = -x_1^2 -x_2^2 + 1 + 0.1 \\cos\\left(16 \\arctan \\frac{x_1}{x_2}\\right) \\le 0$\n",
    "- $g_2(x) = (x_1 - 1/2)^2 + (x_2-1/2)^2 \\le 0.5$"
   ]
  },
  {
   "cell_type": "code",
   "execution_count": null,
   "metadata": {
    "ExecuteTime": {
     "end_time": "2023-08-02T21:09:04.147494200Z",
     "start_time": "2023-08-02T21:09:01.121464100Z"
    },
    "execution": {
     "iopub.execute_input": "2024-09-13T15:59:25.142407Z",
     "iopub.status.busy": "2024-09-13T15:59:25.141916Z",
     "iopub.status.idle": "2024-09-13T15:59:26.865350Z",
     "shell.execute_reply": "2024-09-13T15:59:26.865058Z"
    }
   },
   "outputs": [],
   "source": [
    "# set values if testing\n",
    "import os\n",
    "\n",
    "from copy import deepcopy\n",
    "\n",
    "import pandas as pd\n",
    "import numpy as np\n",
    "\n",
    "from xopt import Xopt, Evaluator\n",
    "from xopt.generators.bayesian.mggpo import MGGPOGenerator\n",
    "from xopt.resources.test_functions.tnk import evaluate_TNK, tnk_vocs\n",
    "\n",
    "from matplotlib import pyplot as plt\n",
    "\n",
    "# Ignore all warnings\n",
    "import warnings\n",
    "\n",
    "warnings.filterwarnings(\"ignore\")\n",
    "\n",
    "SMOKE_TEST = os.environ.get(\"SMOKE_TEST\")\n",
    "N_MC_SAMPLES = 1 if SMOKE_TEST else 128\n",
    "NUM_RESTARTS = 1 if SMOKE_TEST else 20\n",
    "\n",
    "evaluator = Evaluator(function=evaluate_TNK)\n",
    "evaluator.max_workers = 10\n",
    "\n",
    "# test check options\n",
    "vocs = deepcopy(tnk_vocs)\n",
    "gen = MGGPOGenerator(vocs=vocs, reference_point={\"y1\": 1.5, \"y2\": 1.5})\n",
    "gen.n_monte_carlo_samples = N_MC_SAMPLES\n",
    "gen.numerical_optimizer.n_restarts = NUM_RESTARTS\n",
    "gen.gp_constructor.use_low_noise_prior = True\n",
    "X = Xopt(evaluator=evaluator, generator=gen, vocs=vocs)\n",
    "X.evaluate_data(pd.DataFrame({\"x1\": [1.0, 0.75], \"x2\": [0.75, 1.0]}))\n",
    "\n",
    "X"
   ]
  },
  {
   "cell_type": "code",
   "execution_count": null,
   "metadata": {
    "ExecuteTime": {
     "end_time": "2023-08-02T21:09:13.737232800Z",
     "start_time": "2023-08-02T21:09:04.149492900Z"
    },
    "execution": {
     "iopub.execute_input": "2024-09-13T15:59:26.886511Z",
     "iopub.status.busy": "2024-09-13T15:59:26.886313Z",
     "iopub.status.idle": "2024-09-13T15:59:30.099103Z",
     "shell.execute_reply": "2024-09-13T15:59:30.098791Z"
    }
   },
   "outputs": [],
   "source": [
    "for i in range(10):\n",
    "    print(i)\n",
    "    X.step()"
   ]
  },
  {
   "cell_type": "code",
   "execution_count": null,
   "metadata": {
    "ExecuteTime": {
     "end_time": "2023-08-02T21:09:13.768374600Z",
     "start_time": "2023-08-02T21:09:13.735233200Z"
    },
    "execution": {
     "iopub.execute_input": "2024-09-13T15:59:30.100858Z",
     "iopub.status.busy": "2024-09-13T15:59:30.100700Z",
     "iopub.status.idle": "2024-09-13T15:59:30.106910Z",
     "shell.execute_reply": "2024-09-13T15:59:30.106694Z"
    }
   },
   "outputs": [],
   "source": [
    "X.generator.data"
   ]
  },
  {
   "cell_type": "markdown",
   "metadata": {
    "collapsed": false,
    "jupyter": {
     "outputs_hidden": false
    }
   },
   "source": [
    "## plot results\n"
   ]
  },
  {
   "cell_type": "code",
   "execution_count": null,
   "metadata": {
    "ExecuteTime": {
     "end_time": "2023-08-02T21:09:14.288220800Z",
     "start_time": "2023-08-02T21:09:13.765373900Z"
    },
    "execution": {
     "iopub.execute_input": "2024-09-13T15:59:30.108409Z",
     "iopub.status.busy": "2024-09-13T15:59:30.108317Z",
     "iopub.status.idle": "2024-09-13T15:59:30.185242Z",
     "shell.execute_reply": "2024-09-13T15:59:30.184988Z"
    }
   },
   "outputs": [],
   "source": [
    "fig, ax = plt.subplots()\n",
    "\n",
    "theta = np.linspace(0, np.pi / 2)\n",
    "r = np.sqrt(1 + 0.1 * np.cos(16 * theta))\n",
    "x_1 = r * np.sin(theta)\n",
    "x_2_lower = r * np.cos(theta)\n",
    "x_2_upper = (0.5 - (x_1 - 0.5) ** 2) ** 0.5 + 0.5\n",
    "\n",
    "z = np.zeros_like(x_1)\n",
    "\n",
    "# ax2.plot(x_1, x_2_lower,'r')\n",
    "ax.fill_between(x_1, z, x_2_lower, fc=\"white\")\n",
    "circle = plt.Circle(\n",
    "    (0.5, 0.5), 0.5**0.5, color=\"r\", alpha=0.25, zorder=0, label=\"Valid Region\"\n",
    ")\n",
    "ax.add_patch(circle)\n",
    "history = pd.concat(\n",
    "    [X.data, tnk_vocs.feasibility_data(X.data)], axis=1, ignore_index=False\n",
    ")\n",
    "\n",
    "ax.plot(*history[[\"x1\", \"x2\"]][history[\"feasible\"]].to_numpy().T, \".C1\")\n",
    "ax.plot(*history[[\"x1\", \"x2\"]][~history[\"feasible\"]].to_numpy().T, \".C2\")\n",
    "\n",
    "ax.set_xlim(0, 3.14)\n",
    "ax.set_ylim(0, 3.14)\n",
    "ax.set_xlabel(\"x1\")\n",
    "ax.set_ylabel(\"x2\")\n",
    "ax.set_aspect(\"equal\")"
   ]
  },
  {
   "cell_type": "code",
   "execution_count": null,
   "metadata": {},
   "outputs": [],
   "source": [
    "X.generator.visualize_model(show_feasibility=True)"
   ]
  },
  {
   "cell_type": "code",
   "execution_count": null,
   "metadata": {},
   "outputs": [],
   "source": [
    "X.generator.update_pareto_front_history()\n",
    "X.generator.pareto_front_history.plot(y=\"hypervolume\", label=\"Hypervolume\")\n",
    "X.generator.pareto_front_history.plot(y=\"n_non_dominated\", label=\"n_non_dominated\")"
   ]
  },
  {
   "cell_type": "code",
   "execution_count": null,
   "metadata": {},
   "outputs": [],
   "source": []
  }
 ],
 "metadata": {
  "kernelspec": {
   "display_name": "xopt-dev",
   "language": "python",
   "name": "python3"
  },
  "language_info": {
   "codemirror_mode": {
    "name": "ipython",
    "version": 3
   },
   "file_extension": ".py",
   "mimetype": "text/x-python",
   "name": "python",
   "nbconvert_exporter": "python",
   "pygments_lexer": "ipython3",
   "version": "3.11.0"
  }
 },
 "nbformat": 4,
 "nbformat_minor": 4
}
