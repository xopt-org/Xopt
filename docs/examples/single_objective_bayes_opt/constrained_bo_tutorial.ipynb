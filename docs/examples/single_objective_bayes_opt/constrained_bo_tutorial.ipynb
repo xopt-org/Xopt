{
 "cells": [
  {
   "cell_type": "markdown",
   "metadata": {
    "collapsed": false,
    "jupyter": {
     "outputs_hidden": false
    }
   },
   "source": [
    "## Constrained Bayesian Optimization\n",
    "In this tutorial we demonstrate the use of Xopt to perform Bayesian Optimization on a simple test problem subject to a single constraint."
   ]
  },
  {
   "cell_type": "markdown",
   "metadata": {
    "collapsed": false,
    "jupyter": {
     "outputs_hidden": false
    }
   },
   "source": [
    "## Define the test problem\n",
    "Here we define a simple optimization problem, where we attempt to minimize the sin\n",
    "function in the domian [0,2*pi], subject to a cos constraining function."
   ]
  },
  {
   "cell_type": "code",
   "execution_count": null,
   "metadata": {
    "ExecuteTime": {
     "end_time": "2025-01-07T20:55:57.751261500Z",
     "start_time": "2025-01-07T20:55:53.793271Z"
    },
    "execution": {
     "iopub.execute_input": "2024-09-13T15:56:22.206398Z",
     "iopub.status.busy": "2024-09-13T15:56:22.205993Z",
     "iopub.status.idle": "2024-09-13T15:56:23.774772Z",
     "shell.execute_reply": "2024-09-13T15:56:23.774246Z"
    },
    "jupyter": {
     "outputs_hidden": false
    }
   },
   "outputs": [],
   "source": [
    "from xopt.evaluator import Evaluator\n",
    "from xopt.generators.bayesian import ExpectedImprovementGenerator\n",
    "from xopt import Xopt\n",
    "from xopt.vocs import VOCS\n",
    "\n",
    "import time\n",
    "import math\n",
    "import numpy as np\n",
    "\n",
    "# Ignore all warnings\n",
    "import warnings\n",
    "\n",
    "warnings.filterwarnings(\"ignore\")\n",
    "\n",
    "# define variables, function objective and constraining function\n",
    "vocs = VOCS(\n",
    "    variables={\"x\": [0, 2 * math.pi]},\n",
    "    objectives={\"f\": \"MINIMIZE\"},\n",
    "    constraints={\"c\": [\"LESS_THAN\", 0]},\n",
    ")"
   ]
  },
  {
   "cell_type": "code",
   "execution_count": null,
   "metadata": {
    "ExecuteTime": {
     "end_time": "2025-01-07T20:55:57.766139300Z",
     "start_time": "2025-01-07T20:55:57.738794400Z"
    },
    "execution": {
     "iopub.execute_input": "2024-09-13T15:56:23.776855Z",
     "iopub.status.busy": "2024-09-13T15:56:23.776613Z",
     "iopub.status.idle": "2024-09-13T15:56:23.778792Z",
     "shell.execute_reply": "2024-09-13T15:56:23.778518Z"
    },
    "jupyter": {
     "outputs_hidden": false
    }
   },
   "outputs": [],
   "source": [
    "# define a test function to optimize\n",
    "\n",
    "\n",
    "def test_function(input_dict):\n",
    "    return {\"f\": np.sin(input_dict[\"x\"]), \"c\": np.cos(input_dict[\"x\"])}"
   ]
  },
  {
   "cell_type": "markdown",
   "metadata": {
    "collapsed": false,
    "jupyter": {
     "outputs_hidden": false
    }
   },
   "source": [
    "## Create Xopt objects\n",
    "Create the evaluator to evaluate our test function and create a generator that uses\n",
    "the Expected Improvement acquisition function to perform Bayesian Optimization. Note that because we are optimizing a problem with no noise we set `use_low_noise_prior=True` in the GP model constructor."
   ]
  },
  {
   "cell_type": "code",
   "execution_count": null,
   "metadata": {
    "ExecuteTime": {
     "end_time": "2025-01-07T20:55:57.766682400Z",
     "start_time": "2025-01-07T20:55:57.751261500Z"
    },
    "execution": {
     "iopub.execute_input": "2024-09-13T15:56:23.780319Z",
     "iopub.status.busy": "2024-09-13T15:56:23.780210Z",
     "iopub.status.idle": "2024-09-13T15:56:23.785380Z",
     "shell.execute_reply": "2024-09-13T15:56:23.785094Z"
    },
    "jupyter": {
     "outputs_hidden": false
    }
   },
   "outputs": [],
   "source": [
    "evaluator = Evaluator(function=test_function)\n",
    "generator = ExpectedImprovementGenerator(vocs=vocs)\n",
    "generator.gp_constructor.use_low_noise_prior = True\n",
    "X = Xopt(evaluator=evaluator, generator=generator, vocs=vocs)"
   ]
  },
  {
   "cell_type": "markdown",
   "metadata": {
    "collapsed": false,
    "jupyter": {
     "outputs_hidden": false
    }
   },
   "source": [
    "## Generate and evaluate initial points\n",
    "To begin optimization, we must generate some random initial data points. The first call\n",
    "to `X.step()` will generate and evaluate a number of randomly points specified by the\n",
    " generator. Note that if we add data to xopt before calling `X.step()` by assigning\n",
    " the data to `X.data`, calls to `X.step()` will ignore the random generation and\n",
    " proceed to generating points via Bayesian optimization."
   ]
  },
  {
   "cell_type": "code",
   "execution_count": null,
   "metadata": {
    "ExecuteTime": {
     "end_time": "2025-01-07T20:55:57.767710800Z",
     "start_time": "2025-01-07T20:55:57.766139300Z"
    },
    "execution": {
     "iopub.execute_input": "2024-09-13T15:56:23.786867Z",
     "iopub.status.busy": "2024-09-13T15:56:23.786774Z",
     "iopub.status.idle": "2024-09-13T15:56:23.849752Z",
     "shell.execute_reply": "2024-09-13T15:56:23.849497Z"
    },
    "jupyter": {
     "outputs_hidden": false
    }
   },
   "outputs": [],
   "source": [
    "# call X.random_evaluate(n_samples) to generate + evaluate initial points\n",
    "X.random_evaluate(n_samples=2)\n",
    "\n",
    "# inspect the gathered data\n",
    "X.data"
   ]
  },
  {
   "cell_type": "markdown",
   "metadata": {
    "collapsed": false,
    "jupyter": {
     "outputs_hidden": false
    }
   },
   "source": [
    "## Do bayesian optimization steps\n",
    "To perform optimization we simply call `X.step()` in a loop. This allows us to do\n",
    "intermediate tasks in between optimization steps, such as examining the model and\n",
    "acquisition function at each step (as we demonstrate here)."
   ]
  },
  {
   "cell_type": "code",
   "execution_count": null,
   "metadata": {
    "ExecuteTime": {
     "end_time": "2025-01-07T20:57:47.398979200Z",
     "start_time": "2025-01-07T20:57:37.742437900Z"
    },
    "execution": {
     "iopub.execute_input": "2024-09-13T15:56:23.870983Z",
     "iopub.status.busy": "2024-09-13T15:56:23.870838Z",
     "iopub.status.idle": "2024-09-13T15:56:28.798647Z",
     "shell.execute_reply": "2024-09-13T15:56:28.798342Z"
    },
    "jupyter": {
     "outputs_hidden": false
    }
   },
   "outputs": [],
   "source": [
    "n_steps = 5\n",
    "\n",
    "# test points for plotting\n",
    "test_x = np.linspace(*X.vocs.bounds.flatten(), 50)\n",
    "\n",
    "for i in range(n_steps):\n",
    "    start = time.perf_counter()\n",
    "    model = X.generator.train_model()\n",
    "    fig, ax = X.generator.visualize_model(n_grid=100)\n",
    "    print(time.perf_counter() - start)\n",
    "\n",
    "    # add ground truth functions to plots\n",
    "    out = test_function({\"x\": test_x})\n",
    "    ax[0, 0].plot(test_x, out[\"f\"], \"C0-.\")\n",
    "    ax[1, 0].plot(test_x, out[\"c\"], \"C2-.\")\n",
    "\n",
    "    # do the optimization step\n",
    "    X.step()"
   ]
  },
  {
   "cell_type": "code",
   "execution_count": null,
   "metadata": {
    "execution": {
     "iopub.execute_input": "2024-09-13T15:56:28.800492Z",
     "iopub.status.busy": "2024-09-13T15:56:28.800330Z",
     "iopub.status.idle": "2024-09-13T15:56:28.804449Z",
     "shell.execute_reply": "2024-09-13T15:56:28.804220Z"
    },
    "jupyter": {
     "outputs_hidden": false
    }
   },
   "outputs": [],
   "source": [
    "# access the collected data\n",
    "X.data"
   ]
  }
 ],
 "metadata": {
  "kernelspec": {
   "display_name": "Python 3 (ipykernel)",
   "language": "python",
   "name": "python3"
  },
  "language_info": {
   "codemirror_mode": {
    "name": "ipython",
    "version": 3
   },
   "file_extension": ".py",
   "mimetype": "text/x-python",
   "name": "python",
   "nbconvert_exporter": "python",
   "pygments_lexer": "ipython3",
   "version": "3.12.6"
  }
 },
 "nbformat": 4,
 "nbformat_minor": 4
}
