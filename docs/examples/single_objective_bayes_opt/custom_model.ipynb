{
 "cells": [
  {
   "cell_type": "markdown",
   "metadata": {
    "collapsed": false,
    "jupyter": {
     "outputs_hidden": false
    }
   },
   "source": [
    "# Custom GP modeling for BO"
   ]
  },
  {
   "cell_type": "code",
   "execution_count": null,
   "metadata": {
    "execution": {
     "iopub.execute_input": "2024-09-13T15:55:44.392214Z",
     "iopub.status.busy": "2024-09-13T15:55:44.391949Z",
     "iopub.status.idle": "2024-09-13T15:55:46.132932Z",
     "shell.execute_reply": "2024-09-13T15:55:46.132592Z"
    },
    "jupyter": {
     "outputs_hidden": false
    }
   },
   "outputs": [],
   "source": [
    "from xopt.generators.bayesian.expected_improvement import ExpectedImprovementGenerator\n",
    "from xopt.generators.bayesian.models.standard import StandardModelConstructor\n",
    "from gpytorch.kernels import PeriodicKernel, ScaleKernel\n",
    "\n",
    "import matplotlib.pyplot as plt\n",
    "import pandas as pd\n",
    "import torch\n",
    "from xopt.vocs import VOCS\n",
    "\n",
    "# Ignore all warnings\n",
    "import warnings\n",
    "\n",
    "warnings.filterwarnings(\"ignore\")\n",
    "\n",
    "my_vocs = VOCS(\n",
    "    variables={\"x\": [0, 1]},\n",
    "    objectives={\"y\": \"MAXIMIZE\"},\n",
    "    constraints={\"c\": [\"LESS_THAN\", 0]},\n",
    ")"
   ]
  },
  {
   "cell_type": "code",
   "execution_count": null,
   "metadata": {
    "execution": {
     "iopub.execute_input": "2024-09-13T15:55:46.134708Z",
     "iopub.status.busy": "2024-09-13T15:55:46.134564Z",
     "iopub.status.idle": "2024-09-13T15:55:46.211537Z",
     "shell.execute_reply": "2024-09-13T15:55:46.211305Z"
    },
    "jupyter": {
     "outputs_hidden": false
    }
   },
   "outputs": [],
   "source": [
    "# define test functions\n",
    "def y(x):\n",
    "    return torch.sin(2 * 3.14 * x)\n",
    "\n",
    "\n",
    "def c(x):\n",
    "    return 5.0 * torch.cos(2 * 3.14 * x + 0.25)\n",
    "\n",
    "\n",
    "test_x = torch.linspace(*torch.tensor(my_vocs.bounds.flatten()), 100)\n",
    "\n",
    "# define training data to pass to the generator\n",
    "train_x = torch.tensor((0.2, 0.5, 0.6))\n",
    "train_y = y(train_x)\n",
    "train_c = c(train_x)\n",
    "\n",
    "training_data = pd.DataFrame({\"x\": train_x.numpy(), \"y\": train_y.numpy(), \"c\": train_c})\n",
    "\n",
    "\n",
    "def plot_ground_truth():\n",
    "    fig, ax = plt.subplots()\n",
    "    ax.plot(test_x, y(test_x), \"--C0\")\n",
    "    ax.plot(test_x, c(test_x), \"--C1\")\n",
    "    ax.plot(train_x, train_y, \"oC0\")\n",
    "    ax.plot(train_x, train_c, \"oC1\")\n",
    "\n",
    "    return ax\n",
    "\n",
    "\n",
    "plot_ground_truth()"
   ]
  },
  {
   "cell_type": "markdown",
   "metadata": {
    "collapsed": false,
    "jupyter": {
     "outputs_hidden": false
    }
   },
   "source": [
    "# Custom kernel definition\n",
    "In this example we know that the target optimization function is periodic, so it\n",
    "makes sense to use a periodic kernel for the GP model with no noise. Here we define a\n",
    "function to create that model. Note that because we are optimizing a problem with no noise we set `use_low_noise_prior=True` in the GP model constructor."
   ]
  },
  {
   "cell_type": "code",
   "execution_count": null,
   "metadata": {
    "execution": {
     "iopub.execute_input": "2024-09-13T15:55:46.213082Z",
     "iopub.status.busy": "2024-09-13T15:55:46.212973Z",
     "iopub.status.idle": "2024-09-13T15:55:46.364491Z",
     "shell.execute_reply": "2024-09-13T15:55:46.364170Z"
    },
    "jupyter": {
     "outputs_hidden": false
    }
   },
   "outputs": [],
   "source": [
    "# note the creation of options beforehand\n",
    "# specify a periodic kernel for each output (objectives and constraints)\n",
    "covar_module = {\"y\": ScaleKernel(PeriodicKernel())}\n",
    "gp_constructor = StandardModelConstructor(\n",
    "    covar_modules=covar_module, use_low_noise_prior=True\n",
    ")\n",
    "generator = ExpectedImprovementGenerator(vocs=my_vocs, gp_constructor=gp_constructor)\n",
    "generator"
   ]
  },
  {
   "cell_type": "code",
   "execution_count": null,
   "metadata": {
    "execution": {
     "iopub.execute_input": "2024-09-13T15:55:46.366115Z",
     "iopub.status.busy": "2024-09-13T15:55:46.365935Z",
     "iopub.status.idle": "2024-09-13T15:55:47.115670Z",
     "shell.execute_reply": "2024-09-13T15:55:47.115409Z"
    }
   },
   "outputs": [],
   "source": [
    "# view custom model from data\n",
    "generator.add_data(training_data)\n",
    "model = generator.train_model()\n",
    "\n",
    "fig, ax = generator.visualize_model(n_grid=len(test_x))\n",
    "# plot ground truth\n",
    "ax[0, 0].plot(test_x, y(test_x), \"C0-.\")\n",
    "ax[1, 0].plot(test_x, c(test_x), \"C2-.\");"
   ]
  },
  {
   "cell_type": "code",
   "execution_count": null,
   "metadata": {
    "execution": {
     "iopub.execute_input": "2024-09-13T15:55:47.117629Z",
     "iopub.status.busy": "2024-09-13T15:55:47.117531Z",
     "iopub.status.idle": "2024-09-13T15:55:47.120092Z",
     "shell.execute_reply": "2024-09-13T15:55:47.119863Z"
    },
    "jupyter": {
     "outputs_hidden": false
    }
   },
   "outputs": [],
   "source": [
    "model"
   ]
  },
  {
   "cell_type": "code",
   "execution_count": null,
   "metadata": {
    "execution": {
     "iopub.execute_input": "2024-09-13T15:55:47.121444Z",
     "iopub.status.busy": "2024-09-13T15:55:47.121358Z",
     "iopub.status.idle": "2024-09-13T15:55:47.579026Z",
     "shell.execute_reply": "2024-09-13T15:55:47.578738Z"
    },
    "jupyter": {
     "outputs_hidden": false
    }
   },
   "outputs": [],
   "source": [
    "# get the next point from the generator\n",
    "generator.generate(1)"
   ]
  },
  {
   "cell_type": "markdown",
   "metadata": {
    "collapsed": false,
    "jupyter": {
     "outputs_hidden": false
    }
   },
   "source": [
    "## Custom prior mean function\n",
    "Here we assume we have some knowledge of the ground truth function, which we can take\n",
    " advantage of to speed up optimization. This \"prior mean\" function is specified by a\n",
    " pytorch module."
   ]
  },
  {
   "cell_type": "code",
   "execution_count": null,
   "metadata": {
    "execution": {
     "iopub.execute_input": "2024-09-13T15:55:47.580651Z",
     "iopub.status.busy": "2024-09-13T15:55:47.580533Z",
     "iopub.status.idle": "2024-09-13T15:55:47.582620Z",
     "shell.execute_reply": "2024-09-13T15:55:47.582408Z"
    },
    "jupyter": {
     "outputs_hidden": false
    }
   },
   "outputs": [],
   "source": [
    "class ConstraintPrior(torch.nn.Module):\n",
    "    def forward(self, X):\n",
    "        return c(X).squeeze(dim=-1)\n",
    "\n",
    "\n",
    "gp_constructor = StandardModelConstructor(\n",
    "    mean_modules={\"c\": ConstraintPrior()}, use_low_noise_prior=True\n",
    ")\n",
    "generator = ExpectedImprovementGenerator(\n",
    "    vocs=my_vocs,\n",
    "    gp_constructor=gp_constructor,\n",
    ")"
   ]
  },
  {
   "cell_type": "code",
   "execution_count": null,
   "metadata": {
    "execution": {
     "iopub.execute_input": "2024-09-13T15:55:47.584014Z",
     "iopub.status.busy": "2024-09-13T15:55:47.583912Z",
     "iopub.status.idle": "2024-09-13T15:55:47.906696Z",
     "shell.execute_reply": "2024-09-13T15:55:47.906433Z"
    }
   },
   "outputs": [],
   "source": [
    "# view custom model from data\n",
    "generator.add_data(training_data)\n",
    "model = generator.train_model()\n",
    "\n",
    "fig, ax = generator.visualize_model(n_grid=len(test_x))\n",
    "# plot ground truth\n",
    "ax[0, 0].plot(test_x, y(test_x), \"C0-.\")\n",
    "ax[1, 0].plot(test_x, c(test_x), \"C2-.\");"
   ]
  },
  {
   "cell_type": "code",
   "execution_count": null,
   "metadata": {
    "execution": {
     "iopub.execute_input": "2024-09-13T15:55:47.908422Z",
     "iopub.status.busy": "2024-09-13T15:55:47.908299Z",
     "iopub.status.idle": "2024-09-13T15:55:47.910794Z",
     "shell.execute_reply": "2024-09-13T15:55:47.910537Z"
    },
    "jupyter": {
     "outputs_hidden": false
    }
   },
   "outputs": [],
   "source": [
    "model"
   ]
  },
  {
   "cell_type": "code",
   "execution_count": null,
   "metadata": {
    "execution": {
     "iopub.execute_input": "2024-09-13T15:55:47.912149Z",
     "iopub.status.busy": "2024-09-13T15:55:47.912052Z",
     "iopub.status.idle": "2024-09-13T15:55:47.916181Z",
     "shell.execute_reply": "2024-09-13T15:55:47.915789Z"
    },
    "jupyter": {
     "outputs_hidden": false
    }
   },
   "outputs": [],
   "source": [
    "list(model.named_parameters())"
   ]
  }
 ],
 "metadata": {
  "kernelspec": {
   "display_name": "Python 3 (ipykernel)",
   "language": "python",
   "name": "python3"
  },
  "language_info": {
   "codemirror_mode": {
    "name": "ipython",
    "version": 3
   },
   "file_extension": ".py",
   "mimetype": "text/x-python",
   "name": "python",
   "nbconvert_exporter": "python",
   "pygments_lexer": "ipython3",
   "version": "3.12.6"
  }
 },
 "nbformat": 4,
 "nbformat_minor": 4
}
