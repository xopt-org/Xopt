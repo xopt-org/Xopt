{
 "cells": [
  {
   "cell_type": "markdown",
   "metadata": {
    "collapsed": false,
    "jupyter": {
     "outputs_hidden": false
    }
   },
   "source": [
    "# Multi-fidelity BO\n",
    "Here we demonstrate how Multi-Fidelity Bayesian Optimization can be used to reduce\n",
    "the computational cost of optimization by using lower fidelity surrogate models. The\n",
    "goal is to learn functional dependance of the objective on input variables at low\n",
    "fidelities (which are cheap to compute) and use that information to quickly find the\n",
    "best objective value at higher fidelities (which are more expensive to compute). This\n",
    "assumes that there is some learnable correlation between the objective values at\n",
    "different fidelities.\n",
    "\n",
    "Xopt implements the MOMF (https://botorch.org/tutorials/Multi_objective_multi_fidelity_BO)\n",
    "algorithm which can be used to solve both single (this notebook) and multi-objective\n",
    "(see multi-objective BO section) multi-fidelity problems. Under the hood this\n",
    "algorithm attempts to solve a multi-objective optimization problem, where one\n",
    "objective is the function objective and the other is a simple fidelity objective,\n",
    "weighted by the ```cost_function``` of evaluating the objective at a given fidelity."
   ]
  },
  {
   "cell_type": "code",
   "execution_count": null,
   "metadata": {
    "ExecuteTime": {
     "end_time": "2023-09-06T20:56:37.715486400Z",
     "start_time": "2023-09-06T20:56:34.287048500Z"
    },
    "execution": {
     "iopub.execute_input": "2024-09-13T15:54:53.299994Z",
     "iopub.status.busy": "2024-09-13T15:54:53.299702Z",
     "iopub.status.idle": "2024-09-13T15:54:55.104406Z",
     "shell.execute_reply": "2024-09-13T15:54:55.104054Z"
    },
    "jupyter": {
     "outputs_hidden": false
    }
   },
   "outputs": [],
   "source": [
    "from xopt.generators.bayesian import MultiFidelityGenerator\n",
    "from xopt import Evaluator, Xopt\n",
    "from xopt import VOCS\n",
    "import os\n",
    "\n",
    "import matplotlib.pyplot as plt\n",
    "import numpy as np\n",
    "import math\n",
    "\n",
    "import pandas as pd\n",
    "\n",
    "\n",
    "# Ignore all warnings\n",
    "import warnings\n",
    "\n",
    "warnings.filterwarnings(\"ignore\")\n",
    "\n",
    "SMOKE_TEST = os.environ.get(\"SMOKE_TEST\")\n",
    "N_MC_SAMPLES = 1 if SMOKE_TEST else 128\n",
    "N_RESTARTS = 1 if SMOKE_TEST else 20\n",
    "\n",
    "\n",
    "def test_function(input_dict):\n",
    "    x = input_dict[\"x\"]\n",
    "    s = input_dict[\"s\"]\n",
    "    return {\"f\": np.sin(x + (1.0 - s)) * np.exp((-s + 1) / 2)}\n",
    "\n",
    "\n",
    "# define vocs\n",
    "\n",
    "\n",
    "vocs = VOCS(\n",
    "    variables={\n",
    "        \"x\": [0, 2 * math.pi],\n",
    "    },\n",
    "    objectives={\"f\": \"MINIMIZE\"},\n",
    ")"
   ]
  },
  {
   "cell_type": "markdown",
   "metadata": {
    "collapsed": false,
    "jupyter": {
     "outputs_hidden": false
    }
   },
   "source": [
    "## plot the test function in input + fidelity space\n"
   ]
  },
  {
   "cell_type": "code",
   "execution_count": null,
   "metadata": {
    "ExecuteTime": {
     "end_time": "2023-09-06T20:56:37.926455800Z",
     "start_time": "2023-09-06T20:56:37.717426100Z"
    },
    "execution": {
     "iopub.execute_input": "2024-09-13T15:54:55.106249Z",
     "iopub.status.busy": "2024-09-13T15:54:55.106085Z",
     "iopub.status.idle": "2024-09-13T15:54:55.204449Z",
     "shell.execute_reply": "2024-09-13T15:54:55.204188Z"
    },
    "jupyter": {
     "outputs_hidden": false
    }
   },
   "outputs": [],
   "source": [
    "test_x = np.linspace(*vocs.bounds, 1000)\n",
    "fidelities = [0.0, 0.5, 1.0]\n",
    "\n",
    "fig, ax = plt.subplots()\n",
    "for ele in fidelities:\n",
    "    f = test_function({\"x\": test_x, \"s\": ele})[\"f\"]\n",
    "    ax.plot(test_x, f, label=f\"s:{ele}\")\n",
    "\n",
    "ax.legend()"
   ]
  },
  {
   "cell_type": "code",
   "execution_count": null,
   "metadata": {
    "ExecuteTime": {
     "end_time": "2023-09-06T20:56:37.956437100Z",
     "start_time": "2023-09-06T20:56:37.938740600Z"
    },
    "execution": {
     "iopub.execute_input": "2024-09-13T15:54:55.205929Z",
     "iopub.status.busy": "2024-09-13T15:54:55.205819Z",
     "iopub.status.idle": "2024-09-13T15:54:55.213771Z",
     "shell.execute_reply": "2024-09-13T15:54:55.213524Z"
    },
    "jupyter": {
     "outputs_hidden": false
    }
   },
   "outputs": [],
   "source": [
    "# create xopt object\n",
    "# get and modify default generator options\n",
    "generator = MultiFidelityGenerator(vocs=vocs)\n",
    "generator.gp_constructor.use_low_noise_prior = True\n",
    "\n",
    "# specify a custom cost function based on the fidelity parameter\n",
    "generator.cost_function = lambda s: s + 0.001\n",
    "\n",
    "generator.numerical_optimizer.n_restarts = N_RESTARTS\n",
    "generator.n_monte_carlo_samples = N_MC_SAMPLES\n",
    "\n",
    "# pass options to the generator\n",
    "evaluator = Evaluator(function=test_function)\n",
    "\n",
    "X = Xopt(vocs=vocs, generator=generator, evaluator=evaluator)\n",
    "X"
   ]
  },
  {
   "cell_type": "code",
   "execution_count": null,
   "metadata": {
    "ExecuteTime": {
     "end_time": "2023-09-06T20:56:38.014457500Z",
     "start_time": "2023-09-06T20:56:37.958428200Z"
    },
    "execution": {
     "iopub.execute_input": "2024-09-13T15:54:55.215114Z",
     "iopub.status.busy": "2024-09-13T15:54:55.215029Z",
     "iopub.status.idle": "2024-09-13T15:54:55.221521Z",
     "shell.execute_reply": "2024-09-13T15:54:55.221288Z"
    },
    "jupyter": {
     "outputs_hidden": false
    }
   },
   "outputs": [],
   "source": [
    "# evaluate initial points at mixed fidelities to seed optimization\n",
    "X.evaluate_data(\n",
    "    pd.DataFrame({\"x\": [math.pi / 4, math.pi / 2.0, math.pi], \"s\": [0.0, 0.25, 0.0]})\n",
    ")"
   ]
  },
  {
   "cell_type": "code",
   "execution_count": null,
   "metadata": {
    "ExecuteTime": {
     "end_time": "2023-09-06T20:56:38.044457900Z",
     "start_time": "2023-09-06T20:56:37.988488800Z"
    },
    "execution": {
     "iopub.execute_input": "2024-09-13T15:54:55.222934Z",
     "iopub.status.busy": "2024-09-13T15:54:55.222847Z",
     "iopub.status.idle": "2024-09-13T15:54:55.226410Z",
     "shell.execute_reply": "2024-09-13T15:54:55.226157Z"
    },
    "jupyter": {
     "outputs_hidden": false
    }
   },
   "outputs": [],
   "source": [
    "# get the total cost of previous observations based on the cost function\n",
    "X.generator.calculate_total_cost()"
   ]
  },
  {
   "cell_type": "code",
   "execution_count": null,
   "metadata": {
    "ExecuteTime": {
     "end_time": "2023-09-06T20:57:03.359514100Z",
     "start_time": "2023-09-06T20:56:38.003459300Z"
    },
    "execution": {
     "iopub.execute_input": "2024-09-13T15:54:55.227712Z",
     "iopub.status.busy": "2024-09-13T15:54:55.227634Z",
     "iopub.status.idle": "2024-09-13T15:55:07.587383Z",
     "shell.execute_reply": "2024-09-13T15:55:07.587046Z"
    },
    "jupyter": {
     "outputs_hidden": false
    }
   },
   "outputs": [],
   "source": [
    "# run optimization until the cost budget is exhausted\n",
    "# we subtract one unit to make sure we don't go over our eval budget\n",
    "budget = 10\n",
    "while X.generator.calculate_total_cost() < budget - 1:\n",
    "    X.step()\n",
    "    print(\n",
    "        f\"n_samples: {len(X.data)} \"\n",
    "        f\"budget used: {X.generator.calculate_total_cost():.4} \"\n",
    "        f\"hypervolume: {X.generator.get_pareto_front_and_hypervolume()[-1]:.4}\"\n",
    "    )"
   ]
  },
  {
   "cell_type": "code",
   "execution_count": null,
   "metadata": {
    "ExecuteTime": {
     "end_time": "2023-09-06T20:57:03.374517700Z",
     "start_time": "2023-09-06T20:57:03.360514500Z"
    },
    "execution": {
     "iopub.execute_input": "2024-09-13T15:55:07.589480Z",
     "iopub.status.busy": "2024-09-13T15:55:07.589294Z",
     "iopub.status.idle": "2024-09-13T15:55:07.593868Z",
     "shell.execute_reply": "2024-09-13T15:55:07.593600Z"
    },
    "jupyter": {
     "outputs_hidden": false
    }
   },
   "outputs": [],
   "source": [
    "X.data"
   ]
  },
  {
   "cell_type": "markdown",
   "metadata": {
    "collapsed": false,
    "jupyter": {
     "outputs_hidden": false
    }
   },
   "source": [
    "## Plot the model prediction and acquisition function inside the optimization space"
   ]
  },
  {
   "cell_type": "code",
   "execution_count": null,
   "metadata": {
    "execution": {
     "iopub.execute_input": "2024-09-13T15:55:07.595261Z",
     "iopub.status.busy": "2024-09-13T15:55:07.595169Z",
     "iopub.status.idle": "2024-09-13T15:55:08.375196Z",
     "shell.execute_reply": "2024-09-13T15:55:08.374740Z"
    }
   },
   "outputs": [],
   "source": [
    "fig, ax = X.generator.visualize_model()"
   ]
  },
  {
   "cell_type": "markdown",
   "metadata": {
    "collapsed": false,
    "jupyter": {
     "outputs_hidden": false
    }
   },
   "source": [
    "## Plot the Pareto front"
   ]
  },
  {
   "cell_type": "code",
   "execution_count": null,
   "metadata": {
    "ExecuteTime": {
     "end_time": "2023-09-06T20:57:04.728516600Z",
     "start_time": "2023-09-06T20:57:04.588518700Z"
    },
    "execution": {
     "iopub.execute_input": "2024-09-13T15:55:08.377272Z",
     "iopub.status.busy": "2024-09-13T15:55:08.377169Z",
     "iopub.status.idle": "2024-09-13T15:55:08.456231Z",
     "shell.execute_reply": "2024-09-13T15:55:08.455749Z"
    },
    "jupyter": {
     "outputs_hidden": false
    }
   },
   "outputs": [],
   "source": [
    "X.data.plot(x=\"f\", y=\"s\", style=\"o-\")"
   ]
  },
  {
   "cell_type": "code",
   "execution_count": null,
   "metadata": {
    "ExecuteTime": {
     "end_time": "2023-09-06T20:57:04.748515900Z",
     "start_time": "2023-09-06T20:57:04.728516600Z"
    },
    "execution": {
     "iopub.execute_input": "2024-09-13T15:55:08.458039Z",
     "iopub.status.busy": "2024-09-13T15:55:08.457920Z",
     "iopub.status.idle": "2024-09-13T15:55:08.462314Z",
     "shell.execute_reply": "2024-09-13T15:55:08.462030Z"
    },
    "jupyter": {
     "outputs_hidden": false
    }
   },
   "outputs": [],
   "source": [
    "X.data"
   ]
  },
  {
   "cell_type": "code",
   "execution_count": null,
   "metadata": {
    "ExecuteTime": {
     "end_time": "2023-09-06T20:57:04.959513900Z",
     "start_time": "2023-09-06T20:57:04.744515900Z"
    },
    "execution": {
     "iopub.execute_input": "2024-09-13T15:55:08.463848Z",
     "iopub.status.busy": "2024-09-13T15:55:08.463748Z",
     "iopub.status.idle": "2024-09-13T15:55:08.526992Z",
     "shell.execute_reply": "2024-09-13T15:55:08.526656Z"
    },
    "jupyter": {
     "outputs_hidden": false
    }
   },
   "outputs": [],
   "source": [
    "# get optimal value at max fidelity, note that the actual maximum is 4.71\n",
    "X.generator.get_optimum().to_dict()"
   ]
  }
 ],
 "metadata": {
  "kernelspec": {
   "display_name": "Python 3 (ipykernel)",
   "language": "python",
   "name": "python3"
  },
  "language_info": {
   "codemirror_mode": {
    "name": "ipython",
    "version": 3
   },
   "file_extension": ".py",
   "mimetype": "text/x-python",
   "name": "python",
   "nbconvert_exporter": "python",
   "pygments_lexer": "ipython3",
   "version": "3.12.6"
  }
 },
 "nbformat": 4,
 "nbformat_minor": 4
}
