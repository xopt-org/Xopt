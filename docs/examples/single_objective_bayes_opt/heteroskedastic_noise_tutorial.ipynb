{
 "cells": [
  {
   "cell_type": "markdown",
   "metadata": {
    "collapsed": false,
    "jupyter": {
     "outputs_hidden": false
    }
   },
   "source": [
    "## Bayesian Optimization with Heteroskedastic Noise GP Modeling\n",
    "In this tutorial we demonstrate the use of Xopt to preform Bayesian Optimization on a\n",
    " simple test problem. The problem exibits non-uniform (heteroskedastic) noise which\n",
    " we account for in the GP model. This requires explicit specification of the\n",
    " measurement variance."
   ]
  },
  {
   "cell_type": "markdown",
   "metadata": {
    "collapsed": false,
    "jupyter": {
     "outputs_hidden": false
    }
   },
   "source": [
    "## Define the test problem\n",
    "Here we define a simple optimization problem, where we attempt to minimize the sin\n",
    "function in the domian [0,2*pi]. Note that the function used to evaluate the\n",
    "objective function takes a dictionary as input and returns a dictionary as the output."
   ]
  },
  {
   "cell_type": "code",
   "execution_count": null,
   "metadata": {
    "ExecuteTime": {
     "end_time": "2023-09-07T21:28:39.921005100Z",
     "start_time": "2023-09-07T21:28:24.293120800Z"
    },
    "execution": {
     "iopub.execute_input": "2024-09-13T15:56:49.730834Z",
     "iopub.status.busy": "2024-09-13T15:56:49.730533Z",
     "iopub.status.idle": "2024-09-13T15:56:51.293807Z",
     "shell.execute_reply": "2024-09-13T15:56:51.293378Z"
    },
    "jupyter": {
     "outputs_hidden": false
    }
   },
   "outputs": [],
   "source": [
    "from xopt.vocs import VOCS\n",
    "from xopt.evaluator import Evaluator\n",
    "from xopt.generators.bayesian import UpperConfidenceBoundGenerator\n",
    "from xopt import Xopt\n",
    "import math\n",
    "import numpy as np\n",
    "import torch\n",
    "\n",
    "# define variables and function objectives\n",
    "vocs = VOCS(\n",
    "    variables={\"x\": [0, 2 * math.pi]},\n",
    "    objectives={\"f\": \"MINIMIZE\"},\n",
    ")"
   ]
  },
  {
   "cell_type": "markdown",
   "metadata": {
    "collapsed": false,
    "jupyter": {
     "outputs_hidden": false
    }
   },
   "source": [
    "## Specifying measurement variance\n",
    "We specify variance in the objective function by appending `_var` to it. This info\n",
    "will collected by the model constructor to make a heteroskedastic model."
   ]
  },
  {
   "cell_type": "code",
   "execution_count": null,
   "metadata": {
    "ExecuteTime": {
     "end_time": "2023-09-07T21:28:39.935173300Z",
     "start_time": "2023-09-07T21:28:39.924004400Z"
    },
    "execution": {
     "iopub.execute_input": "2024-09-13T15:56:51.295804Z",
     "iopub.status.busy": "2024-09-13T15:56:51.295584Z",
     "iopub.status.idle": "2024-09-13T15:56:51.297605Z",
     "shell.execute_reply": "2024-09-13T15:56:51.297393Z"
    },
    "jupyter": {
     "outputs_hidden": false
    }
   },
   "outputs": [],
   "source": [
    "# define a test function to optimize\n",
    "# the test function also returns an estimation of the variance, which is\n",
    "# used to create a Heteroskedastic noise model for the gp\n",
    "\n",
    "\n",
    "def sin_function(input_dict):\n",
    "    return {\"f\": np.sin(input_dict[\"x\"]), \"f_var\": 0.001 * input_dict[\"x\"]}"
   ]
  },
  {
   "cell_type": "markdown",
   "metadata": {
    "collapsed": false,
    "jupyter": {
     "outputs_hidden": false
    }
   },
   "source": [
    "## Create Xopt objects\n",
    "Create the evaluator to evaluate our test function and create a generator that uses\n",
    "the Upper Confidence Bound acquisition function to perform Bayesian Optimization."
   ]
  },
  {
   "cell_type": "code",
   "execution_count": null,
   "metadata": {
    "ExecuteTime": {
     "end_time": "2023-09-07T21:28:39.952164900Z",
     "start_time": "2023-09-07T21:28:39.939194600Z"
    },
    "execution": {
     "iopub.execute_input": "2024-09-13T15:56:51.299041Z",
     "iopub.status.busy": "2024-09-13T15:56:51.298940Z",
     "iopub.status.idle": "2024-09-13T15:56:51.303791Z",
     "shell.execute_reply": "2024-09-13T15:56:51.303548Z"
    },
    "jupyter": {
     "outputs_hidden": false
    }
   },
   "outputs": [],
   "source": [
    "evaluator = Evaluator(function=sin_function)\n",
    "generator = UpperConfidenceBoundGenerator(vocs=vocs)\n",
    "X = Xopt(evaluator=evaluator, generator=generator, vocs=vocs)"
   ]
  },
  {
   "cell_type": "markdown",
   "metadata": {
    "collapsed": false,
    "jupyter": {
     "outputs_hidden": false
    }
   },
   "source": [
    "## Generate and evaluate initial points\n",
    "To begin optimization, we must generate some random initial data points. The first call\n",
    "to `X.step()` will generate and evaluate a number of randomly points specified by the\n",
    " generator. Note that if we add data to xopt before calling `X.step()` by assigning\n",
    " the data to `X.data`, calls to `X.step()` will ignore the random generation and\n",
    " proceed to generating points via Bayesian optimization."
   ]
  },
  {
   "cell_type": "code",
   "execution_count": null,
   "metadata": {
    "ExecuteTime": {
     "end_time": "2023-09-07T21:28:39.999187800Z",
     "start_time": "2023-09-07T21:28:39.953166Z"
    },
    "execution": {
     "iopub.execute_input": "2024-09-13T15:56:51.305166Z",
     "iopub.status.busy": "2024-09-13T15:56:51.305077Z",
     "iopub.status.idle": "2024-09-13T15:56:51.372282Z",
     "shell.execute_reply": "2024-09-13T15:56:51.371871Z"
    },
    "jupyter": {
     "outputs_hidden": false
    }
   },
   "outputs": [],
   "source": [
    "# call X.random_evaluate() to generate + evaluate 3 initial points\n",
    "X.random_evaluate(4)\n",
    "\n",
    "# inspect the gathered data\n",
    "X.data"
   ]
  },
  {
   "cell_type": "markdown",
   "metadata": {
    "collapsed": false,
    "jupyter": {
     "outputs_hidden": false
    }
   },
   "source": [
    "## Do bayesian optimization steps\n",
    "To perform optimization we simply call `X.step()` in a loop. This allows us to do\n",
    "intermediate tasks in between optimization steps, such as examining the model and\n",
    "acquisition function at each step (as we demonstrate here)."
   ]
  },
  {
   "cell_type": "code",
   "execution_count": null,
   "metadata": {
    "execution": {
     "iopub.execute_input": "2024-09-13T15:56:51.394471Z",
     "iopub.status.busy": "2024-09-13T15:56:51.394306Z",
     "iopub.status.idle": "2024-09-13T15:56:55.128341Z",
     "shell.execute_reply": "2024-09-13T15:56:55.128036Z"
    }
   },
   "outputs": [],
   "source": [
    "n_steps = 5\n",
    "\n",
    "# test points for plotting\n",
    "test_x = torch.linspace(*X.vocs.bounds.flatten(), 50).double()\n",
    "\n",
    "for i in range(n_steps):\n",
    "    # get the Gaussian process model from the generator\n",
    "    model = X.generator.train_model()\n",
    "\n",
    "    # visualize model\n",
    "    fig, ax = X.generator.visualize_model(n_grid=len(test_x))\n",
    "\n",
    "    # plot true function\n",
    "    true_f = sin_function({\"x\": test_x})[\"f\"]\n",
    "    ax[0, 0].plot(test_x, true_f, \"C1--\")\n",
    "\n",
    "    # do the optimization step\n",
    "    X.step()"
   ]
  },
  {
   "cell_type": "code",
   "execution_count": null,
   "metadata": {
    "ExecuteTime": {
     "end_time": "2023-09-07T21:28:51.486309800Z",
     "start_time": "2023-09-07T21:28:51.468312900Z"
    },
    "execution": {
     "iopub.execute_input": "2024-09-13T15:56:55.129917Z",
     "iopub.status.busy": "2024-09-13T15:56:55.129742Z",
     "iopub.status.idle": "2024-09-13T15:56:55.134195Z",
     "shell.execute_reply": "2024-09-13T15:56:55.133941Z"
    },
    "jupyter": {
     "outputs_hidden": false
    }
   },
   "outputs": [],
   "source": [
    "# access the collected data\n",
    "X.data"
   ]
  },
  {
   "cell_type": "markdown",
   "metadata": {
    "collapsed": false,
    "jupyter": {
     "outputs_hidden": false
    }
   },
   "source": [
    "## Getting the optimization result\n",
    "To get the best point (without evaluating it) we ask the generator to\n",
    "predict the optimum based on the posterior mean."
   ]
  },
  {
   "cell_type": "code",
   "execution_count": null,
   "metadata": {
    "ExecuteTime": {
     "end_time": "2023-09-07T21:28:51.561309500Z",
     "start_time": "2023-09-07T21:28:51.483311900Z"
    },
    "execution": {
     "iopub.execute_input": "2024-09-13T15:56:55.135637Z",
     "iopub.status.busy": "2024-09-13T15:56:55.135552Z",
     "iopub.status.idle": "2024-09-13T15:56:55.162709Z",
     "shell.execute_reply": "2024-09-13T15:56:55.162466Z"
    },
    "jupyter": {
     "outputs_hidden": false
    }
   },
   "outputs": [],
   "source": [
    "X.generator.get_optimum()"
   ]
  },
  {
   "cell_type": "markdown",
   "metadata": {
    "collapsed": false,
    "jupyter": {
     "outputs_hidden": false
    }
   },
   "source": [
    "## Customizing optimization\n",
    "Each generator has a set of options that can be modified to effect optimization behavior"
   ]
  },
  {
   "cell_type": "code",
   "execution_count": null,
   "metadata": {
    "ExecuteTime": {
     "end_time": "2023-09-07T21:28:51.586309700Z",
     "start_time": "2023-09-07T21:28:51.562311500Z"
    },
    "execution": {
     "iopub.execute_input": "2024-09-13T15:56:55.164214Z",
     "iopub.status.busy": "2024-09-13T15:56:55.164125Z",
     "iopub.status.idle": "2024-09-13T15:56:55.167266Z",
     "shell.execute_reply": "2024-09-13T15:56:55.167035Z"
    },
    "jupyter": {
     "outputs_hidden": false
    }
   },
   "outputs": [],
   "source": [
    "X.generator.dict()"
   ]
  }
 ],
 "metadata": {
  "kernelspec": {
   "display_name": "Python 3 (ipykernel)",
   "language": "python",
   "name": "python3"
  },
  "language_info": {
   "codemirror_mode": {
    "name": "ipython",
    "version": 3
   },
   "file_extension": ".py",
   "mimetype": "text/x-python",
   "name": "python",
   "nbconvert_exporter": "python",
   "pygments_lexer": "ipython3",
   "version": "3.12.6"
  }
 },
 "nbformat": 4,
 "nbformat_minor": 4
}
