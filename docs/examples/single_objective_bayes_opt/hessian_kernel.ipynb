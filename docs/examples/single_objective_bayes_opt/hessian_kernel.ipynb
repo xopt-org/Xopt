{
 "cells": [
  {
   "cell_type": "markdown",
   "metadata": {
    "collapsed": false,
    "jupyter": {
     "outputs_hidden": false
    }
   },
   "source": [
    "# Bayesian Optimization with a Hessian\n",
    "Here we demonstrate the use of a Hessian matrix to estimate the kernel."
   ]
  },
  {
   "cell_type": "markdown",
   "metadata": {
    "collapsed": false,
    "jupyter": {
     "outputs_hidden": false
    }
   },
   "source": [
    "## Specifiying generator options\n",
    "We start with the generator defaults and add a hessian kernel to the model. This also\n",
    " requires specifying that we will not normalize inputs to the GP model. Note: this\n",
    " can potentially mess up training of other hyperparameters. Note that because we are optimizing a problem with no noise we set `use_low_noise_prior=True` in the GP model constructor."
   ]
  },
  {
   "cell_type": "code",
   "execution_count": null,
   "metadata": {
    "ExecuteTime": {
     "end_time": "2024-01-30T18:13:12.173225200Z",
     "start_time": "2024-01-30T18:13:08.389096400Z"
    },
    "execution": {
     "iopub.execute_input": "2024-09-13T15:56:36.873445Z",
     "iopub.status.busy": "2024-09-13T15:56:36.873193Z",
     "iopub.status.idle": "2024-09-13T15:56:38.531203Z",
     "shell.execute_reply": "2024-09-13T15:56:38.530904Z"
    },
    "jupyter": {
     "outputs_hidden": false
    }
   },
   "outputs": [],
   "source": [
    "# set values if testing\n",
    "import os\n",
    "import torch\n",
    "from copy import deepcopy\n",
    "from xopt import Xopt, Evaluator\n",
    "from xopt.generators.bayesian import UpperConfidenceBoundGenerator\n",
    "from xopt.generators.bayesian.models.standard import StandardModelConstructor\n",
    "from xopt.generators.bayesian.custom_botorch.hessian_kernel import HessianRBF\n",
    "from gpytorch.kernels import ScaleKernel\n",
    "from xopt.resources.test_functions.tnk import evaluate_TNK, tnk_vocs\n",
    "\n",
    "# Ignore all warnings\n",
    "import warnings\n",
    "\n",
    "warnings.filterwarnings(\"ignore\")\n",
    "\n",
    "SMOKE_TEST = os.environ.get(\"SMOKE_TEST\")\n",
    "NUM_MC_SAMPLES = 1 if SMOKE_TEST else 128\n",
    "NUM_RESTARTS = 1 if SMOKE_TEST else 20\n",
    "\n",
    "vocs = deepcopy(tnk_vocs)\n",
    "vocs.objectives = {\"y2\": \"MINIMIZE\"}\n",
    "\n",
    "# define a custom kernel and create the model constructor\n",
    "hessian_matrix = torch.tensor([[1, -0.8], [-0.8, 1]]).double()\n",
    "kernel = ScaleKernel(HessianRBF(hessian_matrix))\n",
    "gp_constructor = StandardModelConstructor(covar_modules={\"y2\": kernel})\n",
    "\n",
    "\n",
    "generator = UpperConfidenceBoundGenerator(vocs=vocs, gp_constructor=gp_constructor)\n",
    "generator.numerical_optimizer.n_restarts = NUM_RESTARTS\n",
    "generator.n_monte_carlo_samples = NUM_MC_SAMPLES\n",
    "generator.gp_constructor.use_low_noise_prior = True\n",
    "\n",
    "evaluator = Evaluator(function=evaluate_TNK)\n",
    "\n",
    "X = Xopt(generator=generator, evaluator=evaluator, vocs=vocs)\n",
    "X"
   ]
  },
  {
   "cell_type": "markdown",
   "metadata": {
    "collapsed": false,
    "jupyter": {
     "outputs_hidden": false
    }
   },
   "source": [
    "## Evaluate explict points and view model\n",
    "We start with evaluating 2 points that we know satisfy the constraints. Note the\n",
    "cross correlations between x1 and x2 due to the Hessian kernel."
   ]
  },
  {
   "cell_type": "code",
   "execution_count": null,
   "metadata": {
    "ExecuteTime": {
     "end_time": "2024-01-30T18:13:47.228144100Z",
     "start_time": "2024-01-30T18:13:44.084105500Z"
    },
    "execution": {
     "iopub.execute_input": "2024-09-13T15:56:38.552397Z",
     "iopub.status.busy": "2024-09-13T15:56:38.552210Z",
     "iopub.status.idle": "2024-09-13T15:56:40.162265Z",
     "shell.execute_reply": "2024-09-13T15:56:40.161946Z"
    },
    "jupyter": {
     "outputs_hidden": false
    }
   },
   "outputs": [],
   "source": [
    "X.evaluate_data({\"x1\": [1.0, 0.75], \"x2\": [1.0, 2.0]})\n",
    "X.generator.train_model()\n",
    "fig, ax = X.generator.visualize_model(show_feasibility=True, n_grid=100)"
   ]
  },
  {
   "cell_type": "code",
   "execution_count": null,
   "metadata": {
    "ExecuteTime": {
     "end_time": "2024-01-30T18:13:16.075775100Z",
     "start_time": "2024-01-30T18:13:16.040771500Z"
    },
    "execution": {
     "iopub.execute_input": "2024-09-13T15:56:40.165128Z",
     "iopub.status.busy": "2024-09-13T15:56:40.164983Z",
     "iopub.status.idle": "2024-09-13T15:56:40.170771Z",
     "shell.execute_reply": "2024-09-13T15:56:40.170544Z"
    },
    "jupyter": {
     "outputs_hidden": false
    }
   },
   "outputs": [],
   "source": [
    "X.data"
   ]
  }
 ],
 "metadata": {
  "kernelspec": {
   "display_name": "Python 3 (ipykernel)",
   "language": "python",
   "name": "python3"
  },
  "language_info": {
   "codemirror_mode": {
    "name": "ipython",
    "version": 3
   },
   "file_extension": ".py",
   "mimetype": "text/x-python",
   "name": "python",
   "nbconvert_exporter": "python",
   "pygments_lexer": "ipython3",
   "version": "3.12.6"
  }
 },
 "nbformat": 4,
 "nbformat_minor": 4
}
