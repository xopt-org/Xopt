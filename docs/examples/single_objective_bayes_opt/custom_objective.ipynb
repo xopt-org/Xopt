{
 "cells": [
  {
   "cell_type": "markdown",
   "metadata": {
    "collapsed": false,
    "jupyter": {
     "outputs_hidden": false
    }
   },
   "source": [
    "## Bayesian Optimization with Custom Objectives\n",
    "In this tutorial we demonstrate the use of Xopt to preform Bayesian Optimization on\n",
    "custom objectives. In this case, we develop models of individual components of the\n",
    "objective function and combine samples from these models to calculate predicted\n",
    "objective values.\n",
    "\n",
    "In this example we try to maximize the objective function\n",
    "$$f(g_1(x),g_2(x)) = \\min(g_1(x), g_2(x))$$ where $g_1(x) = (x-0.5)^2$ and $g_2(x) =\n",
    "(x - 2)^2$.\n"
   ]
  },
  {
   "cell_type": "markdown",
   "metadata": {
    "collapsed": false,
    "jupyter": {
     "outputs_hidden": false
    }
   },
   "source": [
    "## Define the test problem"
   ]
  },
  {
   "cell_type": "code",
   "execution_count": null,
   "metadata": {
    "ExecuteTime": {
     "end_time": "2024-06-07T19:11:05.338818500Z",
     "start_time": "2024-06-07T19:11:03.007948400Z"
    },
    "execution": {
     "iopub.execute_input": "2024-09-13T15:56:42.362599Z",
     "iopub.status.busy": "2024-09-13T15:56:42.362284Z",
     "iopub.status.idle": "2024-09-13T15:56:43.963796Z",
     "shell.execute_reply": "2024-09-13T15:56:43.963288Z"
    }
   },
   "outputs": [],
   "source": [
    "from xopt.vocs import VOCS\n",
    "\n",
    "import torch\n",
    "\n",
    "from xopt.evaluator import Evaluator\n",
    "from xopt.generators.bayesian import ExpectedImprovementGenerator\n",
    "from xopt import Xopt\n",
    "from xopt.generators.bayesian.objectives import CustomXoptObjective\n",
    "from torch import Tensor\n",
    "from typing import Optional\n",
    "\n",
    "\n",
    "# define variables and function objectives\n",
    "vocs = VOCS(variables={\"x\": [0.0, 2.0]}, observables=[\"g1\", \"g2\"])"
   ]
  },
  {
   "cell_type": "code",
   "execution_count": null,
   "metadata": {
    "ExecuteTime": {
     "end_time": "2024-06-07T19:11:05.398577600Z",
     "start_time": "2024-06-07T19:11:05.395358400Z"
    },
    "execution": {
     "iopub.execute_input": "2024-09-13T15:56:43.966070Z",
     "iopub.status.busy": "2024-09-13T15:56:43.965821Z",
     "iopub.status.idle": "2024-09-13T15:56:43.968101Z",
     "shell.execute_reply": "2024-09-13T15:56:43.967794Z"
    }
   },
   "outputs": [],
   "source": [
    "# define a test function to optimize\n",
    "\n",
    "\n",
    "def sin_function(input_dict):\n",
    "    return {\"g1\": (input_dict[\"x\"]) ** 2, \"g2\": (input_dict[\"x\"] - 2.0) ** 2}"
   ]
  },
  {
   "cell_type": "markdown",
   "metadata": {
    "collapsed": false,
    "jupyter": {
     "outputs_hidden": false
    }
   },
   "source": [
    "## Create Xopt objects\n",
    "Create the evaluator to evaluate our test function and create a generator that uses\n",
    "the Upper Confidence Bound acquisition function to perform Bayesian Optimization. Note that because we are optimizing a problem with no noise we set `use_low_noise_prior=True` in the GP model constructor."
   ]
  },
  {
   "cell_type": "code",
   "execution_count": null,
   "metadata": {
    "ExecuteTime": {
     "end_time": "2024-06-07T19:11:13.023338300Z",
     "start_time": "2024-06-07T19:11:05.403548700Z"
    },
    "execution": {
     "iopub.execute_input": "2024-09-13T15:56:43.969973Z",
     "iopub.status.busy": "2024-09-13T15:56:43.969806Z",
     "iopub.status.idle": "2024-09-13T15:56:47.066052Z",
     "shell.execute_reply": "2024-09-13T15:56:47.065779Z"
    }
   },
   "outputs": [],
   "source": [
    "class MyObjective(CustomXoptObjective):\n",
    "    def forward(self, samples: Tensor, X: Optional[Tensor] = None) -> Tensor:\n",
    "        return torch.min(\n",
    "            samples[..., self.vocs.output_names.index(\"g1\")],\n",
    "            samples[..., self.vocs.output_names.index(\"g2\")],\n",
    "        )\n",
    "\n",
    "\n",
    "evaluator = Evaluator(function=sin_function)\n",
    "generator = ExpectedImprovementGenerator(\n",
    "    vocs=vocs,\n",
    "    custom_objective=MyObjective(vocs),\n",
    ")\n",
    "generator.gp_constructor.use_low_noise_prior = True\n",
    "X = Xopt(evaluator=evaluator, generator=generator, vocs=vocs)\n",
    "print(X)\n",
    "\n",
    "X.random_evaluate(2)\n",
    "\n",
    "n_steps = 5\n",
    "\n",
    "# test points for plotting\n",
    "test_x = torch.linspace(*X.vocs.bounds.flatten(), 50).double()\n",
    "\n",
    "for i in range(n_steps):\n",
    "    # get the Gaussian process model from the generator\n",
    "    model = X.generator.train_model()\n",
    "\n",
    "    X.generator.visualize_model()\n",
    "\n",
    "    # do the optimization step\n",
    "    X.step()"
   ]
  },
  {
   "cell_type": "code",
   "execution_count": null,
   "metadata": {
    "ExecuteTime": {
     "end_time": "2024-06-07T19:11:13.065201200Z",
     "start_time": "2024-06-07T19:11:13.025339800Z"
    }
   },
   "outputs": [],
   "source": []
  },
  {
   "cell_type": "code",
   "execution_count": null,
   "metadata": {
    "ExecuteTime": {
     "end_time": "2024-06-07T19:11:13.070201400Z",
     "start_time": "2024-06-07T19:11:13.054349Z"
    },
    "execution": {
     "iopub.execute_input": "2024-09-13T15:56:47.067639Z",
     "iopub.status.busy": "2024-09-13T15:56:47.067467Z",
     "iopub.status.idle": "2024-09-13T15:56:47.072846Z",
     "shell.execute_reply": "2024-09-13T15:56:47.072630Z"
    }
   },
   "outputs": [],
   "source": [
    "# access the collected data\n",
    "X.data"
   ]
  },
  {
   "cell_type": "markdown",
   "metadata": {
    "collapsed": false,
    "jupyter": {
     "outputs_hidden": false
    }
   },
   "source": [
    "## Getting the optimization result\n",
    "To get the best point (without evaluating it) we ask the generator to\n",
    "predict the optimum based on the posterior mean."
   ]
  },
  {
   "cell_type": "code",
   "execution_count": null,
   "metadata": {
    "ExecuteTime": {
     "end_time": "2024-06-07T19:11:13.894203Z",
     "start_time": "2024-06-07T19:11:13.072204900Z"
    },
    "execution": {
     "iopub.execute_input": "2024-09-13T15:56:47.074184Z",
     "iopub.status.busy": "2024-09-13T15:56:47.074098Z",
     "iopub.status.idle": "2024-09-13T15:56:47.388879Z",
     "shell.execute_reply": "2024-09-13T15:56:47.388566Z"
    }
   },
   "outputs": [],
   "source": [
    "X.generator.get_optimum()"
   ]
  },
  {
   "cell_type": "markdown",
   "metadata": {
    "collapsed": false,
    "jupyter": {
     "outputs_hidden": false
    }
   },
   "source": [
    "## Customizing optimization\n",
    "Each generator has a set of options that can be modified to effect optimization behavior"
   ]
  },
  {
   "cell_type": "code",
   "execution_count": null,
   "metadata": {
    "ExecuteTime": {
     "end_time": "2024-06-07T19:11:13.968067600Z",
     "start_time": "2024-06-07T19:11:13.896722400Z"
    },
    "execution": {
     "iopub.execute_input": "2024-09-13T15:56:47.390453Z",
     "iopub.status.busy": "2024-09-13T15:56:47.390342Z",
     "iopub.status.idle": "2024-09-13T15:56:47.393596Z",
     "shell.execute_reply": "2024-09-13T15:56:47.393324Z"
    }
   },
   "outputs": [],
   "source": [
    "X.generator.dict()"
   ]
  }
 ],
 "metadata": {
  "kernelspec": {
   "display_name": "Python 3 (ipykernel)",
   "language": "python",
   "name": "python3"
  },
  "language_info": {
   "codemirror_mode": {
    "name": "ipython",
    "version": 3
   },
   "file_extension": ".py",
   "mimetype": "text/x-python",
   "name": "python",
   "nbconvert_exporter": "python",
   "pygments_lexer": "ipython3",
   "version": "3.12.6"
  }
 },
 "nbformat": 4,
 "nbformat_minor": 4
}
