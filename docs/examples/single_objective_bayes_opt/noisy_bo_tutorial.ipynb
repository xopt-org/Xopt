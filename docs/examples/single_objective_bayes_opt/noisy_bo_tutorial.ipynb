{
 "cells": [
  {
   "cell_type": "markdown",
   "metadata": {
    "collapsed": false,
    "jupyter": {
     "outputs_hidden": false
    }
   },
   "source": [
    "## Basic Bayesian Optimization\n",
    "In this tutorial we demonstrate the use of Xopt to preform Bayesian Optimization on a\n",
    " simple test problem."
   ]
  },
  {
   "cell_type": "markdown",
   "metadata": {
    "collapsed": false,
    "jupyter": {
     "outputs_hidden": false
    }
   },
   "source": [
    "## Define the test problem\n",
    "Here we define a simple optimization problem, where we attempt to minimize the sin\n",
    "function in the domian [0,2*pi]. Note that the function used to evaluate the\n",
    "objective function takes a dictionary as input and returns a dictionary as the output."
   ]
  },
  {
   "cell_type": "code",
   "execution_count": null,
   "metadata": {
    "ExecuteTime": {
     "end_time": "2025-01-07T20:49:46.118951500Z",
     "start_time": "2025-01-07T20:49:42.123425200Z"
    },
    "execution": {
     "iopub.execute_input": "2024-09-13T15:55:50.083190Z",
     "iopub.status.busy": "2024-09-13T15:55:50.082843Z",
     "iopub.status.idle": "2024-09-13T15:55:51.596445Z",
     "shell.execute_reply": "2024-09-13T15:55:51.596131Z"
    },
    "jupyter": {
     "outputs_hidden": false
    }
   },
   "outputs": [],
   "source": [
    "import torch\n",
    "\n",
    "from xopt.evaluator import Evaluator\n",
    "from xopt.generators.bayesian import UpperConfidenceBoundGenerator\n",
    "from xopt.generators.bayesian.models.standard import StandardModelConstructor\n",
    "from xopt import Xopt\n",
    "\n",
    "from xopt.vocs import VOCS\n",
    "\n",
    "import numpy as np\n",
    "import math\n",
    "\n",
    "# define variables and function objectives\n",
    "vocs = VOCS(\n",
    "    variables={\"x\": [0, 2 * math.pi]},\n",
    "    objectives={\"f\": \"MINIMIZE\"},\n",
    ")"
   ]
  },
  {
   "cell_type": "code",
   "execution_count": null,
   "metadata": {
    "ExecuteTime": {
     "end_time": "2025-01-07T20:49:46.123953400Z",
     "start_time": "2025-01-07T20:49:46.121373300Z"
    },
    "execution": {
     "iopub.execute_input": "2024-09-13T15:55:51.598253Z",
     "iopub.status.busy": "2024-09-13T15:55:51.598093Z",
     "iopub.status.idle": "2024-09-13T15:55:51.600089Z",
     "shell.execute_reply": "2024-09-13T15:55:51.599835Z"
    },
    "jupyter": {
     "outputs_hidden": false
    }
   },
   "outputs": [],
   "source": [
    "# define a test function to optimize\n",
    "def sin_function(input_dict):\n",
    "    # return multiple noisy measurements\n",
    "    return {\n",
    "        \"f\": np.sin(input_dict[\"x\"]) + 0.5 * np.random.randn(5),\n",
    "        \"dummy\": np.random.randn(5),\n",
    "    }"
   ]
  },
  {
   "cell_type": "markdown",
   "metadata": {
    "collapsed": false,
    "jupyter": {
     "outputs_hidden": false
    }
   },
   "source": [
    "## Create Xopt objects\n",
    "Create the evaluator to evaluate our test function and create a generator that uses\n",
    "the Upper Confidence Bound acquisition function to perform Bayesian Optimization."
   ]
  },
  {
   "cell_type": "code",
   "execution_count": null,
   "metadata": {
    "ExecuteTime": {
     "end_time": "2025-01-07T20:49:46.137486900Z",
     "start_time": "2025-01-07T20:49:46.125473400Z"
    },
    "execution": {
     "iopub.execute_input": "2024-09-13T15:55:51.601542Z",
     "iopub.status.busy": "2024-09-13T15:55:51.601443Z",
     "iopub.status.idle": "2024-09-13T15:55:51.605824Z",
     "shell.execute_reply": "2024-09-13T15:55:51.605620Z"
    },
    "jupyter": {
     "outputs_hidden": false
    }
   },
   "outputs": [],
   "source": [
    "evaluator = Evaluator(function=sin_function)\n",
    "gp_constructor = StandardModelConstructor(use_low_noise_prior=False)\n",
    "generator = UpperConfidenceBoundGenerator(vocs=vocs, gp_constructor=gp_constructor)\n",
    "X = Xopt(evaluator=evaluator, generator=generator, vocs=vocs)"
   ]
  },
  {
   "cell_type": "markdown",
   "metadata": {
    "collapsed": false,
    "jupyter": {
     "outputs_hidden": false
    }
   },
   "source": [
    "## Generate and evaluate initial points\n",
    "To begin optimization, we must generate some random initial data points. The first call\n",
    "to `X.step()` will generate and evaluate a number of randomly points specified by the\n",
    " generator. Note that if we add data to xopt before calling `X.step()` by assigning\n",
    " the data to `X.data`, calls to `X.step()` will ignore the random generation and\n",
    " proceed to generating points via Bayesian optimization."
   ]
  },
  {
   "cell_type": "code",
   "execution_count": null,
   "metadata": {
    "ExecuteTime": {
     "end_time": "2025-01-07T20:49:46.162503700Z",
     "start_time": "2025-01-07T20:49:46.138488Z"
    },
    "execution": {
     "iopub.execute_input": "2024-09-13T15:55:51.607170Z",
     "iopub.status.busy": "2024-09-13T15:55:51.607083Z",
     "iopub.status.idle": "2024-09-13T15:55:51.616050Z",
     "shell.execute_reply": "2024-09-13T15:55:51.615821Z"
    },
    "jupyter": {
     "outputs_hidden": false
    }
   },
   "outputs": [],
   "source": [
    "# call X.random_evaluate() to generate + evaluate 3 initial points\n",
    "X.random_evaluate(2)\n",
    "\n",
    "# inspect the gathered data\n",
    "X.data"
   ]
  },
  {
   "cell_type": "markdown",
   "metadata": {
    "collapsed": false,
    "jupyter": {
     "outputs_hidden": false
    }
   },
   "source": [
    "## Do bayesian optimization steps\n",
    "To perform optimization we simply call `X.step()` in a loop. This allows us to do\n",
    "intermediate tasks in between optimization steps, such as examining the model and\n",
    "acquisition function at each step (as we demonstrate here)."
   ]
  },
  {
   "cell_type": "code",
   "execution_count": null,
   "metadata": {
    "ExecuteTime": {
     "end_time": "2025-01-07T20:53:34.584075700Z",
     "start_time": "2025-01-07T20:53:31.873077Z"
    },
    "execution": {
     "iopub.execute_input": "2024-09-13T15:55:51.637303Z",
     "iopub.status.busy": "2024-09-13T15:55:51.637164Z",
     "iopub.status.idle": "2024-09-13T15:55:53.170688Z",
     "shell.execute_reply": "2024-09-13T15:55:53.170435Z"
    }
   },
   "outputs": [],
   "source": [
    "n_steps = 5\n",
    "\n",
    "# test points for plotting\n",
    "test_x = torch.linspace(*X.vocs.bounds.flatten(), 50).double()\n",
    "\n",
    "for i in range(n_steps):\n",
    "    # get the Gaussian process model from the generator\n",
    "    model = X.generator.train_model()\n",
    "\n",
    "    # visualize model\n",
    "    fig, ax = X.generator.visualize_model(n_grid=len(test_x))\n",
    "\n",
    "    # plot true function\n",
    "    true_f = torch.sin(test_x)\n",
    "    ax[0, 0].plot(test_x, true_f, \"C1--\")\n",
    "\n",
    "    # do the optimization step\n",
    "    X.step()"
   ]
  },
  {
   "cell_type": "code",
   "execution_count": null,
   "metadata": {
    "ExecuteTime": {
     "end_time": "2025-01-07T20:54:35.973123Z",
     "start_time": "2025-01-07T20:54:35.949124200Z"
    }
   },
   "outputs": [],
   "source": [
    "ax[0]"
   ]
  },
  {
   "cell_type": "code",
   "execution_count": null,
   "metadata": {
    "ExecuteTime": {
     "start_time": "2025-01-07T20:49:47.635533400Z"
    },
    "execution": {
     "iopub.execute_input": "2024-09-13T15:55:53.172228Z",
     "iopub.status.busy": "2024-09-13T15:55:53.172059Z",
     "iopub.status.idle": "2024-09-13T15:55:53.176984Z",
     "shell.execute_reply": "2024-09-13T15:55:53.176754Z"
    },
    "jupyter": {
     "outputs_hidden": false
    }
   },
   "outputs": [],
   "source": [
    "# access the collected data\n",
    "X.data"
   ]
  },
  {
   "cell_type": "markdown",
   "metadata": {
    "collapsed": false,
    "jupyter": {
     "outputs_hidden": false
    }
   },
   "source": [
    "## Getting the optimization result\n",
    "To get the best point (without evaluating it) we ask the generator to\n",
    "predict the optimum based on the posterior mean."
   ]
  },
  {
   "cell_type": "code",
   "execution_count": null,
   "metadata": {
    "execution": {
     "iopub.execute_input": "2024-09-13T15:55:53.178345Z",
     "iopub.status.busy": "2024-09-13T15:55:53.178263Z",
     "iopub.status.idle": "2024-09-13T15:55:53.203298Z",
     "shell.execute_reply": "2024-09-13T15:55:53.203027Z"
    },
    "jupyter": {
     "outputs_hidden": false
    }
   },
   "outputs": [],
   "source": [
    "X.generator.get_optimum()"
   ]
  },
  {
   "cell_type": "markdown",
   "metadata": {
    "collapsed": false,
    "jupyter": {
     "outputs_hidden": false
    }
   },
   "source": [
    "## Customizing optimization\n",
    "Each generator has a set of options that can be modified to effect optimization behavior"
   ]
  },
  {
   "cell_type": "code",
   "execution_count": null,
   "metadata": {
    "execution": {
     "iopub.execute_input": "2024-09-13T15:55:53.204877Z",
     "iopub.status.busy": "2024-09-13T15:55:53.204764Z",
     "iopub.status.idle": "2024-09-13T15:55:53.207688Z",
     "shell.execute_reply": "2024-09-13T15:55:53.207436Z"
    },
    "jupyter": {
     "outputs_hidden": false
    }
   },
   "outputs": [],
   "source": [
    "X.generator.dict()"
   ]
  }
 ],
 "metadata": {
  "kernelspec": {
   "display_name": "Python 3 (ipykernel)",
   "language": "python",
   "name": "python3"
  },
  "language_info": {
   "codemirror_mode": {
    "name": "ipython",
    "version": 3
   },
   "file_extension": ".py",
   "mimetype": "text/x-python",
   "name": "python",
   "nbconvert_exporter": "python",
   "pygments_lexer": "ipython3",
   "version": "3.12.6"
  }
 },
 "nbformat": 4,
 "nbformat_minor": 4
}
