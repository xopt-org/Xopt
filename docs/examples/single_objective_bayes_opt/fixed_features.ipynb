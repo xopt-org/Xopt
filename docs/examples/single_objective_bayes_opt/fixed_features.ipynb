{
 "cells": [
  {
   "cell_type": "markdown",
   "metadata": {
    "collapsed": false,
    "jupyter": {
     "outputs_hidden": false
    }
   },
   "source": [
    "# Bayesian optimization with fixed features\n",
    "In some contexts a variable/feature needs to be fixed during optimization. However, we\n",
    "can leverage previous measurements near the fixed variable value to potentially\n",
    "jump-start optimization using observed model covariances established by the GP kernel\n",
    ". In this example, we start with a number of random observations in 2D input space\n",
    "and then proceed with BO at a fixed value for one of the variables. This notebook\n",
    "uses the 2D Rosenbrock test function as an example."
   ]
  },
  {
   "cell_type": "code",
   "execution_count": null,
   "metadata": {
    "ExecuteTime": {
     "end_time": "2024-04-23T14:30:02.733046Z",
     "start_time": "2024-04-23T14:29:59.284072800Z"
    },
    "execution": {
     "iopub.execute_input": "2024-09-13T15:55:10.932053Z",
     "iopub.status.busy": "2024-09-13T15:55:10.931840Z",
     "iopub.status.idle": "2024-09-13T15:55:12.675171Z",
     "shell.execute_reply": "2024-09-13T15:55:12.674838Z"
    },
    "jupyter": {
     "outputs_hidden": false
    }
   },
   "outputs": [],
   "source": [
    "# set values if testing\n",
    "import os\n",
    "\n",
    "from xopt.generators.bayesian.visualize import plot_model_prediction\n",
    "from xopt import Xopt, Evaluator\n",
    "from xopt.generators.bayesian import UpperConfidenceBoundGenerator\n",
    "from xopt.resources.test_functions.rosenbrock import (\n",
    "    evaluate_rosenbrock,\n",
    "    make_rosenbrock_vocs,\n",
    ")\n",
    "\n",
    "# Ignore all warnings\n",
    "import warnings\n",
    "\n",
    "warnings.filterwarnings(\"ignore\")\n",
    "\n",
    "\n",
    "SMOKE_TEST = os.environ.get(\"SMOKE_TEST\")\n",
    "NUM_MC_SAMPLES = 1 if SMOKE_TEST else 128\n",
    "NUM_RESTARTS = 1 if SMOKE_TEST else 20\n",
    "\n",
    "# make rosenbrock function vocs in 2D\n",
    "vocs = make_rosenbrock_vocs(2)\n",
    "\n",
    "# define a fixed value for the BO generator\n",
    "fixed_features = {\"x0\": -1.0}\n",
    "generator = UpperConfidenceBoundGenerator(vocs=vocs, fixed_features=fixed_features)\n",
    "generator.numerical_optimizer.n_restarts = NUM_RESTARTS\n",
    "generator.n_monte_carlo_samples = NUM_MC_SAMPLES\n",
    "\n",
    "evaluator = Evaluator(function=evaluate_rosenbrock)\n",
    "\n",
    "X = Xopt(generator=generator, evaluator=evaluator, vocs=vocs)\n",
    "X"
   ]
  },
  {
   "cell_type": "markdown",
   "metadata": {
    "collapsed": false,
    "jupyter": {
     "outputs_hidden": false
    }
   },
   "source": [
    "## Generate some initial random samples in 2D space"
   ]
  },
  {
   "cell_type": "code",
   "execution_count": null,
   "metadata": {
    "ExecuteTime": {
     "end_time": "2024-04-23T14:30:02.748083700Z",
     "start_time": "2024-04-23T14:30:02.735488400Z"
    },
    "execution": {
     "iopub.execute_input": "2024-09-13T15:55:12.696548Z",
     "iopub.status.busy": "2024-09-13T15:55:12.696219Z",
     "iopub.status.idle": "2024-09-13T15:55:12.704733Z",
     "shell.execute_reply": "2024-09-13T15:55:12.704452Z"
    },
    "jupyter": {
     "outputs_hidden": false
    }
   },
   "outputs": [],
   "source": [
    "X.random_evaluate(10)"
   ]
  },
  {
   "cell_type": "markdown",
   "metadata": {
    "collapsed": false,
    "jupyter": {
     "outputs_hidden": false
    }
   },
   "source": [
    "## Run BO steps with fixed features"
   ]
  },
  {
   "cell_type": "code",
   "execution_count": null,
   "metadata": {
    "ExecuteTime": {
     "end_time": "2024-04-23T14:30:03.894045900Z",
     "start_time": "2024-04-23T14:30:02.751046400Z"
    },
    "execution": {
     "iopub.execute_input": "2024-09-13T15:55:12.706413Z",
     "iopub.status.busy": "2024-09-13T15:55:12.706293Z",
     "iopub.status.idle": "2024-09-13T15:55:13.268838Z",
     "shell.execute_reply": "2024-09-13T15:55:13.268516Z"
    },
    "jupyter": {
     "outputs_hidden": false
    }
   },
   "outputs": [],
   "source": [
    "for i in range(5):\n",
    "    X.step()"
   ]
  },
  {
   "cell_type": "code",
   "execution_count": null,
   "metadata": {
    "ExecuteTime": {
     "end_time": "2024-04-23T14:30:03.909044600Z",
     "start_time": "2024-04-23T14:30:03.896046400Z"
    },
    "execution": {
     "iopub.execute_input": "2024-09-13T15:55:13.270560Z",
     "iopub.status.busy": "2024-09-13T15:55:13.270428Z",
     "iopub.status.idle": "2024-09-13T15:55:13.274756Z",
     "shell.execute_reply": "2024-09-13T15:55:13.274532Z"
    },
    "jupyter": {
     "outputs_hidden": false
    }
   },
   "outputs": [],
   "source": [
    "X.data"
   ]
  },
  {
   "cell_type": "markdown",
   "metadata": {
    "collapsed": false,
    "jupyter": {
     "outputs_hidden": false
    }
   },
   "source": [
    "## Visualize model and evaluations\n",
    "Note that for the BO samples, they all are on the line $x_0=-1$"
   ]
  },
  {
   "cell_type": "code",
   "execution_count": null,
   "metadata": {
    "ExecuteTime": {
     "end_time": "2024-04-23T14:30:04.947068400Z",
     "start_time": "2024-04-23T14:30:03.915044900Z"
    },
    "execution": {
     "iopub.execute_input": "2024-09-13T15:55:13.276113Z",
     "iopub.status.busy": "2024-09-13T15:55:13.276022Z",
     "iopub.status.idle": "2024-09-13T15:55:13.661335Z",
     "shell.execute_reply": "2024-09-13T15:55:13.661053Z"
    },
    "jupyter": {
     "outputs_hidden": false
    }
   },
   "outputs": [],
   "source": [
    "ax = plot_model_prediction(\n",
    "    model=X.generator.model,\n",
    "    vocs=X.vocs,\n",
    "    data=X.data,\n",
    "    show_samples=False,\n",
    "    n_grid=100,\n",
    ")\n",
    "ax.plot(\n",
    "    *X.data[[\"x0\", \"x1\"]].to_numpy()[:10].T, \"+C1\", label=\"random samples\", zorder=10\n",
    ")\n",
    "ax.plot(*X.data[[\"x0\", \"x1\"]].to_numpy()[10:].T, \"+C3\", label=\"GP samples\", zorder=10)\n",
    "ax.axvline(-1.0, ls=\"--\")\n",
    "ax.legend();"
   ]
  },
  {
   "cell_type": "markdown",
   "metadata": {
    "collapsed": false,
    "jupyter": {
     "outputs_hidden": false
    }
   },
   "source": [
    "## Run with fixed feature that is not in vocs\n",
    "We can also run fixed features where the fixed variable is not listed in vocs, as\n",
    "long as the generator data contains data corresponding to the fixed feature name. To\n",
    "satisfy this requirements we add the data from the last optimization run."
   ]
  },
  {
   "cell_type": "code",
   "execution_count": null,
   "metadata": {
    "ExecuteTime": {
     "end_time": "2024-04-23T14:30:04.962067400Z",
     "start_time": "2024-04-23T14:30:04.948069800Z"
    },
    "execution": {
     "iopub.execute_input": "2024-09-13T15:55:13.663054Z",
     "iopub.status.busy": "2024-09-13T15:55:13.662884Z",
     "iopub.status.idle": "2024-09-13T15:55:13.664825Z",
     "shell.execute_reply": "2024-09-13T15:55:13.664561Z"
    },
    "jupyter": {
     "outputs_hidden": false
    }
   },
   "outputs": [],
   "source": [
    "# make rosenbrock function vocs in 2-D but remove the `x0` name (set to a fixed\n",
    "# feature in the next cell)\n",
    "vocs = make_rosenbrock_vocs(2)\n",
    "vocs.variables = {\"x1\": [-2.0, 2.0]}"
   ]
  },
  {
   "cell_type": "code",
   "execution_count": null,
   "metadata": {
    "ExecuteTime": {
     "end_time": "2024-04-23T14:30:04.995067700Z",
     "start_time": "2024-04-23T14:30:04.964067300Z"
    },
    "execution": {
     "iopub.execute_input": "2024-09-13T15:55:13.666096Z",
     "iopub.status.busy": "2024-09-13T15:55:13.666007Z",
     "iopub.status.idle": "2024-09-13T15:55:13.668895Z",
     "shell.execute_reply": "2024-09-13T15:55:13.668681Z"
    },
    "jupyter": {
     "outputs_hidden": false
    }
   },
   "outputs": [],
   "source": [
    "# define a fixed value for the BO generator\n",
    "fixed_features = {\"x0\": -1.0}\n",
    "generator = UpperConfidenceBoundGenerator(vocs=vocs, fixed_features=fixed_features)\n",
    "generator.numerical_optimizer.n_restarts = NUM_RESTARTS\n",
    "generator.n_monte_carlo_samples = NUM_MC_SAMPLES\n",
    "\n",
    "evaluator = Evaluator(function=evaluate_rosenbrock)\n",
    "\n",
    "X2 = Xopt(generator=generator, evaluator=evaluator, vocs=vocs)\n",
    "X2.add_data(X.data)"
   ]
  },
  {
   "cell_type": "code",
   "execution_count": null,
   "metadata": {
    "ExecuteTime": {
     "end_time": "2024-04-23T14:30:05.217066800Z",
     "start_time": "2024-04-23T14:30:04.978069700Z"
    },
    "execution": {
     "iopub.execute_input": "2024-09-13T15:55:13.670154Z",
     "iopub.status.busy": "2024-09-13T15:55:13.670055Z",
     "iopub.status.idle": "2024-09-13T15:55:13.751792Z",
     "shell.execute_reply": "2024-09-13T15:55:13.751511Z"
    },
    "jupyter": {
     "outputs_hidden": false
    }
   },
   "outputs": [],
   "source": [
    "# run an optimization step\n",
    "X2.step()"
   ]
  },
  {
   "cell_type": "code",
   "execution_count": null,
   "metadata": {
    "ExecuteTime": {
     "end_time": "2024-04-23T14:30:05.231068700Z",
     "start_time": "2024-04-23T14:30:05.218066400Z"
    },
    "execution": {
     "iopub.execute_input": "2024-09-13T15:55:13.753432Z",
     "iopub.status.busy": "2024-09-13T15:55:13.753336Z",
     "iopub.status.idle": "2024-09-13T15:55:13.757642Z",
     "shell.execute_reply": "2024-09-13T15:55:13.757403Z"
    },
    "jupyter": {
     "outputs_hidden": false
    }
   },
   "outputs": [],
   "source": [
    "X2.data"
   ]
  }
 ],
 "metadata": {
  "kernelspec": {
   "display_name": "Python 3",
   "language": "python",
   "name": "python3"
  },
  "language_info": {
   "codemirror_mode": {
    "name": "ipython",
    "version": 3
   },
   "file_extension": ".py",
   "mimetype": "text/x-python",
   "name": "python",
   "nbconvert_exporter": "python",
   "pygments_lexer": "ipython3",
   "version": "3.12.9"
  }
 },
 "nbformat": 4,
 "nbformat_minor": 4
}
