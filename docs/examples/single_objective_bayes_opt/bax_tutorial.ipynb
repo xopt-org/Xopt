{
 "cells": [
  {
   "cell_type": "markdown",
   "metadata": {},
   "source": [
    "# Basic Optimization using BAX\n",
    "In this notebook we demonstrate the use of Xopt to perform Bayesian Algorithm Execution (BAX) as a means of minimizing the output of a simple test function. BAX is a generalization of Bayesian Optimization that seeks to acquire observations that provide our model with maximal information about our property of interest. In this simple example, our property of interest is the minimum function output and its location in input-space. See https://arxiv.org/pdf/2209.04587.pdf for details."
   ]
  },
  {
   "cell_type": "markdown",
   "metadata": {},
   "source": [
    "## Imports and random seeding for reproducibility"
   ]
  },
  {
   "cell_type": "code",
   "execution_count": null,
   "metadata": {
    "ExecuteTime": {
     "end_time": "2024-07-30T20:40:01.274627800Z",
     "start_time": "2024-07-30T20:39:57.849796300Z"
    },
    "execution": {
     "iopub.execute_input": "2024-09-13T15:55:55.364961Z",
     "iopub.status.busy": "2024-09-13T15:55:55.364610Z",
     "iopub.status.idle": "2024-09-13T15:55:57.130703Z",
     "shell.execute_reply": "2024-09-13T15:55:57.130276Z"
    }
   },
   "outputs": [],
   "source": [
    "import torch\n",
    "\n",
    "from xopt import Xopt\n",
    "from xopt.vocs import VOCS\n",
    "from xopt.generators.bayesian.bax_generator import BaxGenerator\n",
    "from xopt.generators.bayesian.bax.algorithms import GridOptimize\n",
    "from xopt.evaluator import Evaluator\n",
    "from xopt.generators.bayesian.bax.visualize import visualize_virtual_objective\n",
    "\n",
    "import numpy as np\n",
    "import random\n",
    "\n",
    "import os\n",
    "import math\n",
    "import matplotlib.pyplot as plt\n",
    "\n",
    "# Ignore all warnings\n",
    "import warnings\n",
    "\n",
    "warnings.filterwarnings(\"ignore\")\n",
    "\n",
    "\n",
    "os.environ[\"KMP_DUPLICATE_LIB_OK\"] = \"True\"\n",
    "\n",
    "# random seeds for reproducibility\n",
    "rand_seed = 2\n",
    "\n",
    "torch.manual_seed(rand_seed)\n",
    "np.random.seed(rand_seed)  # only affects initial random observations through Xopt\n",
    "random.seed(rand_seed)"
   ]
  },
  {
   "cell_type": "markdown",
   "metadata": {},
   "source": [
    "## Define the test problem\n",
    "Here we define a simple optimization problem, where we attempt to minimize the sin\n",
    "function in the domian [0,2*pi]. Note that the function used to evaluate the\n",
    "objective function takes a dictionary as input and returns a dictionary as the output."
   ]
  },
  {
   "cell_type": "code",
   "execution_count": null,
   "metadata": {
    "ExecuteTime": {
     "end_time": "2024-07-30T20:40:01.289628200Z",
     "start_time": "2024-07-30T20:40:01.277626900Z"
    },
    "execution": {
     "iopub.execute_input": "2024-09-13T15:55:57.132763Z",
     "iopub.status.busy": "2024-09-13T15:55:57.132536Z",
     "iopub.status.idle": "2024-09-13T15:55:57.134879Z",
     "shell.execute_reply": "2024-09-13T15:55:57.134579Z"
    }
   },
   "outputs": [],
   "source": [
    "# define variables and function objectives\n",
    "vocs = VOCS(\n",
    "    variables={\"x\": [0, 2 * math.pi]},\n",
    "    observables=[\"y1\"],\n",
    ")"
   ]
  },
  {
   "cell_type": "code",
   "execution_count": null,
   "metadata": {
    "ExecuteTime": {
     "end_time": "2024-07-30T20:40:01.318392200Z",
     "start_time": "2024-07-30T20:40:01.291627800Z"
    },
    "execution": {
     "iopub.execute_input": "2024-09-13T15:55:57.136536Z",
     "iopub.status.busy": "2024-09-13T15:55:57.136408Z",
     "iopub.status.idle": "2024-09-13T15:55:57.138213Z",
     "shell.execute_reply": "2024-09-13T15:55:57.137991Z"
    }
   },
   "outputs": [],
   "source": [
    "# define a test function to optimize\n",
    "def sin_function(input_dict):\n",
    "    return {\"y1\": np.sin(input_dict[\"x\"])}"
   ]
  },
  {
   "cell_type": "markdown",
   "metadata": {},
   "source": [
    "## Prepare BAX generator for Xopt\n",
    "Create a generator that uses the ExpectedInformationGain (InfoBAX) acquisition\n",
    "function to perform Bayesian Optimization. Note that we use minimization on a grid,\n",
    "so specifying the number of mesh points can negatively impact decision making time\n",
    "(especially in higher dimensional feature spaces). Note that because we are optimizing a problem with no noise we set `use_low_noise_prior=True` in the GP model constructor."
   ]
  },
  {
   "cell_type": "code",
   "execution_count": null,
   "metadata": {
    "ExecuteTime": {
     "end_time": "2024-07-30T20:40:01.322392400Z",
     "start_time": "2024-07-30T20:40:01.308880200Z"
    },
    "execution": {
     "iopub.execute_input": "2024-09-13T15:55:57.139600Z",
     "iopub.status.busy": "2024-09-13T15:55:57.139487Z",
     "iopub.status.idle": "2024-09-13T15:55:57.141211Z",
     "shell.execute_reply": "2024-09-13T15:55:57.140968Z"
    }
   },
   "outputs": [],
   "source": [
    "# Prepare BAX algorithm and generator options\n",
    "algorithm = GridOptimize(n_mesh_points=50)  # NOTE: default is to minimize\n",
    "\n",
    "# construct BAX generator\n",
    "generator = BaxGenerator(vocs=vocs, algorithm=algorithm)\n",
    "generator.gp_constructor.use_low_noise_prior = True"
   ]
  },
  {
   "cell_type": "markdown",
   "metadata": {},
   "source": [
    "## Create Evaluator and Xopt objects\n",
    "Create the Evaluator (which allows Xopt to interface with our test function) and finish constructing our Xopt object."
   ]
  },
  {
   "cell_type": "code",
   "execution_count": null,
   "metadata": {
    "ExecuteTime": {
     "end_time": "2024-07-30T20:40:01.336812700Z",
     "start_time": "2024-07-30T20:40:01.323393100Z"
    },
    "execution": {
     "iopub.execute_input": "2024-09-13T15:55:57.142623Z",
     "iopub.status.busy": "2024-09-13T15:55:57.142503Z",
     "iopub.status.idle": "2024-09-13T15:55:57.147883Z",
     "shell.execute_reply": "2024-09-13T15:55:57.147582Z"
    }
   },
   "outputs": [],
   "source": [
    "# construct evaluator\n",
    "evaluator = Evaluator(function=sin_function)\n",
    "\n",
    "# construct Xopt optimizer\n",
    "X = Xopt(evaluator=evaluator, generator=generator, vocs=vocs)"
   ]
  },
  {
   "cell_type": "markdown",
   "metadata": {},
   "source": [
    "## Generate and evaluate initial points\n",
    "To begin optimization, we must generate some random initial data points. The first call\n",
    "to `X.step()` will generate and evaluate a number of randomly points specified by the\n",
    " generator. Note that if we add data to xopt before calling `X.step()` by assigning\n",
    " the data to `X.data`, calls to `X.step()` will ignore the random generation and\n",
    " proceed to generating points via Bayesian optimization."
   ]
  },
  {
   "cell_type": "code",
   "execution_count": null,
   "metadata": {
    "ExecuteTime": {
     "end_time": "2024-07-30T20:40:01.395027700Z",
     "start_time": "2024-07-30T20:40:01.337812700Z"
    },
    "execution": {
     "iopub.execute_input": "2024-09-13T15:55:57.149353Z",
     "iopub.status.busy": "2024-09-13T15:55:57.149264Z",
     "iopub.status.idle": "2024-09-13T15:55:57.157170Z",
     "shell.execute_reply": "2024-09-13T15:55:57.156926Z"
    }
   },
   "outputs": [],
   "source": [
    "# evaluate initial points\n",
    "X.random_evaluate(3)\n",
    "\n",
    "# inspect the gathered data\n",
    "X.data"
   ]
  },
  {
   "cell_type": "markdown",
   "metadata": {
    "collapsed": false,
    "jupyter": {
     "outputs_hidden": false
    }
   },
   "source": [
    "### Define plotting utility\n",
    "Define a plotting function that plots the GP model, samples from the GP model, and the\n",
    "execution paths (red crosses)."
   ]
  },
  {
   "cell_type": "code",
   "execution_count": null,
   "metadata": {
    "ExecuteTime": {
     "end_time": "2024-07-30T20:40:01.398993800Z",
     "start_time": "2024-07-30T20:40:01.380025800Z"
    },
    "execution": {
     "iopub.execute_input": "2024-09-13T15:55:57.179682Z",
     "iopub.status.busy": "2024-09-13T15:55:57.179513Z",
     "iopub.status.idle": "2024-09-13T15:55:57.185064Z",
     "shell.execute_reply": "2024-09-13T15:55:57.184714Z"
    }
   },
   "outputs": [],
   "source": [
    "def plot_bax(X):\n",
    "    # get the Gaussian process model from the generator\n",
    "    model = X.generator.train_model()\n",
    "\n",
    "    # get acquisition function from generator\n",
    "    acq = X.generator.get_acquisition(model)\n",
    "\n",
    "    # calculate model posterior and acquisition function at each test point\n",
    "    # NOTE: need to add a dimension to the input tensor for evaluating the\n",
    "    # posterior and another for the acquisition function, see\n",
    "    # https://botorch.org/docs/batching for details\n",
    "    # NOTE: we use the `torch.no_grad()` environment to speed up computation by\n",
    "    # skipping calculations for backpropagation\n",
    "    with torch.no_grad():\n",
    "        posterior = model.posterior(test_x.unsqueeze(1))\n",
    "        acq_val = acq(test_x.reshape(-1, 1, 1))\n",
    "\n",
    "    # get mean function and confidence regions\n",
    "    mean = posterior.mean\n",
    "    L, u = posterior.mvn.confidence_region()\n",
    "\n",
    "    # plot model and acquisition function\n",
    "    fig, ax = plt.subplots(3, 1, sharex=\"all\")\n",
    "    fig.set_size_inches(8, 6)\n",
    "\n",
    "    # plot model posterior\n",
    "    ax[0].plot(test_x, mean, label=\"Posterior mean\")\n",
    "    ax[0].fill_between(test_x, L, u, alpha=0.25, label=\"Posterior confidence region\")\n",
    "\n",
    "    # add data to model plot\n",
    "    ax[0].plot(X.data[\"x\"], X.data[\"y1\"], \"C1o\", label=\"Training data\")\n",
    "\n",
    "    # plot true function\n",
    "    true_f = sin_function({\"x\": test_x})[\"y1\"]\n",
    "    ax[0].plot(test_x, true_f, \"--\", label=\"Ground truth\")\n",
    "\n",
    "    # plot the function samples and their optima found by BAX\n",
    "    test_points = X.generator.algorithm_results[\"test_points\"]\n",
    "    posterior_samples = X.generator.algorithm_results[\"posterior_samples\"]\n",
    "    execution_paths = X.generator.algorithm_results[\"execution_paths\"]\n",
    "\n",
    "    label1 = \"Function Samples\"\n",
    "    label2 = \"Sample Optima\"\n",
    "    for i in range(X.generator.algorithm.n_samples):\n",
    "        (samples,) = ax[1].plot(\n",
    "            test_points, posterior_samples[i], c=\"C0\", alpha=0.3, label=label1\n",
    "        )\n",
    "        ax[1].scatter(\n",
    "            *execution_paths[i], c=\"r\", marker=\"x\", s=80, label=label2, zorder=10\n",
    "        )\n",
    "        label1 = None\n",
    "        label2 = None\n",
    "\n",
    "    # plot acquisition function\n",
    "    ax[2].plot(test_x, acq_val.flatten())\n",
    "\n",
    "    ax[0].set_ylabel(\"y1\")\n",
    "    ax[1].set_ylabel(\"y1\")\n",
    "    ax[2].set_ylabel(r\"$\\alpha(x)$\")\n",
    "    ax[2].set_xlabel(\"x\")\n",
    "\n",
    "    return fig, ax"
   ]
  },
  {
   "cell_type": "markdown",
   "metadata": {},
   "source": [
    "## Do bayesian optimization steps\n",
    "To perform optimization we simply call `X.step()` in a loop. This allows us to do\n",
    "intermediate tasks in between optimization steps, such as examining the model and\n",
    "acquisition function at each step (as we demonstrate here)."
   ]
  },
  {
   "cell_type": "code",
   "execution_count": null,
   "metadata": {
    "ExecuteTime": {
     "end_time": "2024-07-30T20:40:11.438033900Z",
     "start_time": "2024-07-30T20:40:01.385024100Z"
    },
    "execution": {
     "iopub.execute_input": "2024-09-13T15:55:57.186686Z",
     "iopub.status.busy": "2024-09-13T15:55:57.186547Z",
     "iopub.status.idle": "2024-09-13T15:56:01.230192Z",
     "shell.execute_reply": "2024-09-13T15:56:01.229853Z"
    }
   },
   "outputs": [],
   "source": [
    "n_steps = 3\n",
    "\n",
    "# test points for plotting\n",
    "test_x = torch.linspace(*X.vocs.bounds.flatten(), 50).double()\n",
    "\n",
    "for i in range(5):\n",
    "    # plot model and bax information\n",
    "    fig, ax = plot_bax(X)\n",
    "\n",
    "    if i == 0:\n",
    "        ax[0].legend(ncols=2)\n",
    "        ax[1].legend()\n",
    "\n",
    "    # do the optimization step\n",
    "    X.step()"
   ]
  },
  {
   "cell_type": "code",
   "execution_count": null,
   "metadata": {
    "ExecuteTime": {
     "end_time": "2024-07-30T20:40:11.453033700Z",
     "start_time": "2024-07-30T20:40:11.435033200Z"
    },
    "execution": {
     "iopub.execute_input": "2024-09-13T15:56:01.231866Z",
     "iopub.status.busy": "2024-09-13T15:56:01.231695Z",
     "iopub.status.idle": "2024-09-13T15:56:01.235374Z",
     "shell.execute_reply": "2024-09-13T15:56:01.235137Z"
    }
   },
   "outputs": [],
   "source": [
    "# access the collected data\n",
    "X.data"
   ]
  },
  {
   "cell_type": "code",
   "execution_count": null,
   "metadata": {
    "ExecuteTime": {
     "end_time": "2024-07-30T20:40:11.696033700Z",
     "start_time": "2024-07-30T20:40:11.450033600Z"
    },
    "execution": {
     "iopub.execute_input": "2024-09-13T15:56:01.236731Z",
     "iopub.status.busy": "2024-09-13T15:56:01.236643Z",
     "iopub.status.idle": "2024-09-13T15:56:01.319340Z",
     "shell.execute_reply": "2024-09-13T15:56:01.319019Z"
    }
   },
   "outputs": [],
   "source": [
    "# plot the virtual objective (which in this case is simply the observable model for y1) via posterior sampling\n",
    "\n",
    "visualize_virtual_objective(X.generator, n_samples=1000)"
   ]
  }
 ],
 "metadata": {
  "kernelspec": {
   "display_name": "Python 3 (ipykernel)",
   "language": "python",
   "name": "python3"
  },
  "language_info": {
   "codemirror_mode": {
    "name": "ipython",
    "version": 3
   },
   "file_extension": ".py",
   "mimetype": "text/x-python",
   "name": "python",
   "nbconvert_exporter": "python",
   "pygments_lexer": "ipython3",
   "version": "3.12.6"
  }
 },
 "nbformat": 4,
 "nbformat_minor": 4
}
