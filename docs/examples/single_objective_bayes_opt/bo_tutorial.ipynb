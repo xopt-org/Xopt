{
 "cells": [
  {
   "cell_type": "markdown",
   "metadata": {
    "collapsed": false,
    "jupyter": {
     "outputs_hidden": false
    }
   },
   "source": [
    "## Basic Bayesian Optimization\n",
    "In this tutorial we demonstrate the use of Xopt to preform Bayesian Optimization on a\n",
    " simple test problem."
   ]
  },
  {
   "cell_type": "markdown",
   "metadata": {
    "collapsed": false,
    "jupyter": {
     "outputs_hidden": false
    }
   },
   "source": [
    "## Define the test problem\n",
    "Here we define a simple optimization problem, where we attempt to minimize the sin\n",
    "function in the domian [0,2*pi]. Note that the function used to evaluate the\n",
    "objective function takes a dictionary as input and returns a dictionary as the output."
   ]
  },
  {
   "cell_type": "code",
   "execution_count": null,
   "metadata": {
    "ExecuteTime": {
     "end_time": "2023-04-21T14:39:38.756460Z",
     "start_time": "2023-04-21T14:39:36.916454Z"
    },
    "execution": {
     "iopub.execute_input": "2024-09-13T15:54:40.504418Z",
     "iopub.status.busy": "2024-09-13T15:54:40.503940Z",
     "iopub.status.idle": "2024-09-13T15:54:42.299260Z",
     "shell.execute_reply": "2024-09-13T15:54:42.298941Z"
    }
   },
   "outputs": [],
   "source": [
    "from xopt.vocs import VOCS\n",
    "from xopt.evaluator import Evaluator\n",
    "from xopt.generators.bayesian import UpperConfidenceBoundGenerator\n",
    "from xopt import Xopt\n",
    "import torch\n",
    "import matplotlib.pyplot as plt\n",
    "import math\n",
    "import numpy as np\n",
    "\n",
    "# define variables and function objectives\n",
    "vocs = VOCS(\n",
    "    variables={\"x\": [0, 2 * math.pi]},\n",
    "    objectives={\"f\": \"MINIMIZE\"},\n",
    ")"
   ]
  },
  {
   "cell_type": "code",
   "execution_count": null,
   "metadata": {
    "ExecuteTime": {
     "end_time": "2023-04-21T14:39:38.760199Z",
     "start_time": "2023-04-21T14:39:38.757155Z"
    },
    "execution": {
     "iopub.execute_input": "2024-09-13T15:54:42.301322Z",
     "iopub.status.busy": "2024-09-13T15:54:42.301113Z",
     "iopub.status.idle": "2024-09-13T15:54:42.303076Z",
     "shell.execute_reply": "2024-09-13T15:54:42.302830Z"
    }
   },
   "outputs": [],
   "source": [
    "# define a test function to optimize\n",
    "def sin_function(input_dict):\n",
    "    return {\"f\": np.sin(input_dict[\"x\"])}"
   ]
  },
  {
   "cell_type": "markdown",
   "metadata": {
    "collapsed": false,
    "jupyter": {
     "outputs_hidden": false
    }
   },
   "source": [
    "## Create Xopt objects\n",
    "Create the evaluator to evaluate our test function and create a generator that uses\n",
    "the Upper Confidence Bound acquisition function to perform Bayesian Optimization. Note that because we are optimizing a problem with no noise we set `use_low_noise_prior=True` in the GP model constructor."
   ]
  },
  {
   "cell_type": "code",
   "execution_count": null,
   "metadata": {
    "ExecuteTime": {
     "end_time": "2023-04-21T14:39:38.769546Z",
     "start_time": "2023-04-21T14:39:38.765875Z"
    },
    "execution": {
     "iopub.execute_input": "2024-09-13T15:54:42.304489Z",
     "iopub.status.busy": "2024-09-13T15:54:42.304389Z",
     "iopub.status.idle": "2024-09-13T15:54:42.309045Z",
     "shell.execute_reply": "2024-09-13T15:54:42.308828Z"
    }
   },
   "outputs": [],
   "source": [
    "evaluator = Evaluator(function=sin_function)\n",
    "generator = UpperConfidenceBoundGenerator(vocs=vocs)\n",
    "generator.gp_constructor.use_low_noise_prior = True\n",
    "X = Xopt(evaluator=evaluator, generator=generator, vocs=vocs)"
   ]
  },
  {
   "cell_type": "markdown",
   "metadata": {
    "collapsed": false,
    "jupyter": {
     "outputs_hidden": false
    }
   },
   "source": [
    "## Generate and evaluate initial points\n",
    "To begin optimization, we must generate some random initial data points. The first call\n",
    "to `X.step()` will generate and evaluate a number of randomly points specified by the\n",
    " generator. Note that if we add data to xopt before calling `X.step()` by assigning\n",
    " the data to `X.data`, calls to `X.step()` will ignore the random generation and\n",
    " proceed to generating points via Bayesian optimization."
   ]
  },
  {
   "cell_type": "code",
   "execution_count": null,
   "metadata": {
    "ExecuteTime": {
     "end_time": "2023-04-21T14:39:38.780529Z",
     "start_time": "2023-04-21T14:39:38.770010Z"
    },
    "execution": {
     "iopub.execute_input": "2024-09-13T15:54:42.310443Z",
     "iopub.status.busy": "2024-09-13T15:54:42.310351Z",
     "iopub.status.idle": "2024-09-13T15:54:42.317339Z",
     "shell.execute_reply": "2024-09-13T15:54:42.317108Z"
    }
   },
   "outputs": [],
   "source": [
    "# call X.random_evaluate() to generate + evaluate 3 initial points\n",
    "X.random_evaluate(2)\n",
    "\n",
    "# inspect the gathered data\n",
    "X.data"
   ]
  },
  {
   "cell_type": "markdown",
   "metadata": {
    "collapsed": false,
    "jupyter": {
     "outputs_hidden": false
    }
   },
   "source": [
    "## Do bayesian optimization steps\n",
    "To perform optimization we simply call `X.step()` in a loop. This allows us to do\n",
    "intermediate tasks in between optimization steps, such as examining the model and\n",
    "acquisition function at each step (as we demonstrate here)."
   ]
  },
  {
   "cell_type": "code",
   "execution_count": null,
   "metadata": {
    "ExecuteTime": {
     "end_time": "2023-04-21T14:39:40.645385Z",
     "start_time": "2023-04-21T14:39:38.783110Z"
    },
    "execution": {
     "iopub.execute_input": "2024-09-13T15:54:42.337828Z",
     "iopub.status.busy": "2024-09-13T15:54:42.337698Z",
     "iopub.status.idle": "2024-09-13T15:54:43.800699Z",
     "shell.execute_reply": "2024-09-13T15:54:43.800325Z"
    }
   },
   "outputs": [],
   "source": [
    "n_steps = 5\n",
    "\n",
    "# test points for plotting\n",
    "test_x = torch.linspace(*X.vocs.bounds.flatten(), 50).double()\n",
    "\n",
    "for i in range(n_steps):\n",
    "    # get the Gaussian process model from the generator\n",
    "    model = X.generator.train_model()\n",
    "\n",
    "    # get acquisition function from generator\n",
    "    acq = X.generator.get_acquisition(model)\n",
    "\n",
    "    # calculate model posterior and acquisition function at each test point\n",
    "    # NOTE: need to add a dimension to the input tensor for evaluating the\n",
    "    # posterior and another for the acquisition function, see\n",
    "    # https://botorch.org/docs/batching for details\n",
    "    # NOTE: we use the `torch.no_grad()` environment to speed up computation by\n",
    "    # skipping calculations for backpropagation\n",
    "    with torch.no_grad():\n",
    "        posterior = model.posterior(test_x.unsqueeze(1))\n",
    "        acq_val = acq(test_x.reshape(-1, 1, 1))\n",
    "\n",
    "    # get mean function and confidence regions\n",
    "    mean = posterior.mean\n",
    "    L, u = posterior.mvn.confidence_region()\n",
    "\n",
    "    # plot model and acquisition function\n",
    "    fig, ax = plt.subplots(2, 1, sharex=\"all\")\n",
    "\n",
    "    # plot model posterior\n",
    "    ax[0].plot(test_x, mean, label=\"Posterior mean\")\n",
    "    ax[0].fill_between(test_x, L, u, alpha=0.25, label=\"Posterior confidence region\")\n",
    "\n",
    "    # add data to model plot\n",
    "    ax[0].plot(X.data[\"x\"], X.data[\"f\"], \"C1o\", label=\"Training data\")\n",
    "\n",
    "    # plot true function\n",
    "    true_f = sin_function({\"x\": test_x})[\"f\"]\n",
    "    ax[0].plot(test_x, true_f, \"--\", label=\"Ground truth\")\n",
    "\n",
    "    # add legend\n",
    "    ax[0].legend()\n",
    "\n",
    "    # plot acquisition function\n",
    "    ax[1].plot(test_x, acq_val.flatten())\n",
    "\n",
    "    ax[0].set_ylabel(\"f\")\n",
    "    ax[1].set_ylabel(r\"$\\alpha(x)$\")\n",
    "    ax[1].set_xlabel(\"x\")\n",
    "\n",
    "    # do the optimization step\n",
    "    X.step()"
   ]
  },
  {
   "cell_type": "code",
   "execution_count": null,
   "metadata": {
    "ExecuteTime": {
     "end_time": "2023-04-21T14:39:40.650703Z",
     "start_time": "2023-04-21T14:39:40.648118Z"
    },
    "execution": {
     "iopub.execute_input": "2024-09-13T15:54:43.802317Z",
     "iopub.status.busy": "2024-09-13T15:54:43.802139Z",
     "iopub.status.idle": "2024-09-13T15:54:43.805912Z",
     "shell.execute_reply": "2024-09-13T15:54:43.805655Z"
    }
   },
   "outputs": [],
   "source": [
    "# access the collected data\n",
    "X.data"
   ]
  },
  {
   "cell_type": "markdown",
   "metadata": {
    "collapsed": false,
    "jupyter": {
     "outputs_hidden": false
    }
   },
   "source": [
    "## Getting the optimization result\n",
    "To get the best point (without evaluating it) we ask the generator to\n",
    "predict the optimum based on the posterior mean."
   ]
  },
  {
   "cell_type": "code",
   "execution_count": null,
   "metadata": {
    "ExecuteTime": {
     "end_time": "2023-04-21T14:39:41.043509Z",
     "start_time": "2023-04-21T14:39:40.651174Z"
    },
    "execution": {
     "iopub.execute_input": "2024-09-13T15:54:43.807331Z",
     "iopub.status.busy": "2024-09-13T15:54:43.807236Z",
     "iopub.status.idle": "2024-09-13T15:54:43.851867Z",
     "shell.execute_reply": "2024-09-13T15:54:43.851631Z"
    }
   },
   "outputs": [],
   "source": [
    "X.generator.get_optimum()"
   ]
  },
  {
   "cell_type": "markdown",
   "metadata": {
    "collapsed": false,
    "jupyter": {
     "outputs_hidden": false
    }
   },
   "source": [
    "## Customizing optimization\n",
    "Each generator has a set of options that can be modified to effect optimization behavior"
   ]
  },
  {
   "cell_type": "code",
   "execution_count": null,
   "metadata": {
    "ExecuteTime": {
     "end_time": "2023-04-21T14:39:41.046912Z",
     "start_time": "2023-04-21T14:39:41.044438Z"
    },
    "execution": {
     "iopub.execute_input": "2024-09-13T15:54:43.853410Z",
     "iopub.status.busy": "2024-09-13T15:54:43.853319Z",
     "iopub.status.idle": "2024-09-13T15:54:43.856576Z",
     "shell.execute_reply": "2024-09-13T15:54:43.856264Z"
    }
   },
   "outputs": [],
   "source": [
    "X.generator.dict()"
   ]
  }
 ],
 "metadata": {
  "kernelspec": {
   "display_name": "Python 3",
   "language": "python",
   "name": "python3"
  },
  "language_info": {
   "codemirror_mode": {
    "name": "ipython",
    "version": 3
   },
   "file_extension": ".py",
   "mimetype": "text/x-python",
   "name": "python",
   "nbconvert_exporter": "python",
   "pygments_lexer": "ipython3",
   "version": "3.12.9"
  }
 },
 "nbformat": 4,
 "nbformat_minor": 4
}
