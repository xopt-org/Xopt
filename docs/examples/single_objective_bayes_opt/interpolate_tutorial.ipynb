{
 "cells": [
  {
   "cell_type": "markdown",
   "metadata": {
    "collapsed": false,
    "jupyter": {
     "outputs_hidden": false
    }
   },
   "source": [
    "## Bayesian Optimization w/ Interpolated Samples\n",
    "In some situations, the process of evaluating objectives and constraints\n",
    "consumes fewer resources compared to the computational demands associated\n",
    "with Bayesian Optimization (BO) decision-making. Particularly, when\n",
    "making subtle changes to parameters during optimization, the cost of\n",
    "assessing objectives becomes notably more affordable.\n",
    "\n",
    "Consider a practical example: the optimization of magnet parameters in an\n",
    "accelerator with the goal of either minimizing the beam spot size on a\n",
    "screen or maximizing the Free Electron Laser (FEL) pulse energy. In such\n",
    "cases, where adjustments to accelerator parameters are frequent, it proves\n",
    "beneficial to augment the dataset by implementing multiple smaller changes\n",
    "to the parameters. These adjustments are followed by quick measurements of\n",
    "the objective in between the parameter changes guided by BO.\n",
    "\n",
    "This approach, although introducing a slight slowdown to the BO process\n",
    "due to the addition of extra training points, it will expedite\n",
    "convergence for most problems. It offers a more efficient alternative compared to the\n",
    "strategy of measuring the same points multiple times in noisy environments.\n",
    "The rationale here is that the exploration of a broader parameter space\n",
    "through numerous smaller changes enhances the overall understanding of\n",
    "the system's behavior, potentially leading to a more efficient and\n",
    "effective optimization process.\n",
    "\n",
    "NOTE: This only works for serialized problems.\n",
    "\n",
    "WARNING: The interpolated points may violate constraints! Do not use this feature in\n",
    "problems where safety is critical."
   ]
  },
  {
   "cell_type": "markdown",
   "metadata": {
    "collapsed": false,
    "jupyter": {
     "outputs_hidden": false
    }
   },
   "source": [
    "## Define the test problem\n",
    "Here we define a simple optimization problem, where we attempt to minimize the sphere\n",
    " function."
   ]
  },
  {
   "cell_type": "code",
   "execution_count": null,
   "metadata": {
    "ExecuteTime": {
     "end_time": "2023-11-18T21:45:33.751558100Z",
     "start_time": "2023-11-18T21:45:31.381879Z"
    },
    "execution": {
     "iopub.execute_input": "2024-09-13T15:54:46.023291Z",
     "iopub.status.busy": "2024-09-13T15:54:46.023005Z",
     "iopub.status.idle": "2024-09-13T15:54:47.479491Z",
     "shell.execute_reply": "2024-09-13T15:54:47.479086Z"
    },
    "jupyter": {
     "outputs_hidden": false
    }
   },
   "outputs": [],
   "source": [
    "from xopt.vocs import VOCS\n",
    "from xopt.evaluator import Evaluator\n",
    "from xopt.generators.bayesian import ExpectedImprovementGenerator\n",
    "from xopt import Xopt\n",
    "\n",
    "# define variables and function objectives\n",
    "vocs = VOCS(\n",
    "    variables={\"x1\": [-1, 1], \"x2\": [-1, 1]},\n",
    "    objectives={\"f\": \"MINIMIZE\"},\n",
    ")"
   ]
  },
  {
   "cell_type": "code",
   "execution_count": null,
   "metadata": {
    "ExecuteTime": {
     "end_time": "2023-11-18T21:45:33.765546400Z",
     "start_time": "2023-11-18T21:45:33.753560100Z"
    },
    "execution": {
     "iopub.execute_input": "2024-09-13T15:54:47.481445Z",
     "iopub.status.busy": "2024-09-13T15:54:47.481204Z",
     "iopub.status.idle": "2024-09-13T15:54:47.483361Z",
     "shell.execute_reply": "2024-09-13T15:54:47.483100Z"
    },
    "jupyter": {
     "outputs_hidden": false
    }
   },
   "outputs": [],
   "source": [
    "# define a test function to optimize\n",
    "\n",
    "\n",
    "def sphere_function(input_dict):\n",
    "    return {\"f\": input_dict[\"x1\"] ** 2 + input_dict[\"x2\"] ** 2}"
   ]
  },
  {
   "cell_type": "markdown",
   "metadata": {
    "collapsed": false,
    "jupyter": {
     "outputs_hidden": false
    }
   },
   "source": [
    "## Create Xopt objects\n",
    "Create the evaluator to evaluate our test function and create a generator that uses\n",
    "the Upper Confidence Bound acquisition function to perform Bayesian Optimization. We\n",
    "additionally specify `n_interpolate_points` to be non-zero such that the generator\n",
    "proposes interpolated points during generation. Note that because we are optimizing a problem with no noise we set `use_low_noise_prior=True` in the GP model constructor."
   ]
  },
  {
   "cell_type": "code",
   "execution_count": null,
   "metadata": {
    "ExecuteTime": {
     "end_time": "2023-11-18T21:45:34.728144600Z",
     "start_time": "2023-11-18T21:45:33.767547200Z"
    },
    "execution": {
     "iopub.execute_input": "2024-09-13T15:54:47.484885Z",
     "iopub.status.busy": "2024-09-13T15:54:47.484774Z",
     "iopub.status.idle": "2024-09-13T15:54:47.489934Z",
     "shell.execute_reply": "2024-09-13T15:54:47.489693Z"
    },
    "jupyter": {
     "outputs_hidden": false
    }
   },
   "outputs": [],
   "source": [
    "# define a generator that uses 5 interpolation points during sampling\n",
    "generator = ExpectedImprovementGenerator(vocs=vocs, n_interpolate_points=5)\n",
    "generator.gp_constructor.use_low_noise_prior = True\n",
    "\n",
    "\n",
    "evaluator = Evaluator(function=sphere_function)\n",
    "X = Xopt(evaluator=evaluator, generator=generator, vocs=vocs)"
   ]
  },
  {
   "cell_type": "markdown",
   "metadata": {
    "collapsed": false,
    "jupyter": {
     "outputs_hidden": false
    }
   },
   "source": [
    "## Generate and evaluate initial points\n",
    "To begin optimization, we must generate some random initial data points. The first call\n",
    "to `X.step()` will generate and evaluate a number of randomly points specified by the\n",
    " generator. Note that if we add data to xopt before calling `X.step()` by assigning\n",
    " the data to `X.data`, calls to `X.step()` will ignore the random generation and\n",
    " proceed to generating points via Bayesian optimization."
   ]
  },
  {
   "cell_type": "code",
   "execution_count": null,
   "metadata": {
    "ExecuteTime": {
     "end_time": "2023-11-18T21:45:34.771145400Z",
     "start_time": "2023-11-18T21:45:34.729146100Z"
    },
    "execution": {
     "iopub.execute_input": "2024-09-13T15:54:47.491291Z",
     "iopub.status.busy": "2024-09-13T15:54:47.491210Z",
     "iopub.status.idle": "2024-09-13T15:54:47.550723Z",
     "shell.execute_reply": "2024-09-13T15:54:47.550314Z"
    },
    "jupyter": {
     "outputs_hidden": false
    }
   },
   "outputs": [],
   "source": [
    "# call X.random_evaluate() to generate + evaluate initial points\n",
    "X.random_evaluate(2)\n",
    "\n",
    "# inspect the gathered data\n",
    "X.data"
   ]
  },
  {
   "cell_type": "markdown",
   "metadata": {
    "collapsed": false,
    "jupyter": {
     "outputs_hidden": false
    }
   },
   "source": [
    "## Do bayesian optimization steps\n",
    "To perform optimization we simply call `X.step()` in a loop. This allows us to do\n",
    "intermediate tasks in between optimization steps, such as examining the model and\n",
    "acquisition function at each step (as we demonstrate here)."
   ]
  },
  {
   "cell_type": "code",
   "execution_count": null,
   "metadata": {
    "ExecuteTime": {
     "end_time": "2023-11-18T21:45:42.637209400Z",
     "start_time": "2023-11-18T21:45:34.762146600Z"
    },
    "execution": {
     "iopub.execute_input": "2024-09-13T15:54:47.571375Z",
     "iopub.status.busy": "2024-09-13T15:54:47.571234Z",
     "iopub.status.idle": "2024-09-13T15:54:51.014558Z",
     "shell.execute_reply": "2024-09-13T15:54:51.014298Z"
    },
    "jupyter": {
     "outputs_hidden": false
    }
   },
   "outputs": [],
   "source": [
    "X.generator.train_model()\n",
    "X.generator.visualize_model(n_grid=50)\n",
    "\n",
    "n_steps = 5\n",
    "for i in range(n_steps):\n",
    "    print(i)\n",
    "    # do the optimization step\n",
    "    X.step()\n",
    "\n",
    "    # train the model and visualize\n",
    "    X.generator.train_model()\n",
    "    fig, ax = X.generator.visualize_model(n_grid=50)\n",
    "\n",
    "    # add the ground truth minimum location\n",
    "    for a in ax.flatten()[:-1]:\n",
    "        a.plot(0, 0, \"x\", c=\"red\", ms=10)"
   ]
  },
  {
   "cell_type": "code",
   "execution_count": null,
   "metadata": {
    "ExecuteTime": {
     "end_time": "2023-11-18T21:45:42.652179200Z",
     "start_time": "2023-11-18T21:45:42.634209700Z"
    },
    "execution": {
     "iopub.execute_input": "2024-09-13T15:54:51.016157Z",
     "iopub.status.busy": "2024-09-13T15:54:51.015990Z",
     "iopub.status.idle": "2024-09-13T15:54:51.021195Z",
     "shell.execute_reply": "2024-09-13T15:54:51.020958Z"
    },
    "jupyter": {
     "outputs_hidden": false
    }
   },
   "outputs": [],
   "source": [
    "# access the collected data\n",
    "X.data"
   ]
  },
  {
   "cell_type": "markdown",
   "metadata": {
    "collapsed": false,
    "jupyter": {
     "outputs_hidden": false
    }
   },
   "source": [
    "## Getting the optimization result\n",
    "To get the best point (without evaluating it) we ask the generator to\n",
    "predict the optimum based on the posterior mean."
   ]
  },
  {
   "cell_type": "code",
   "execution_count": null,
   "metadata": {
    "ExecuteTime": {
     "end_time": "2023-11-18T21:45:42.760178900Z",
     "start_time": "2023-11-18T21:45:42.649210Z"
    },
    "execution": {
     "iopub.execute_input": "2024-09-13T15:54:51.022662Z",
     "iopub.status.busy": "2024-09-13T15:54:51.022555Z",
     "iopub.status.idle": "2024-09-13T15:54:51.038185Z",
     "shell.execute_reply": "2024-09-13T15:54:51.037920Z"
    },
    "jupyter": {
     "outputs_hidden": false
    }
   },
   "outputs": [],
   "source": [
    "X.generator.get_optimum()"
   ]
  }
 ],
 "metadata": {
  "kernelspec": {
   "display_name": "Python 3 (ipykernel)",
   "language": "python",
   "name": "python3"
  },
  "language_info": {
   "codemirror_mode": {
    "name": "ipython",
    "version": 3
   },
   "file_extension": ".py",
   "mimetype": "text/x-python",
   "name": "python",
   "nbconvert_exporter": "python",
   "pygments_lexer": "ipython3",
   "version": "3.12.6"
  }
 },
 "nbformat": 4,
 "nbformat_minor": 4
}
