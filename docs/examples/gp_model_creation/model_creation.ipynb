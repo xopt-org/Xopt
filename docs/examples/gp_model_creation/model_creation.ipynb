{
 "cells": [
  {
   "cell_type": "markdown",
   "metadata": {
    "collapsed": false,
    "jupyter": {
     "outputs_hidden": false
    }
   },
   "source": [
    "## Building GP Models from Scratch\n",
    "Sometimes it is useful to build GP models outside the context of BO for data\n",
    "visualization and senativity measurements, ie. learned hyperparameters. Here we\n",
    "demonstrate how to build models from data outside of generators.\n",
    "\n",
    "For this we use the 3D rosenbrock function test function."
   ]
  },
  {
   "cell_type": "code",
   "execution_count": null,
   "metadata": {
    "execution": {
     "iopub.execute_input": "2024-09-13T15:56:57.465196Z",
     "iopub.status.busy": "2024-09-13T15:56:57.464798Z",
     "iopub.status.idle": "2024-09-13T15:56:59.020677Z",
     "shell.execute_reply": "2024-09-13T15:56:59.020398Z"
    }
   },
   "outputs": [],
   "source": [
    "# set values if testing\n",
    "import os\n",
    "\n",
    "from xopt import Xopt, Evaluator\n",
    "from xopt.generators import RandomGenerator\n",
    "from xopt.resources.test_functions.rosenbrock import (\n",
    "    evaluate_rosenbrock,\n",
    "    make_rosenbrock_vocs,\n",
    ")\n",
    "\n",
    "from xopt.generators.bayesian.visualize import visualize_model\n",
    "from xopt.generators.bayesian.models.standard import StandardModelConstructor\n",
    "\n",
    "# Ignore all warnings\n",
    "import warnings\n",
    "\n",
    "warnings.filterwarnings(\"ignore\")\n",
    "\n",
    "\n",
    "SMOKE_TEST = os.environ.get(\"SMOKE_TEST\")\n",
    "NUM_MC_SAMPLES = 1 if SMOKE_TEST else 128\n",
    "NUM_RESTARTS = 1 if SMOKE_TEST else 20\n",
    "\n",
    "# make rosenbrock function vocs in 3D\n",
    "vocs = make_rosenbrock_vocs(3)\n",
    "\n",
    "# collect some data using random sampling\n",
    "evaluator = Evaluator(function=evaluate_rosenbrock)\n",
    "generator = RandomGenerator(vocs=vocs)\n",
    "X = Xopt(generator=generator, evaluator=evaluator, vocs=vocs)\n",
    "X.random_evaluate(15)"
   ]
  },
  {
   "cell_type": "markdown",
   "metadata": {
    "collapsed": false,
    "jupyter": {
     "outputs_hidden": false
    }
   },
   "source": [
    "## Create GP model based on the data"
   ]
  },
  {
   "cell_type": "code",
   "execution_count": null,
   "metadata": {
    "execution": {
     "iopub.execute_input": "2024-09-13T15:56:59.042358Z",
     "iopub.status.busy": "2024-09-13T15:56:59.042170Z",
     "iopub.status.idle": "2024-09-13T15:56:59.043905Z",
     "shell.execute_reply": "2024-09-13T15:56:59.043681Z"
    }
   },
   "outputs": [],
   "source": [
    "data = X.data"
   ]
  },
  {
   "cell_type": "code",
   "execution_count": null,
   "metadata": {
    "execution": {
     "iopub.execute_input": "2024-09-13T15:56:59.045209Z",
     "iopub.status.busy": "2024-09-13T15:56:59.045127Z",
     "iopub.status.idle": "2024-09-13T15:56:59.301614Z",
     "shell.execute_reply": "2024-09-13T15:56:59.301336Z"
    }
   },
   "outputs": [],
   "source": [
    "model_constructor = StandardModelConstructor()\n",
    "\n",
    "# here we build a model from vocs\n",
    "model = model_constructor.build_model_from_vocs(vocs=vocs, data=data)\n",
    "\n",
    "# here we build a model from info (more flexible)\n",
    "model = model_constructor.build_model(\n",
    "    input_names=[\"x0\", \"x1\", \"x2\"], outcome_names=[\"y\"], data=data\n",
    ")\n",
    "help(model_constructor.build_model)"
   ]
  },
  {
   "cell_type": "markdown",
   "metadata": {
    "collapsed": false,
    "jupyter": {
     "outputs_hidden": false
    }
   },
   "source": [
    "## Examine GP model hyperparameters\n",
    "Here we look at the GP hyperparameters for the objective function (the first model).\n",
    "Note: the hyperparameters here are in raw_units (due to contraints on parameter\n",
    "values, ie. lengthscales > 0)"
   ]
  },
  {
   "cell_type": "code",
   "execution_count": null,
   "metadata": {
    "execution": {
     "iopub.execute_input": "2024-09-13T15:56:59.303297Z",
     "iopub.status.busy": "2024-09-13T15:56:59.303134Z",
     "iopub.status.idle": "2024-09-13T15:56:59.306355Z",
     "shell.execute_reply": "2024-09-13T15:56:59.306053Z"
    }
   },
   "outputs": [],
   "source": [
    "objective_model = model.models[vocs.output_names.index(\"y\")]\n",
    "\n",
    "# print raw hyperparameter values\n",
    "for name, val in objective_model.named_parameters():\n",
    "    print(name, val)"
   ]
  },
  {
   "cell_type": "code",
   "execution_count": null,
   "metadata": {},
   "outputs": [],
   "source": [
    "# print real values - note that these are in normalized coordinates\n",
    "print(\"prior mean:\", objective_model.mean_module.constant.data)\n",
    "print(\"noise:\", objective_model.get_likelihood().noise_covar.noise.data)\n",
    "print(\"lengthscales\", objective_model.covar_module.lengthscale.data)"
   ]
  },
  {
   "cell_type": "code",
   "execution_count": null,
   "metadata": {},
   "outputs": [],
   "source": [
    "objective_model"
   ]
  },
  {
   "cell_type": "markdown",
   "metadata": {
    "collapsed": false,
    "jupyter": {
     "outputs_hidden": false
    }
   },
   "source": [
    "## Visualize model predictions"
   ]
  },
  {
   "cell_type": "code",
   "execution_count": null,
   "metadata": {
    "execution": {
     "iopub.execute_input": "2024-09-13T15:56:59.311380Z",
     "iopub.status.busy": "2024-09-13T15:56:59.311290Z",
     "iopub.status.idle": "2024-09-13T15:56:59.854969Z",
     "shell.execute_reply": "2024-09-13T15:56:59.854557Z"
    }
   },
   "outputs": [],
   "source": [
    "fig, ax = visualize_model(\n",
    "    model, vocs, data, variable_names=[\"x0\", \"x1\"], reference_point={\"x2\": 0.0}\n",
    ")"
   ]
  }
 ],
 "metadata": {
  "kernelspec": {
   "display_name": "Python 3 (ipykernel)",
   "language": "python",
   "name": "python3"
  },
  "language_info": {
   "codemirror_mode": {
    "name": "ipython",
    "version": 3
   },
   "file_extension": ".py",
   "mimetype": "text/x-python",
   "name": "python",
   "nbconvert_exporter": "python",
   "pygments_lexer": "ipython3",
   "version": "3.12.6"
  }
 },
 "nbformat": 4,
 "nbformat_minor": 4
}
