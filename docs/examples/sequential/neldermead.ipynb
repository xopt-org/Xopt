{
 "cells": [
  {
   "cell_type": "markdown",
   "metadata": {},
   "source": [
    "# Nelder-Mead Generator adapted from SciPy\n",
    "\n",
    "Most of the algorithms in scipy.optimize are self-contained functions that operate on the user-provided `func`. Xopt has adapted the Nelder-Mead directly from scipy.optimize to be in a generator form. This allows for the manual stepping through the algorithm.\n"
   ]
  },
  {
   "cell_type": "code",
   "execution_count": null,
   "metadata": {
    "ExecuteTime": {
     "end_time": "2023-10-30T17:44:49.812021200Z",
     "start_time": "2023-10-30T17:44:49.674945300Z"
    },
    "execution": {
     "iopub.execute_input": "2024-09-13T15:59:55.290406Z",
     "iopub.status.busy": "2024-09-13T15:59:55.290130Z",
     "iopub.status.idle": "2024-09-13T15:59:56.629085Z",
     "shell.execute_reply": "2024-09-13T15:59:56.628652Z"
    }
   },
   "outputs": [],
   "source": [
    "from xopt.generators.sequential.neldermead import NelderMeadGenerator\n",
    "from xopt import Evaluator, VOCS\n",
    "from xopt.resources.test_functions.rosenbrock import rosenbrock\n",
    "\n",
    "import pandas as pd\n",
    "\n",
    "from xopt import Xopt\n",
    "import numpy as np\n",
    "\n",
    "from scipy.optimize import fmin\n",
    "\n",
    "# from xopt import output_notebook\n",
    "# output_notebook()\n",
    "\n",
    "import matplotlib.pyplot as plt"
   ]
  },
  {
   "cell_type": "markdown",
   "metadata": {},
   "source": [
    "## Nelder-Mead optimization of the Rosenbrock function with Xopt"
   ]
  },
  {
   "cell_type": "code",
   "execution_count": null,
   "metadata": {
    "ExecuteTime": {
     "end_time": "2023-10-30T17:44:49.892121Z",
     "start_time": "2023-10-30T17:44:49.680946600Z"
    },
    "execution": {
     "iopub.execute_input": "2024-09-13T15:59:56.630921Z",
     "iopub.status.busy": "2024-09-13T15:59:56.630754Z",
     "iopub.status.idle": "2024-09-13T15:59:56.770318Z",
     "shell.execute_reply": "2024-09-13T15:59:56.769954Z"
    }
   },
   "outputs": [],
   "source": [
    "YAML = \"\"\"\n",
    "max_evaluations: 500\n",
    "generator:\n",
    "  name: neldermead\n",
    "  adaptive: true\n",
    "evaluator:\n",
    "  function: xopt.resources.test_functions.rosenbrock.evaluate_rosenbrock\n",
    "vocs:\n",
    "  variables:\n",
    "    x0: [-5, 5]\n",
    "    x1: [-5, 5]\n",
    "  objectives: {y: MINIMIZE}\n",
    "\"\"\"\n",
    "X = Xopt.from_yaml(YAML)"
   ]
  },
  {
   "cell_type": "code",
   "execution_count": null,
   "metadata": {
    "ExecuteTime": {
     "end_time": "2023-10-30T17:44:49.974002700Z",
     "start_time": "2023-10-30T17:44:49.689493800Z"
    },
    "execution": {
     "iopub.execute_input": "2024-09-13T15:59:56.772033Z",
     "iopub.status.busy": "2024-09-13T15:59:56.771899Z",
     "iopub.status.idle": "2024-09-13T15:59:56.773651Z",
     "shell.execute_reply": "2024-09-13T15:59:56.773421Z"
    }
   },
   "outputs": [],
   "source": [
    "XMIN = [1, 1]  # True minimum"
   ]
  },
  {
   "cell_type": "code",
   "execution_count": null,
   "metadata": {
    "ExecuteTime": {
     "end_time": "2023-10-30T17:44:50.195902300Z",
     "start_time": "2023-10-30T17:44:49.692491400Z"
    },
    "execution": {
     "iopub.execute_input": "2024-09-13T15:59:56.774890Z",
     "iopub.status.busy": "2024-09-13T15:59:56.774814Z",
     "iopub.status.idle": "2024-09-13T15:59:56.900724Z",
     "shell.execute_reply": "2024-09-13T15:59:56.900477Z"
    }
   },
   "outputs": [],
   "source": [
    "X.random_evaluate(2)\n",
    "X.run()\n",
    "X.data"
   ]
  },
  {
   "cell_type": "code",
   "execution_count": null,
   "metadata": {
    "ExecuteTime": {
     "end_time": "2023-10-30T17:44:50.365947900Z",
     "start_time": "2023-10-30T17:44:50.143890300Z"
    },
    "execution": {
     "iopub.execute_input": "2024-09-13T15:59:56.921439Z",
     "iopub.status.busy": "2024-09-13T15:59:56.921315Z",
     "iopub.status.idle": "2024-09-13T15:59:57.126519Z",
     "shell.execute_reply": "2024-09-13T15:59:57.126249Z"
    }
   },
   "outputs": [],
   "source": [
    "# Evaluation progression\n",
    "X.data[\"y\"].plot()\n",
    "plt.yscale(\"log\")\n",
    "plt.xlabel(\"iteration\")\n",
    "plt.ylabel(\"Rosenbrock value\")"
   ]
  },
  {
   "cell_type": "code",
   "execution_count": null,
   "metadata": {
    "ExecuteTime": {
     "end_time": "2023-10-30T17:44:50.365947900Z",
     "start_time": "2023-10-30T17:44:50.334810200Z"
    },
    "execution": {
     "iopub.execute_input": "2024-09-13T15:59:57.128025Z",
     "iopub.status.busy": "2024-09-13T15:59:57.127898Z",
     "iopub.status.idle": "2024-09-13T15:59:57.130442Z",
     "shell.execute_reply": "2024-09-13T15:59:57.130194Z"
    }
   },
   "outputs": [],
   "source": [
    "# Minimum\n",
    "dict(X.data.iloc[X.data[\"y\"].argmin()])"
   ]
  },
  {
   "cell_type": "markdown",
   "metadata": {},
   "source": [
    "## Visualize"
   ]
  },
  {
   "cell_type": "code",
   "execution_count": null,
   "metadata": {
    "ExecuteTime": {
     "end_time": "2023-10-30T17:44:50.678806600Z",
     "start_time": "2023-10-30T17:44:50.342942900Z"
    },
    "execution": {
     "iopub.execute_input": "2024-09-13T15:59:57.131800Z",
     "iopub.status.busy": "2024-09-13T15:59:57.131700Z",
     "iopub.status.idle": "2024-09-13T15:59:57.350241Z",
     "shell.execute_reply": "2024-09-13T15:59:57.349942Z"
    }
   },
   "outputs": [],
   "source": [
    "fig, ax = plt.subplots(figsize=(8, 8))\n",
    "\n",
    "Xgrid, Ygrid = np.meshgrid(np.linspace(-2, 2, 201), np.linspace(-2, 2, 201))\n",
    "\n",
    "Zgrid = np.vectorize(lambda x, y: rosenbrock([x, y]))(Xgrid, Ygrid)\n",
    "Zgrid = np.log(Zgrid + 1)\n",
    "\n",
    "ax.pcolormesh(Xgrid, Ygrid, Zgrid)\n",
    "ax.contour(Xgrid, Ygrid, Zgrid, levels=10, colors=\"black\")\n",
    "ax.set_xlabel(\"x0\")\n",
    "ax.set_ylabel(\"x1\")\n",
    "\n",
    "\n",
    "# Add all evaluations\n",
    "ax.plot(X.data[\"x0\"], X.data[\"x1\"], color=\"red\", alpha=0.5, marker=\".\")\n",
    "ax.scatter(XMIN[0], XMIN[1], 50, marker=\"o\", color=\"orange\", label=\"True minimum\")\n",
    "ax.set_xlim(-2, 2)\n",
    "ax.set_ylim(-2, 2)\n",
    "# plt.legend()\n",
    "ax.set_title(\"Xopt's Nelder-Mead progression\")"
   ]
  },
  {
   "cell_type": "code",
   "execution_count": null,
   "metadata": {
    "ExecuteTime": {
     "end_time": "2023-10-30T17:44:51.150914300Z",
     "start_time": "2023-10-30T17:44:50.678806600Z"
    },
    "execution": {
     "iopub.execute_input": "2024-09-13T15:59:57.353700Z",
     "iopub.status.busy": "2024-09-13T15:59:57.353586Z",
     "iopub.status.idle": "2024-09-13T15:59:57.475442Z",
     "shell.execute_reply": "2024-09-13T15:59:57.475164Z"
    }
   },
   "outputs": [],
   "source": [
    "# Manually step the algorithm and collect simplexes\n",
    "X = Xopt.from_yaml(YAML)\n",
    "X.random_evaluate(1)\n",
    "simplexes = []\n",
    "for i in range(500):\n",
    "    X.step()\n",
    "    simplexes.append(X.generator.simplex)"
   ]
  },
  {
   "cell_type": "code",
   "execution_count": null,
   "metadata": {
    "ExecuteTime": {
     "end_time": "2023-10-30T17:44:51.435380800Z",
     "start_time": "2023-10-30T17:44:51.141912400Z"
    },
    "execution": {
     "iopub.execute_input": "2024-09-13T15:59:57.476926Z",
     "iopub.status.busy": "2024-09-13T15:59:57.476833Z",
     "iopub.status.idle": "2024-09-13T15:59:57.642323Z",
     "shell.execute_reply": "2024-09-13T15:59:57.642032Z"
    }
   },
   "outputs": [],
   "source": [
    "def plot_simplex(simplex, ax=None):\n",
    "    x0 = simplex[\"x0\"]\n",
    "    x1 = simplex[\"x1\"]\n",
    "    x0 = np.append(x0, x0[0])\n",
    "    x1 = np.append(x1, x1[0])\n",
    "    ax.plot(x0, x1)\n",
    "\n",
    "\n",
    "fig, ax = plt.subplots(figsize=(8, 8))\n",
    "ax.pcolormesh(Xgrid, Ygrid, Zgrid)\n",
    "# ax.contour(Xgrid, Ygrid, Zgrid, levels=10, colors='black')\n",
    "ax.set_xlim(-2, 2)\n",
    "ax.set_ylim(-2, 2)\n",
    "ax.set_xlabel(\"x0\")\n",
    "ax.set_ylabel(\"x1\")\n",
    "ax.set_title(\"Nelder-Mead simplex progression\")\n",
    "\n",
    "ax.scatter(XMIN[0], XMIN[1], 50, marker=\"o\", color=\"orange\", label=\"True minimum\")\n",
    "\n",
    "for simplex in simplexes:\n",
    "    plot_simplex(simplex, ax)"
   ]
  },
  {
   "cell_type": "markdown",
   "metadata": {},
   "source": [
    "## Compare with scipy.optimize.fmin Nelder-Mead\n",
    "\n",
    "Notice that fmin is much faster here. This is because the function runs very fast, so the internal Xopt bookkeeping overhead dominates.\n"
   ]
  },
  {
   "cell_type": "code",
   "execution_count": null,
   "metadata": {
    "ExecuteTime": {
     "end_time": "2023-10-30T17:44:51.449604Z",
     "start_time": "2023-10-30T17:44:51.439896600Z"
    },
    "execution": {
     "iopub.execute_input": "2024-09-13T15:59:57.644248Z",
     "iopub.status.busy": "2024-09-13T15:59:57.644134Z",
     "iopub.status.idle": "2024-09-13T15:59:57.647915Z",
     "shell.execute_reply": "2024-09-13T15:59:57.647663Z"
    }
   },
   "outputs": [],
   "source": [
    "result = fmin(rosenbrock, [-1, -1])\n",
    "result"
   ]
  },
  {
   "cell_type": "code",
   "execution_count": null,
   "metadata": {
    "ExecuteTime": {
     "end_time": "2023-10-30T17:44:51.464852Z",
     "start_time": "2023-10-30T17:44:51.449604Z"
    },
    "execution": {
     "iopub.execute_input": "2024-09-13T15:59:57.649286Z",
     "iopub.status.busy": "2024-09-13T15:59:57.649209Z",
     "iopub.status.idle": "2024-09-13T15:59:57.652369Z",
     "shell.execute_reply": "2024-09-13T15:59:57.652131Z"
    }
   },
   "outputs": [],
   "source": [
    "X = Xopt.from_yaml(YAML)\n",
    "X.random_evaluate(1)"
   ]
  },
  {
   "cell_type": "code",
   "execution_count": null,
   "metadata": {
    "ExecuteTime": {
     "end_time": "2023-10-30T17:44:51.953260600Z",
     "start_time": "2023-10-30T17:44:51.458863500Z"
    },
    "execution": {
     "iopub.execute_input": "2024-09-13T15:59:57.653687Z",
     "iopub.status.busy": "2024-09-13T15:59:57.653609Z",
     "iopub.status.idle": "2024-09-13T15:59:57.774912Z",
     "shell.execute_reply": "2024-09-13T15:59:57.774652Z"
    }
   },
   "outputs": [],
   "source": [
    "X.run()\n",
    "# Almost exactly the same number evaluations.\n",
    "len(X.data)"
   ]
  },
  {
   "cell_type": "code",
   "execution_count": null,
   "metadata": {
    "ExecuteTime": {
     "end_time": "2023-10-30T17:44:51.953260600Z",
     "start_time": "2023-10-30T17:44:51.947939500Z"
    },
    "execution": {
     "iopub.execute_input": "2024-09-13T15:59:57.776356Z",
     "iopub.status.busy": "2024-09-13T15:59:57.776254Z",
     "iopub.status.idle": "2024-09-13T15:59:57.778516Z",
     "shell.execute_reply": "2024-09-13T15:59:57.778285Z"
    }
   },
   "outputs": [],
   "source": [
    "# results are the same\n",
    "xbest = X.data.iloc[X.data[\"y\"].argmin()]\n",
    "xbest[\"x0\"] == result[0], xbest[\"x1\"] == result[1]"
   ]
  },
  {
   "cell_type": "markdown",
   "metadata": {},
   "source": [
    "# NelderMeadGenerator object"
   ]
  },
  {
   "cell_type": "code",
   "execution_count": null,
   "metadata": {
    "ExecuteTime": {
     "end_time": "2023-10-30T17:44:51.961646200Z",
     "start_time": "2023-10-30T17:44:51.956765600Z"
    },
    "execution": {
     "iopub.execute_input": "2024-09-13T15:59:57.779845Z",
     "iopub.status.busy": "2024-09-13T15:59:57.779744Z",
     "iopub.status.idle": "2024-09-13T15:59:57.781773Z",
     "shell.execute_reply": "2024-09-13T15:59:57.781561Z"
    }
   },
   "outputs": [],
   "source": [
    "NelderMeadGenerator.model_fields"
   ]
  },
  {
   "cell_type": "code",
   "execution_count": null,
   "metadata": {
    "ExecuteTime": {
     "end_time": "2023-10-30T17:44:51.983064100Z",
     "start_time": "2023-10-30T17:44:51.963646900Z"
    },
    "execution": {
     "iopub.execute_input": "2024-09-13T15:59:57.783087Z",
     "iopub.status.busy": "2024-09-13T15:59:57.782990Z",
     "iopub.status.idle": "2024-09-13T15:59:57.786326Z",
     "shell.execute_reply": "2024-09-13T15:59:57.786079Z"
    }
   },
   "outputs": [],
   "source": [
    "Xbest = [33, 44]\n",
    "\n",
    "\n",
    "def f(inputs, verbose=False):\n",
    "    if verbose:\n",
    "        print(f\"evaluate f({inputs})\")\n",
    "    x0 = inputs[\"x0\"]\n",
    "    x1 = inputs[\"x1\"]\n",
    "\n",
    "    # if x0 < 10:\n",
    "    #    raise ValueError('test XXXX')\n",
    "\n",
    "    y = (x0 - Xbest[0]) ** 2 + (x1 - Xbest[1]) ** 2\n",
    "\n",
    "    return {\"y\": y}\n",
    "\n",
    "\n",
    "ev = Evaluator(function=f)\n",
    "vocs = VOCS(\n",
    "    variables={\"x0\": [-100, 100], \"x1\": [-100, 100]}, objectives={\"y\": \"MINIMIZE\"}\n",
    ")\n",
    "vocs.json()"
   ]
  },
  {
   "cell_type": "code",
   "execution_count": null,
   "metadata": {
    "ExecuteTime": {
     "end_time": "2023-10-30T17:44:52.060007300Z",
     "start_time": "2023-10-30T17:44:51.971425700Z"
    },
    "execution": {
     "iopub.execute_input": "2024-09-13T15:59:57.787580Z",
     "iopub.status.busy": "2024-09-13T15:59:57.787501Z",
     "iopub.status.idle": "2024-09-13T15:59:57.789464Z",
     "shell.execute_reply": "2024-09-13T15:59:57.789240Z"
    }
   },
   "outputs": [],
   "source": [
    "# check output\n",
    "f(vocs.random_inputs()[0])"
   ]
  },
  {
   "cell_type": "code",
   "execution_count": null,
   "metadata": {
    "ExecuteTime": {
     "end_time": "2023-10-30T17:44:52.061007300Z",
     "start_time": "2023-10-30T17:44:51.975482700Z"
    },
    "execution": {
     "iopub.execute_input": "2024-09-13T15:59:57.790962Z",
     "iopub.status.busy": "2024-09-13T15:59:57.790884Z",
     "iopub.status.idle": "2024-09-13T15:59:57.793148Z",
     "shell.execute_reply": "2024-09-13T15:59:57.792936Z"
    }
   },
   "outputs": [],
   "source": [
    "G = NelderMeadGenerator(vocs=vocs, initial_point={\"x0\": 0, \"x1\": 0})\n",
    "inputs = G.generate(1)\n",
    "inputs"
   ]
  },
  {
   "cell_type": "code",
   "execution_count": null,
   "metadata": {
    "ExecuteTime": {
     "end_time": "2023-10-30T17:44:52.063008Z",
     "start_time": "2023-10-30T17:44:51.981063900Z"
    },
    "execution": {
     "iopub.execute_input": "2024-09-13T15:59:57.794425Z",
     "iopub.status.busy": "2024-09-13T15:59:57.794345Z",
     "iopub.status.idle": "2024-09-13T15:59:57.796438Z",
     "shell.execute_reply": "2024-09-13T15:59:57.796201Z"
    }
   },
   "outputs": [],
   "source": [
    "# Further generate calls will continue to produce same point, as with BO\n",
    "G.generate(1)"
   ]
  },
  {
   "cell_type": "code",
   "execution_count": null,
   "metadata": {
    "ExecuteTime": {
     "end_time": "2023-10-30T17:44:52.064007900Z",
     "start_time": "2023-10-30T17:44:51.987724400Z"
    },
    "execution": {
     "iopub.execute_input": "2024-09-13T15:59:57.797783Z",
     "iopub.status.busy": "2024-09-13T15:59:57.797707Z",
     "iopub.status.idle": "2024-09-13T15:59:57.799517Z",
     "shell.execute_reply": "2024-09-13T15:59:57.799279Z"
    }
   },
   "outputs": [],
   "source": [
    "ev.evaluate(inputs[0])"
   ]
  },
  {
   "cell_type": "code",
   "execution_count": null,
   "metadata": {
    "ExecuteTime": {
     "end_time": "2023-10-30T17:44:52.065008300Z",
     "start_time": "2023-10-30T17:44:51.991721600Z"
    },
    "execution": {
     "iopub.execute_input": "2024-09-13T15:59:57.800848Z",
     "iopub.status.busy": "2024-09-13T15:59:57.800768Z",
     "iopub.status.idle": "2024-09-13T15:59:57.803515Z",
     "shell.execute_reply": "2024-09-13T15:59:57.803286Z"
    }
   },
   "outputs": [],
   "source": [
    "# Adding new data will advance state to next step, and next generate() will yield new point\n",
    "G.add_data(pd.DataFrame(inputs[0] | ev.evaluate(inputs[0]), index=[0]))\n",
    "G.generate(1)"
   ]
  },
  {
   "cell_type": "code",
   "execution_count": null,
   "metadata": {
    "ExecuteTime": {
     "end_time": "2023-10-30T17:44:52.065008300Z",
     "start_time": "2023-10-30T17:44:52.000489700Z"
    },
    "execution": {
     "iopub.execute_input": "2024-09-13T15:59:57.804779Z",
     "iopub.status.busy": "2024-09-13T15:59:57.804698Z",
     "iopub.status.idle": "2024-09-13T15:59:57.806303Z",
     "shell.execute_reply": "2024-09-13T15:59:57.806080Z"
    }
   },
   "outputs": [],
   "source": [
    "# Create Xopt object\n",
    "X = Xopt(\n",
    "    evaluator=ev,\n",
    "    vocs=vocs,\n",
    "    generator=NelderMeadGenerator(vocs=vocs),\n",
    "    max_evaluations=100,\n",
    ")\n",
    "\n",
    "# Optional: give an initial pioint\n",
    "X.generator.initial_point = {\"x0\": 0, \"x1\": 0}"
   ]
  },
  {
   "cell_type": "code",
   "execution_count": null,
   "metadata": {
    "ExecuteTime": {
     "end_time": "2023-10-30T17:44:52.813583500Z",
     "start_time": "2023-10-30T17:44:52.002994200Z"
    },
    "execution": {
     "iopub.execute_input": "2024-09-13T15:59:57.807568Z",
     "iopub.status.busy": "2024-09-13T15:59:57.807488Z",
     "iopub.status.idle": "2024-09-13T15:59:57.973465Z",
     "shell.execute_reply": "2024-09-13T15:59:57.973221Z"
    }
   },
   "outputs": [],
   "source": [
    "X.run()"
   ]
  },
  {
   "cell_type": "code",
   "execution_count": null,
   "metadata": {
    "ExecuteTime": {
     "end_time": "2023-10-30T17:44:52.832798100Z",
     "start_time": "2023-10-30T17:44:52.825250500Z"
    },
    "execution": {
     "iopub.execute_input": "2024-09-13T15:59:57.981477Z",
     "iopub.status.busy": "2024-09-13T15:59:57.981399Z",
     "iopub.status.idle": "2024-09-13T15:59:57.983453Z",
     "shell.execute_reply": "2024-09-13T15:59:57.983225Z"
    }
   },
   "outputs": [],
   "source": [
    "# This shows the latest simplex\n",
    "X.generator.simplex"
   ]
  },
  {
   "cell_type": "code",
   "execution_count": null,
   "metadata": {
    "ExecuteTime": {
     "end_time": "2023-10-30T17:44:53.022138900Z",
     "start_time": "2023-10-30T17:44:52.830797500Z"
    },
    "execution": {
     "iopub.execute_input": "2024-09-13T15:59:57.984820Z",
     "iopub.status.busy": "2024-09-13T15:59:57.984744Z",
     "iopub.status.idle": "2024-09-13T15:59:58.084711Z",
     "shell.execute_reply": "2024-09-13T15:59:58.084426Z"
    }
   },
   "outputs": [],
   "source": [
    "X.data[\"y\"].plot()\n",
    "plt.yscale(\"log\")"
   ]
  },
  {
   "cell_type": "code",
   "execution_count": null,
   "metadata": {
    "ExecuteTime": {
     "end_time": "2023-10-30T17:44:53.162747600Z",
     "start_time": "2023-10-30T17:44:53.024139500Z"
    },
    "execution": {
     "iopub.execute_input": "2024-09-13T15:59:58.086142Z",
     "iopub.status.busy": "2024-09-13T15:59:58.086038Z",
     "iopub.status.idle": "2024-09-13T15:59:58.156876Z",
     "shell.execute_reply": "2024-09-13T15:59:58.156616Z"
    }
   },
   "outputs": [],
   "source": [
    "fig, ax = plt.subplots()\n",
    "X.data.plot(\"x0\", \"x1\", ax=ax, color=\"black\", alpha=0.5)\n",
    "ax.scatter(Xbest[0], Xbest[1], marker=\"x\", color=\"red\")"
   ]
  },
  {
   "cell_type": "code",
   "execution_count": null,
   "metadata": {
    "ExecuteTime": {
     "end_time": "2023-10-30T17:44:53.162747600Z",
     "start_time": "2023-10-30T17:44:53.152349900Z"
    },
    "execution": {
     "iopub.execute_input": "2024-09-13T15:59:58.158257Z",
     "iopub.status.busy": "2024-09-13T15:59:58.158172Z",
     "iopub.status.idle": "2024-09-13T15:59:58.160476Z",
     "shell.execute_reply": "2024-09-13T15:59:58.160263Z"
    }
   },
   "outputs": [],
   "source": [
    "# This is the raw internal state of the generator\n",
    "a = X.generator.current_state\n",
    "a"
   ]
  },
  {
   "cell_type": "markdown",
   "metadata": {},
   "source": [
    "## 5-dimensional Rosenbrock\n",
    "\n",
    "`evaluate_rosenbrock` works for arbitrary dimensions, so adding more variables to `vocs` transforms this problem."
   ]
  },
  {
   "cell_type": "code",
   "execution_count": null,
   "metadata": {
    "ExecuteTime": {
     "end_time": "2023-10-30T17:45:23.048760200Z",
     "start_time": "2023-10-30T17:45:22.988273100Z"
    },
    "execution": {
     "iopub.execute_input": "2024-09-13T15:59:58.335288Z",
     "iopub.status.busy": "2024-09-13T15:59:58.335179Z",
     "iopub.status.idle": "2024-09-13T15:59:58.338386Z",
     "shell.execute_reply": "2024-09-13T15:59:58.338158Z"
    }
   },
   "outputs": [],
   "source": [
    "YAML = \"\"\"\n",
    "max_evaluations: 500\n",
    "generator:\n",
    "  name: neldermead\n",
    "evaluator:\n",
    "  function: xopt.resources.test_functions.rosenbrock.evaluate_rosenbrock\n",
    "vocs:\n",
    "  variables:\n",
    "    x1: [-5, 5]\n",
    "    x2: [-5, 5]\n",
    "    x3: [-5, 5]\n",
    "    x4: [-5, 5]\n",
    "    x5: [-5, 5]\n",
    "  objectives:\n",
    "    y: MINIMIZE\n",
    "\"\"\"\n",
    "X = Xopt.from_yaml(YAML)"
   ]
  },
  {
   "cell_type": "code",
   "execution_count": null,
   "metadata": {
    "ExecuteTime": {
     "end_time": "2023-10-30T17:45:27.799562100Z",
     "start_time": "2023-10-30T17:45:22.996241200Z"
    },
    "execution": {
     "iopub.execute_input": "2024-09-13T15:59:58.339678Z",
     "iopub.status.busy": "2024-09-13T15:59:58.339596Z",
     "iopub.status.idle": "2024-09-13T15:59:59.299922Z",
     "shell.execute_reply": "2024-09-13T15:59:59.299618Z"
    }
   },
   "outputs": [],
   "source": [
    "X.random_evaluate(1)\n",
    "X.run()\n",
    "X.data[\"y\"].plot()\n",
    "plt.yscale(\"log\")"
   ]
  },
  {
   "cell_type": "code",
   "execution_count": null,
   "metadata": {
    "ExecuteTime": {
     "end_time": "2023-10-30T17:45:28.180395600Z",
     "start_time": "2023-10-30T17:45:27.804562400Z"
    },
    "execution": {
     "iopub.execute_input": "2024-09-13T15:59:59.301516Z",
     "iopub.status.busy": "2024-09-13T15:59:59.301406Z",
     "iopub.status.idle": "2024-09-13T15:59:59.512342Z",
     "shell.execute_reply": "2024-09-13T15:59:59.512091Z"
    }
   },
   "outputs": [],
   "source": [
    "fig, ax = plt.subplots(figsize=(8, 8))\n",
    "\n",
    "Xgrid, Ygrid = np.meshgrid(np.linspace(-2, 2, 201), np.linspace(-2, 2, 201))\n",
    "\n",
    "Zgrid = np.vectorize(lambda x, y: rosenbrock([x, y, 1, 1, 1]))(\n",
    "    Xgrid, Ygrid\n",
    ")  # The minimum is at 1,1,1,1,1\n",
    "Zgrid = np.log(Zgrid + 1)\n",
    "\n",
    "ax.pcolormesh(Xgrid, Ygrid, Zgrid)\n",
    "ax.contour(Xgrid, Ygrid, Zgrid, levels=10, colors=\"black\")\n",
    "ax.set_xlabel(\"x0\")\n",
    "ax.set_ylabel(\"x1\")\n",
    "\n",
    "\n",
    "# Add all evaluations\n",
    "ax.plot(X.data[\"x1\"], X.data[\"x2\"], color=\"red\", alpha=0.5, marker=\".\")\n",
    "ax.scatter(XMIN[0], XMIN[1], 50, marker=\"o\", color=\"orange\", label=\"True minimum\")\n",
    "ax.set_xlim(-2, 2)\n",
    "ax.set_ylim(-2, 2)\n",
    "# plt.legend()\n",
    "ax.set_title(\"Xopt's Nelder-Mead progression\")"
   ]
  },
  {
   "cell_type": "code",
   "execution_count": null,
   "metadata": {},
   "outputs": [],
   "source": []
  }
 ],
 "metadata": {
  "kernelspec": {
   "display_name": "xopt-dev",
   "language": "python",
   "name": "python3"
  },
  "language_info": {
   "codemirror_mode": {
    "name": "ipython",
    "version": 3
   },
   "file_extension": ".py",
   "mimetype": "text/x-python",
   "name": "python",
   "nbconvert_exporter": "python",
   "pygments_lexer": "ipython3",
   "version": "3.11.0"
  }
 },
 "nbformat": 4,
 "nbformat_minor": 4
}
