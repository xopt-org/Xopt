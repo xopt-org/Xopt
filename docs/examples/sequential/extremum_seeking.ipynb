{
 "cells": [
  {
   "cell_type": "markdown",
   "id": "6f4b8676-940b-4a69-b495-df62bbc6e2fa",
   "metadata": {},
   "source": [
    "## Extremum Seeking Optimization\n",
    "\n",
    "In this example we demonstrate extremum seeking optimization. The optimum of the test evaluate function would drift around a center point and we would be trying to follow the trend by applying extremum seeking technique."
   ]
  },
  {
   "cell_type": "code",
   "execution_count": null,
   "id": "78534aeb-5ab2-4a3c-964c-4e080c7e953f",
   "metadata": {
    "ExecuteTime": {
     "end_time": "2023-09-06T20:53:47.373776100Z",
     "start_time": "2023-09-06T20:53:44.301943600Z"
    },
    "execution": {
     "iopub.execute_input": "2024-09-13T15:59:34.524501Z",
     "iopub.status.busy": "2024-09-13T15:59:34.524221Z",
     "iopub.status.idle": "2024-09-13T15:59:35.714970Z",
     "shell.execute_reply": "2024-09-13T15:59:35.714690Z"
    }
   },
   "outputs": [],
   "source": [
    "import numpy as np\n",
    "from xopt.generators.sequential.extremumseeking import ExtremumSeekingGenerator\n",
    "from xopt.vocs import VOCS\n",
    "from xopt.evaluator import Evaluator\n",
    "from xopt import Xopt\n",
    "from tqdm.auto import tqdm\n",
    "import os\n",
    "\n",
    "import pandas as pd\n",
    "\n",
    "import matplotlib.pyplot as plt\n",
    "\n",
    "import warnings\n",
    "\n",
    "warnings.filterwarnings(\"ignore\")"
   ]
  },
  {
   "cell_type": "code",
   "execution_count": null,
   "id": "7fb27b941602401d91542211134fc71a",
   "metadata": {
    "ExecuteTime": {
     "end_time": "2023-09-06T20:53:44.299944200Z",
     "start_time": "2023-09-06T20:53:44.286945900Z"
    },
    "execution": {
     "iopub.execute_input": "2024-09-13T15:59:35.716692Z",
     "iopub.status.busy": "2024-09-13T15:59:35.716547Z",
     "iopub.status.idle": "2024-09-13T15:59:35.718401Z",
     "shell.execute_reply": "2024-09-13T15:59:35.718133Z"
    }
   },
   "outputs": [],
   "source": [
    "# set values if testing\n",
    "SMOKE_TEST = os.environ.get(\"SMOKE_TEST\")\n",
    "NUM_STEPS = 10 if SMOKE_TEST else 1000"
   ]
  },
  {
   "cell_type": "markdown",
   "id": "fe8297c8-90e2-4e40-ab0b-63a9fe655aed",
   "metadata": {},
   "source": [
    "### Extremum seeking test problem\n",
    "\n",
    "This test problem is a 10-D quadratic function, with its optimum drifting around the initial position. We also add some noise to make the problem more realistic."
   ]
  },
  {
   "cell_type": "code",
   "execution_count": null,
   "id": "35171e8a-ea8f-4cbb-b1a0-d01213e0bbcc",
   "metadata": {
    "ExecuteTime": {
     "end_time": "2023-09-06T20:53:47.397804100Z",
     "start_time": "2023-09-06T20:53:47.376774600Z"
    },
    "execution": {
     "iopub.execute_input": "2024-09-13T15:59:35.719793Z",
     "iopub.status.busy": "2024-09-13T15:59:35.719685Z",
     "iopub.status.idle": "2024-09-13T15:59:35.722556Z",
     "shell.execute_reply": "2024-09-13T15:59:35.722342Z"
    }
   },
   "outputs": [],
   "source": [
    "np.random.seed(42)  # set deterministic run\n",
    "\n",
    "nES = 10\n",
    "\n",
    "# This global dict is used as a counter to emulate drifting\n",
    "states = {\"count\": 0}\n",
    "\n",
    "# This is the unknown optimal point\n",
    "p_opt = 1.5 * (2 * np.random.rand(nES) - 1)\n",
    "\n",
    "# Various frequencies for unknown points\n",
    "w_opt = 0.25 + 2 * np.random.rand(nES)\n",
    "\n",
    "\n",
    "def f_ES_minimize(input_dict):\n",
    "    p = []\n",
    "    for i in range(10):\n",
    "        p.append(input_dict[f\"p{i}\"])\n",
    "    p = np.array(p)\n",
    "\n",
    "    # Vary the optimal point with time\n",
    "    p_opt_i = np.zeros(nES)\n",
    "    i = states[\"count\"]\n",
    "\n",
    "    outcome_dict = {}\n",
    "    for n in np.arange(nES):\n",
    "        p_opt_i[n] = p_opt[n] * (1 + np.sin(2 * np.pi * w_opt[n] * i / 2000))\n",
    "    # This simple cost will be distance from the optimal point\n",
    "    f_val = np.sum((p - p_opt_i) ** 2) + 0.1 * np.random.randn()\n",
    "\n",
    "    states[\"count\"] += 1\n",
    "    outcome_dict = {\"f\": f_val, \"p_opt\": pd.Series(p_opt_i)}\n",
    "\n",
    "    return outcome_dict"
   ]
  },
  {
   "cell_type": "markdown",
   "id": "9638b784-fa2f-4a94-900c-c66c8b0ea58b",
   "metadata": {},
   "source": [
    "### Run ES on the test problem (YAML method)"
   ]
  },
  {
   "cell_type": "code",
   "execution_count": null,
   "id": "8fac03d4-64f7-4773-973c-850b977a888e",
   "metadata": {
    "ExecuteTime": {
     "end_time": "2023-09-06T20:53:47.422816800Z",
     "start_time": "2023-09-06T20:53:47.393777300Z"
    },
    "execution": {
     "iopub.execute_input": "2024-09-13T15:59:35.724072Z",
     "iopub.status.busy": "2024-09-13T15:59:35.723965Z",
     "iopub.status.idle": "2024-09-13T15:59:35.732244Z",
     "shell.execute_reply": "2024-09-13T15:59:35.732011Z"
    }
   },
   "outputs": [],
   "source": [
    "YAML = \"\"\"\n",
    "max_evaluations: 5000\n",
    "generator:\n",
    "    name: extremum_seeking\n",
    "    k: 2.0\n",
    "    oscillation_size: 0.1\n",
    "    decay_rate: 1.0\n",
    "evaluator:\n",
    "    function: __main__.f_ES_minimize\n",
    "vocs:\n",
    "    variables:\n",
    "        p0: [-2, 2]\n",
    "        p1: [-2, 2]\n",
    "        p2: [-2, 2]\n",
    "        p3: [-2, 2]\n",
    "        p4: [-2, 2]\n",
    "        p5: [-2, 2]\n",
    "        p6: [-2, 2]\n",
    "        p7: [-2, 2]\n",
    "        p8: [-2, 2]\n",
    "        p9: [-2, 2]\n",
    "    objectives:\n",
    "        f: MINIMIZE\n",
    "\"\"\"\n",
    "\n",
    "X = Xopt.from_yaml(YAML)\n",
    "X.max_evaluations = NUM_STEPS\n",
    "\n",
    "X"
   ]
  },
  {
   "cell_type": "code",
   "execution_count": null,
   "id": "e16ab267-8b5e-4616-b552-2b0410c5b75f",
   "metadata": {
    "ExecuteTime": {
     "end_time": "2023-09-06T20:53:47.477800200Z",
     "start_time": "2023-09-06T20:53:47.425774500Z"
    },
    "execution": {
     "iopub.execute_input": "2024-09-13T15:59:35.733578Z",
     "iopub.status.busy": "2024-09-13T15:59:35.733491Z",
     "iopub.status.idle": "2024-09-13T15:59:35.739902Z",
     "shell.execute_reply": "2024-09-13T15:59:35.739607Z"
    },
    "tags": []
   },
   "outputs": [],
   "source": [
    "# Reset global counter to guarantee deterministic optimization\n",
    "states[\"count\"] = 0\n",
    "\n",
    "X.random_evaluate(1)\n",
    "X.step()"
   ]
  },
  {
   "cell_type": "markdown",
   "id": "54acb14d-2b25-4f2e-a3e9-fecb61af552f",
   "metadata": {},
   "source": [
    "Now you can go directly to the [Visualization](#Visualization) section and check out the results."
   ]
  },
  {
   "cell_type": "markdown",
   "id": "4d688915-bdca-4d0f-baaa-5c50cfd80d79",
   "metadata": {},
   "source": [
    "### Run ES on the test problem (API method)"
   ]
  },
  {
   "cell_type": "markdown",
   "id": "8f0a6f75-7f92-47ee-828d-ad7435932cf2",
   "metadata": {},
   "source": [
    "#### VOCS\n",
    "\n",
    "We'll set the bounds for all the variables pi to [-2, 2]."
   ]
  },
  {
   "cell_type": "code",
   "execution_count": null,
   "id": "bd028b25-f395-43ed-8473-2dc950ff72c3",
   "metadata": {
    "ExecuteTime": {
     "end_time": "2023-09-06T20:53:47.484799800Z",
     "start_time": "2023-09-06T20:53:47.451773900Z"
    },
    "execution": {
     "iopub.execute_input": "2024-09-13T15:59:35.741812Z",
     "iopub.status.busy": "2024-09-13T15:59:35.741688Z",
     "iopub.status.idle": "2024-09-13T15:59:35.743467Z",
     "shell.execute_reply": "2024-09-13T15:59:35.743235Z"
    }
   },
   "outputs": [],
   "source": [
    "variables = {}\n",
    "for i in range(nES):\n",
    "    variables[f\"p{i}\"] = [-2, 2]\n",
    "\n",
    "vocs = VOCS(\n",
    "    variables=variables,\n",
    "    objectives={\"f\": \"MINIMIZE\"},\n",
    ")"
   ]
  },
  {
   "cell_type": "code",
   "execution_count": null,
   "id": "0af5b8c7-4b3a-4a62-b92b-539899d11109",
   "metadata": {
    "ExecuteTime": {
     "end_time": "2023-09-06T20:53:47.484799800Z",
     "start_time": "2023-09-06T20:53:47.477800200Z"
    },
    "execution": {
     "iopub.execute_input": "2024-09-13T15:59:35.744764Z",
     "iopub.status.busy": "2024-09-13T15:59:35.744679Z",
     "iopub.status.idle": "2024-09-13T15:59:35.746792Z",
     "shell.execute_reply": "2024-09-13T15:59:35.746571Z"
    }
   },
   "outputs": [],
   "source": [
    "vocs"
   ]
  },
  {
   "cell_type": "markdown",
   "id": "5354659c-cc30-4d70-8659-0fefd43ef0f0",
   "metadata": {},
   "source": [
    "#### Evaluator"
   ]
  },
  {
   "cell_type": "code",
   "execution_count": null,
   "id": "efafda0b-7282-4027-a1f3-f96454c114bd",
   "metadata": {
    "ExecuteTime": {
     "end_time": "2023-09-06T20:53:47.495775300Z",
     "start_time": "2023-09-06T20:53:47.482775600Z"
    },
    "execution": {
     "iopub.execute_input": "2024-09-13T15:59:35.748148Z",
     "iopub.status.busy": "2024-09-13T15:59:35.748053Z",
     "iopub.status.idle": "2024-09-13T15:59:35.750066Z",
     "shell.execute_reply": "2024-09-13T15:59:35.749852Z"
    }
   },
   "outputs": [],
   "source": [
    "evaluator = Evaluator(function=f_ES_minimize)"
   ]
  },
  {
   "cell_type": "markdown",
   "id": "d6c58dcc-0b45-4408-a428-1681098a6a4a",
   "metadata": {},
   "source": [
    "#### Generator"
   ]
  },
  {
   "cell_type": "code",
   "execution_count": null,
   "id": "445daa23-5f97-4a82-bd59-57d9cbae6ac1",
   "metadata": {
    "ExecuteTime": {
     "end_time": "2023-09-06T20:53:47.537805600Z",
     "start_time": "2023-09-06T20:53:47.496774Z"
    },
    "execution": {
     "iopub.execute_input": "2024-09-13T15:59:35.751404Z",
     "iopub.status.busy": "2024-09-13T15:59:35.751303Z",
     "iopub.status.idle": "2024-09-13T15:59:35.753159Z",
     "shell.execute_reply": "2024-09-13T15:59:35.752943Z"
    }
   },
   "outputs": [],
   "source": [
    "generator = ExtremumSeekingGenerator(vocs=vocs)"
   ]
  },
  {
   "cell_type": "code",
   "execution_count": null,
   "id": "2e679d3f",
   "metadata": {
    "ExecuteTime": {
     "end_time": "2023-09-06T20:53:47.546774400Z",
     "start_time": "2023-09-06T20:53:47.511775100Z"
    },
    "execution": {
     "iopub.execute_input": "2024-09-13T15:59:35.754526Z",
     "iopub.status.busy": "2024-09-13T15:59:35.754424Z",
     "iopub.status.idle": "2024-09-13T15:59:35.756451Z",
     "shell.execute_reply": "2024-09-13T15:59:35.756213Z"
    }
   },
   "outputs": [],
   "source": [
    "generator.dict()"
   ]
  },
  {
   "cell_type": "markdown",
   "id": "f5d375ac-a629-4d5e-8af9-becd47475bda",
   "metadata": {},
   "source": [
    "Note that ES has 3 hyper-parameters: `k`, `oscillation_size`, and `decay_rate`.\n",
    "\n",
    "- `k`: ES feedback gain (set `k < 0` for maximization instead of minimization)\n",
    "- `oscillation_size`: ES dithering size\n",
    "- `decay_rate`: This value is optional, it causes the oscillation sizes to naturally decay. If you want the parameters to persistently oscillate without decay, set `decay_rate = 1.0`"
   ]
  },
  {
   "cell_type": "markdown",
   "id": "f4981983-1e64-43a1-ac90-f88546f9650a",
   "metadata": {},
   "source": [
    "#### Run the optimization"
   ]
  },
  {
   "cell_type": "code",
   "execution_count": null,
   "id": "10c77281-f49c-4cf7-bb2d-8a278cf00e23",
   "metadata": {
    "ExecuteTime": {
     "end_time": "2023-09-06T20:53:47.546774400Z",
     "start_time": "2023-09-06T20:53:47.526775900Z"
    },
    "execution": {
     "iopub.execute_input": "2024-09-13T15:59:35.757866Z",
     "iopub.status.busy": "2024-09-13T15:59:35.757761Z",
     "iopub.status.idle": "2024-09-13T15:59:35.759395Z",
     "shell.execute_reply": "2024-09-13T15:59:35.759184Z"
    }
   },
   "outputs": [],
   "source": [
    "X = Xopt(vocs=vocs, evaluator=evaluator, generator=generator)"
   ]
  },
  {
   "cell_type": "code",
   "execution_count": null,
   "id": "4f6ff00b-9abe-4bd1-9dac-7f5cb9293d0f",
   "metadata": {
    "ExecuteTime": {
     "end_time": "2023-09-06T20:53:47.560774400Z",
     "start_time": "2023-09-06T20:53:47.541776400Z"
    },
    "execution": {
     "iopub.execute_input": "2024-09-13T15:59:35.760702Z",
     "iopub.status.busy": "2024-09-13T15:59:35.760605Z",
     "iopub.status.idle": "2024-09-13T15:59:35.762182Z",
     "shell.execute_reply": "2024-09-13T15:59:35.761972Z"
    }
   },
   "outputs": [],
   "source": [
    "X.max_evaluations = NUM_STEPS"
   ]
  },
  {
   "cell_type": "code",
   "execution_count": null,
   "id": "d34576f0-8ce4-49a6-b360-a9155d777ae7",
   "metadata": {
    "ExecuteTime": {
     "end_time": "2023-09-06T20:54:42.396162600Z",
     "start_time": "2023-09-06T20:53:47.558774900Z"
    },
    "execution": {
     "iopub.execute_input": "2024-09-13T15:59:35.763499Z",
     "iopub.status.busy": "2024-09-13T15:59:35.763418Z",
     "iopub.status.idle": "2024-09-13T15:59:37.381345Z",
     "shell.execute_reply": "2024-09-13T15:59:37.381023Z"
    },
    "tags": []
   },
   "outputs": [],
   "source": [
    "# Reset global counter to guarantee deterministic optimization\n",
    "states[\"count\"] = 0\n",
    "\n",
    "X.random_evaluate(1)\n",
    "for i in tqdm(range(NUM_STEPS - 1)):\n",
    "    X.step()"
   ]
  },
  {
   "cell_type": "markdown",
   "id": "9808d9af-a815-4995-911a-43bd9eb105da",
   "metadata": {},
   "source": [
    "### Visualization"
   ]
  },
  {
   "cell_type": "code",
   "execution_count": null,
   "id": "56859433-7310-4c27-be46-ad8ccad2ece8",
   "metadata": {
    "ExecuteTime": {
     "end_time": "2023-09-06T20:54:43.238169800Z",
     "start_time": "2023-09-06T20:54:42.760171100Z"
    },
    "execution": {
     "iopub.execute_input": "2024-09-13T15:59:37.391614Z",
     "iopub.status.busy": "2024-09-13T15:59:37.391496Z",
     "iopub.status.idle": "2024-09-13T15:59:37.639540Z",
     "shell.execute_reply": "2024-09-13T15:59:37.639274Z"
    }
   },
   "outputs": [],
   "source": [
    "# Plot all results\n",
    "plt.figure(1, figsize=(8, 10))\n",
    "\n",
    "plt.subplot(2, 1, 1)\n",
    "plt.plot(X.data[\"f\"])\n",
    "plt.ylabel(\"ES cost\")\n",
    "plt.xticks([])\n",
    "\n",
    "\n",
    "plt.subplot(2, 1, 2)\n",
    "plt.plot(X.data[[f\"p{i}\" for i in range(10)]], alpha=0.25)\n",
    "_p_opt = np.vstack(X.data[\"p_opt\"].values).astype(\n",
    "    float\n",
    ")  # do not use p_opt as var name!\n",
    "plt.plot(_p_opt, \"k--\")\n",
    "plt.plot(2 + np.zeros(NUM_STEPS), \"r\")\n",
    "plt.plot(-2 + np.zeros(NUM_STEPS), \"r\")\n",
    "plt.legend(frameon=False)\n",
    "plt.ylabel(\"ES parameter\")\n",
    "plt.xlabel(\"ES step\")\n",
    "\n",
    "plt.tight_layout()"
   ]
  },
  {
   "cell_type": "code",
   "execution_count": null,
   "id": "5840b360-a66f-486e-9a4c-44307e67737b",
   "metadata": {
    "ExecuteTime": {
     "end_time": "2023-09-06T20:54:44.514233700Z",
     "start_time": "2023-09-06T20:54:43.238169800Z"
    },
    "execution": {
     "iopub.execute_input": "2024-09-13T15:59:37.642318Z",
     "iopub.status.busy": "2024-09-13T15:59:37.642208Z",
     "iopub.status.idle": "2024-09-13T15:59:38.208674Z",
     "shell.execute_reply": "2024-09-13T15:59:38.208399Z"
    }
   },
   "outputs": [],
   "source": [
    "# Plot Individual Parameter Trajectories\n",
    "plt.figure(2, figsize=(15, 8))\n",
    "\n",
    "for n in np.arange(nES):\n",
    "    plt.subplot(2, 5, n + 1)\n",
    "    plt.plot(X.data[f\"p{n}\"], label=f\"$p^{{ES}}_{n + 1}$\")\n",
    "    plt.plot(_p_opt[:, n], \"k--\", label=f\"$p^*_{n + 1}$\")\n",
    "    plt.plot(2 + np.zeros(NUM_STEPS), \"r--\")\n",
    "    plt.plot(-2 + np.zeros(NUM_STEPS), \"r--\")\n",
    "    plt.ylim([-3, 5])\n",
    "    plt.legend(frameon=False, loc=1)\n",
    "    if n == 0:\n",
    "        plt.ylabel(\"parameters\")\n",
    "    elif n == 5:\n",
    "        plt.ylabel(\"parameters\")\n",
    "    else:\n",
    "        plt.yticks([])\n",
    "    if n > 4:\n",
    "        plt.xlabel(\"ES step\")\n",
    "    else:\n",
    "        plt.xticks([])\n",
    "\n",
    "plt.tight_layout()"
   ]
  },
  {
   "cell_type": "code",
   "execution_count": null,
   "id": "a5472d46",
   "metadata": {},
   "outputs": [],
   "source": []
  }
 ],
 "metadata": {
  "kernelspec": {
   "display_name": "xopt-dev",
   "language": "python",
   "name": "python3"
  },
  "language_info": {
   "codemirror_mode": {
    "name": "ipython",
    "version": 3
   },
   "file_extension": ".py",
   "mimetype": "text/x-python",
   "name": "python",
   "nbconvert_exporter": "python",
   "pygments_lexer": "ipython3",
   "version": "3.11.0"
  },
  "widgets": {
   "application/vnd.jupyter.widget-state+json": {
    "state": {
     "07e1db66e84a4190a4d349ec736dac8c": {
      "model_module": "@jupyter-widgets/base",
      "model_module_version": "2.0.0",
      "model_name": "LayoutModel",
      "state": {
       "_model_module": "@jupyter-widgets/base",
       "_model_module_version": "2.0.0",
       "_model_name": "LayoutModel",
       "_view_count": null,
       "_view_module": "@jupyter-widgets/base",
       "_view_module_version": "2.0.0",
       "_view_name": "LayoutView",
       "align_content": null,
       "align_items": null,
       "align_self": null,
       "border_bottom": null,
       "border_left": null,
       "border_right": null,
       "border_top": null,
       "bottom": null,
       "display": null,
       "flex": null,
       "flex_flow": null,
       "grid_area": null,
       "grid_auto_columns": null,
       "grid_auto_flow": null,
       "grid_auto_rows": null,
       "grid_column": null,
       "grid_gap": null,
       "grid_row": null,
       "grid_template_areas": null,
       "grid_template_columns": null,
       "grid_template_rows": null,
       "height": null,
       "justify_content": null,
       "justify_items": null,
       "left": null,
       "margin": null,
       "max_height": null,
       "max_width": null,
       "min_height": null,
       "min_width": null,
       "object_fit": null,
       "object_position": null,
       "order": null,
       "overflow": null,
       "padding": null,
       "right": null,
       "top": null,
       "visibility": null,
       "width": null
      }
     },
     "098870d535c146a586a2418e0ee1763c": {
      "model_module": "@jupyter-widgets/controls",
      "model_module_version": "2.0.0",
      "model_name": "HTMLStyleModel",
      "state": {
       "_model_module": "@jupyter-widgets/controls",
       "_model_module_version": "2.0.0",
       "_model_name": "HTMLStyleModel",
       "_view_count": null,
       "_view_module": "@jupyter-widgets/base",
       "_view_module_version": "2.0.0",
       "_view_name": "StyleView",
       "background": null,
       "description_width": "",
       "font_size": null,
       "text_color": null
      }
     },
     "2131e8f12c5d4d38bb8f529ff2215785": {
      "model_module": "@jupyter-widgets/controls",
      "model_module_version": "2.0.0",
      "model_name": "FloatProgressModel",
      "state": {
       "_dom_classes": [],
       "_model_module": "@jupyter-widgets/controls",
       "_model_module_version": "2.0.0",
       "_model_name": "FloatProgressModel",
       "_view_count": null,
       "_view_module": "@jupyter-widgets/controls",
       "_view_module_version": "2.0.0",
       "_view_name": "ProgressView",
       "bar_style": "success",
       "description": "",
       "description_allow_html": false,
       "layout": "IPY_MODEL_8630e86c087d48bfbe30701d5c2182c1",
       "max": 1000,
       "min": 0,
       "orientation": "horizontal",
       "style": "IPY_MODEL_a58d17d6a87b4ed4bda196c34d38ea7d",
       "tabbable": null,
       "tooltip": null,
       "value": 1000
      }
     },
     "538dc218e581495c881c62505a556378": {
      "model_module": "@jupyter-widgets/base",
      "model_module_version": "2.0.0",
      "model_name": "LayoutModel",
      "state": {
       "_model_module": "@jupyter-widgets/base",
       "_model_module_version": "2.0.0",
       "_model_name": "LayoutModel",
       "_view_count": null,
       "_view_module": "@jupyter-widgets/base",
       "_view_module_version": "2.0.0",
       "_view_name": "LayoutView",
       "align_content": null,
       "align_items": null,
       "align_self": null,
       "border_bottom": null,
       "border_left": null,
       "border_right": null,
       "border_top": null,
       "bottom": null,
       "display": null,
       "flex": null,
       "flex_flow": null,
       "grid_area": null,
       "grid_auto_columns": null,
       "grid_auto_flow": null,
       "grid_auto_rows": null,
       "grid_column": null,
       "grid_gap": null,
       "grid_row": null,
       "grid_template_areas": null,
       "grid_template_columns": null,
       "grid_template_rows": null,
       "height": null,
       "justify_content": null,
       "justify_items": null,
       "left": null,
       "margin": null,
       "max_height": null,
       "max_width": null,
       "min_height": null,
       "min_width": null,
       "object_fit": null,
       "object_position": null,
       "order": null,
       "overflow": null,
       "padding": null,
       "right": null,
       "top": null,
       "visibility": null,
       "width": null
      }
     },
     "5499f69bb496479a8d997e031a7b0bd2": {
      "model_module": "@jupyter-widgets/controls",
      "model_module_version": "2.0.0",
      "model_name": "HBoxModel",
      "state": {
       "_dom_classes": [],
       "_model_module": "@jupyter-widgets/controls",
       "_model_module_version": "2.0.0",
       "_model_name": "HBoxModel",
       "_view_count": null,
       "_view_module": "@jupyter-widgets/controls",
       "_view_module_version": "2.0.0",
       "_view_name": "HBoxView",
       "box_style": "",
       "children": [
        "IPY_MODEL_e1fdb3bb19ba4c20a832bc4001793a7e",
        "IPY_MODEL_2131e8f12c5d4d38bb8f529ff2215785",
        "IPY_MODEL_7bff28483fb34267894b86e720997886"
       ],
       "layout": "IPY_MODEL_7aaeb02e4bba482191c038e0409eddf9",
       "tabbable": null,
       "tooltip": null
      }
     },
     "7aaeb02e4bba482191c038e0409eddf9": {
      "model_module": "@jupyter-widgets/base",
      "model_module_version": "2.0.0",
      "model_name": "LayoutModel",
      "state": {
       "_model_module": "@jupyter-widgets/base",
       "_model_module_version": "2.0.0",
       "_model_name": "LayoutModel",
       "_view_count": null,
       "_view_module": "@jupyter-widgets/base",
       "_view_module_version": "2.0.0",
       "_view_name": "LayoutView",
       "align_content": null,
       "align_items": null,
       "align_self": null,
       "border_bottom": null,
       "border_left": null,
       "border_right": null,
       "border_top": null,
       "bottom": null,
       "display": null,
       "flex": null,
       "flex_flow": null,
       "grid_area": null,
       "grid_auto_columns": null,
       "grid_auto_flow": null,
       "grid_auto_rows": null,
       "grid_column": null,
       "grid_gap": null,
       "grid_row": null,
       "grid_template_areas": null,
       "grid_template_columns": null,
       "grid_template_rows": null,
       "height": null,
       "justify_content": null,
       "justify_items": null,
       "left": null,
       "margin": null,
       "max_height": null,
       "max_width": null,
       "min_height": null,
       "min_width": null,
       "object_fit": null,
       "object_position": null,
       "order": null,
       "overflow": null,
       "padding": null,
       "right": null,
       "top": null,
       "visibility": null,
       "width": null
      }
     },
     "7bff28483fb34267894b86e720997886": {
      "model_module": "@jupyter-widgets/controls",
      "model_module_version": "2.0.0",
      "model_name": "HTMLModel",
      "state": {
       "_dom_classes": [],
       "_model_module": "@jupyter-widgets/controls",
       "_model_module_version": "2.0.0",
       "_model_name": "HTMLModel",
       "_view_count": null,
       "_view_module": "@jupyter-widgets/controls",
       "_view_module_version": "2.0.0",
       "_view_name": "HTMLView",
       "description": "",
       "description_allow_html": false,
       "layout": "IPY_MODEL_07e1db66e84a4190a4d349ec736dac8c",
       "placeholder": "​",
       "style": "IPY_MODEL_e586742ec9ea4692b88b5af78219a35c",
       "tabbable": null,
       "tooltip": null,
       "value": " 1000/1000 [00:01&lt;00:00, 626.38it/s]"
      }
     },
     "8630e86c087d48bfbe30701d5c2182c1": {
      "model_module": "@jupyter-widgets/base",
      "model_module_version": "2.0.0",
      "model_name": "LayoutModel",
      "state": {
       "_model_module": "@jupyter-widgets/base",
       "_model_module_version": "2.0.0",
       "_model_name": "LayoutModel",
       "_view_count": null,
       "_view_module": "@jupyter-widgets/base",
       "_view_module_version": "2.0.0",
       "_view_name": "LayoutView",
       "align_content": null,
       "align_items": null,
       "align_self": null,
       "border_bottom": null,
       "border_left": null,
       "border_right": null,
       "border_top": null,
       "bottom": null,
       "display": null,
       "flex": null,
       "flex_flow": null,
       "grid_area": null,
       "grid_auto_columns": null,
       "grid_auto_flow": null,
       "grid_auto_rows": null,
       "grid_column": null,
       "grid_gap": null,
       "grid_row": null,
       "grid_template_areas": null,
       "grid_template_columns": null,
       "grid_template_rows": null,
       "height": null,
       "justify_content": null,
       "justify_items": null,
       "left": null,
       "margin": null,
       "max_height": null,
       "max_width": null,
       "min_height": null,
       "min_width": null,
       "object_fit": null,
       "object_position": null,
       "order": null,
       "overflow": null,
       "padding": null,
       "right": null,
       "top": null,
       "visibility": null,
       "width": null
      }
     },
     "a58d17d6a87b4ed4bda196c34d38ea7d": {
      "model_module": "@jupyter-widgets/controls",
      "model_module_version": "2.0.0",
      "model_name": "ProgressStyleModel",
      "state": {
       "_model_module": "@jupyter-widgets/controls",
       "_model_module_version": "2.0.0",
       "_model_name": "ProgressStyleModel",
       "_view_count": null,
       "_view_module": "@jupyter-widgets/base",
       "_view_module_version": "2.0.0",
       "_view_name": "StyleView",
       "bar_color": null,
       "description_width": ""
      }
     },
     "e1fdb3bb19ba4c20a832bc4001793a7e": {
      "model_module": "@jupyter-widgets/controls",
      "model_module_version": "2.0.0",
      "model_name": "HTMLModel",
      "state": {
       "_dom_classes": [],
       "_model_module": "@jupyter-widgets/controls",
       "_model_module_version": "2.0.0",
       "_model_name": "HTMLModel",
       "_view_count": null,
       "_view_module": "@jupyter-widgets/controls",
       "_view_module_version": "2.0.0",
       "_view_name": "HTMLView",
       "description": "",
       "description_allow_html": false,
       "layout": "IPY_MODEL_538dc218e581495c881c62505a556378",
       "placeholder": "​",
       "style": "IPY_MODEL_098870d535c146a586a2418e0ee1763c",
       "tabbable": null,
       "tooltip": null,
       "value": "100%"
      }
     },
     "e586742ec9ea4692b88b5af78219a35c": {
      "model_module": "@jupyter-widgets/controls",
      "model_module_version": "2.0.0",
      "model_name": "HTMLStyleModel",
      "state": {
       "_model_module": "@jupyter-widgets/controls",
       "_model_module_version": "2.0.0",
       "_model_name": "HTMLStyleModel",
       "_view_count": null,
       "_view_module": "@jupyter-widgets/base",
       "_view_module_version": "2.0.0",
       "_view_name": "StyleView",
       "background": null,
       "description_width": "",
       "font_size": null,
       "text_color": null
      }
     }
    },
    "version_major": 2,
    "version_minor": 0
   }
  }
 },
 "nbformat": 4,
 "nbformat_minor": 5
}
