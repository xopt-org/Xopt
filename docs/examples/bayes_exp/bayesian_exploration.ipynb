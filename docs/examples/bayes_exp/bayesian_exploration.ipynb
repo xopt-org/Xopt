{
 "cells": [
  {
   "cell_type": "markdown",
   "metadata": {
    "collapsed": false,
    "jupyter": {
     "outputs_hidden": false
    }
   },
   "source": [
    "# Bayesian Exploration\n",
    "Here we demonstrate the use of Bayesian Exploration to characterize an unknown\n",
    "function in the presence of constraints (see [here](https://www.nature.com/articles/s41467-021-25757-3)).\n",
    "The function we wish to explore is the first objective of the TNK test problem."
   ]
  },
  {
   "cell_type": "markdown",
   "metadata": {
    "collapsed": false,
    "jupyter": {
     "outputs_hidden": false
    }
   },
   "source": [
    "## Specifiying generator options\n",
    "We start with the generator defaults and modify as needed for conservative\n",
    "exploration, which should prevent any constraint violations. Note that because we are exploring a problem with no noise we set `use_low_noise_prior=True` in the GP model constructor."
   ]
  },
  {
   "cell_type": "code",
   "execution_count": null,
   "metadata": {
    "execution": {
     "iopub.execute_input": "2024-09-13T15:49:35.830514Z",
     "iopub.status.busy": "2024-09-13T15:49:35.830266Z",
     "iopub.status.idle": "2024-09-13T15:49:37.500740Z",
     "shell.execute_reply": "2024-09-13T15:49:37.500445Z"
    },
    "jupyter": {
     "outputs_hidden": false
    }
   },
   "outputs": [],
   "source": [
    "# set values if testing\n",
    "import os\n",
    "\n",
    "from copy import deepcopy\n",
    "from xopt import Xopt, Evaluator\n",
    "from xopt.generators.bayesian import BayesianExplorationGenerator\n",
    "from xopt.resources.test_functions.tnk import evaluate_TNK, tnk_vocs\n",
    "\n",
    "# Ignore all warnings\n",
    "import warnings\n",
    "\n",
    "warnings.filterwarnings(\"ignore\")\n",
    "\n",
    "SMOKE_TEST = os.environ.get(\"SMOKE_TEST\")\n",
    "NUM_MC_SAMPLES = 1 if SMOKE_TEST else 128\n",
    "NUM_RESTARTS = 1 if SMOKE_TEST else 20\n",
    "\n",
    "vocs = deepcopy(tnk_vocs)\n",
    "vocs.objectives = {}\n",
    "vocs.observables = [\"y1\"]\n",
    "\n",
    "generator = BayesianExplorationGenerator(vocs=vocs)\n",
    "generator.max_travel_distances = [0.25, 0.25]\n",
    "generator.numerical_optimizer.n_restarts = NUM_RESTARTS\n",
    "generator.n_monte_carlo_samples = NUM_MC_SAMPLES\n",
    "generator.gp_constructor.use_low_noise_prior = True\n",
    "\n",
    "evaluator = Evaluator(function=evaluate_TNK)\n",
    "\n",
    "X = Xopt(generator=generator, evaluator=evaluator, vocs=vocs)\n",
    "X"
   ]
  },
  {
   "cell_type": "markdown",
   "metadata": {
    "collapsed": false,
    "jupyter": {
     "outputs_hidden": false
    }
   },
   "source": [
    "## Run exploration\n",
    "We start with evaluating 2 points that we know satisfy the constraints. We then run\n",
    "30 exploration steps."
   ]
  },
  {
   "cell_type": "code",
   "execution_count": null,
   "metadata": {
    "execution": {
     "iopub.execute_input": "2024-09-13T15:49:37.522962Z",
     "iopub.status.busy": "2024-09-13T15:49:37.522764Z",
     "iopub.status.idle": "2024-09-13T15:49:37.530412Z",
     "shell.execute_reply": "2024-09-13T15:49:37.530171Z"
    },
    "jupyter": {
     "outputs_hidden": false
    }
   },
   "outputs": [],
   "source": [
    "X.evaluate_data({\"x1\": [1.0, 0.75], \"x2\": [0.7, 0.95]})"
   ]
  },
  {
   "cell_type": "code",
   "execution_count": null,
   "metadata": {
    "execution": {
     "iopub.execute_input": "2024-09-13T15:49:37.531732Z",
     "iopub.status.busy": "2024-09-13T15:49:37.531635Z",
     "iopub.status.idle": "2024-09-13T15:49:39.055235Z",
     "shell.execute_reply": "2024-09-13T15:49:39.054797Z"
    },
    "jupyter": {
     "outputs_hidden": false
    }
   },
   "outputs": [],
   "source": [
    "for i in range(2):\n",
    "    print(f\"step {i}\")\n",
    "    X.step()"
   ]
  },
  {
   "cell_type": "code",
   "execution_count": null,
   "metadata": {
    "execution": {
     "iopub.execute_input": "2024-09-13T15:49:39.056947Z",
     "iopub.status.busy": "2024-09-13T15:49:39.056826Z",
     "iopub.status.idle": "2024-09-13T15:49:39.060928Z",
     "shell.execute_reply": "2024-09-13T15:49:39.060709Z"
    },
    "jupyter": {
     "outputs_hidden": false
    }
   },
   "outputs": [],
   "source": [
    "# view the data\n",
    "X.data"
   ]
  },
  {
   "cell_type": "code",
   "execution_count": null,
   "metadata": {
    "execution": {
     "iopub.execute_input": "2024-09-13T15:49:39.062334Z",
     "iopub.status.busy": "2024-09-13T15:49:39.062246Z",
     "iopub.status.idle": "2024-09-13T15:49:39.408101Z",
     "shell.execute_reply": "2024-09-13T15:49:39.407782Z"
    },
    "jupyter": {
     "outputs_hidden": false
    }
   },
   "outputs": [],
   "source": [
    "# plot results\n",
    "ax = X.data.plot(\"x1\", \"x2\")\n",
    "ax.set_aspect(\"equal\")"
   ]
  },
  {
   "cell_type": "markdown",
   "metadata": {
    "collapsed": false,
    "jupyter": {
     "outputs_hidden": false
    }
   },
   "source": [
    "## Introspect models, acquisition function and feasibility prediction\n",
    "During exploration we generate Gaussian Process models of each objective and\n",
    "constraint. We demonstrate how they are viewed below."
   ]
  },
  {
   "cell_type": "code",
   "execution_count": null,
   "metadata": {
    "execution": {
     "iopub.execute_input": "2024-09-13T15:49:39.409688Z",
     "iopub.status.busy": "2024-09-13T15:49:39.409537Z",
     "iopub.status.idle": "2024-09-13T15:49:40.596506Z",
     "shell.execute_reply": "2024-09-13T15:49:40.596197Z"
    }
   },
   "outputs": [],
   "source": [
    "fig, ax = X.generator.visualize_model(show_feasibility=True, n_grid=100)"
   ]
  },
  {
   "cell_type": "markdown",
   "metadata": {
    "collapsed": false,
    "jupyter": {
     "outputs_hidden": false
    }
   },
   "source": [
    "## Generator model hyperparameters"
   ]
  },
  {
   "cell_type": "code",
   "execution_count": null,
   "metadata": {
    "execution": {
     "iopub.execute_input": "2024-09-13T15:49:40.599399Z",
     "iopub.status.busy": "2024-09-13T15:49:40.599290Z",
     "iopub.status.idle": "2024-09-13T15:49:40.604079Z",
     "shell.execute_reply": "2024-09-13T15:49:40.603845Z"
    },
    "jupyter": {
     "outputs_hidden": false
    }
   },
   "outputs": [],
   "source": [
    "# print generator model hyperparameters\n",
    "for name, val in X.generator.model.named_parameters():\n",
    "    print(f\"{name}:{val}\")\n",
    "\n",
    "X.generator.model.models[2].covar_module.lengthscale"
   ]
  },
  {
   "cell_type": "markdown",
   "metadata": {
    "collapsed": false,
    "jupyter": {
     "outputs_hidden": false
    }
   },
   "source": [
    "## Examine the number of constraint violations\n",
    "Using the convience function provided by the vocs object we can evaluate which\n",
    "samples violate either or both of our constraints."
   ]
  },
  {
   "cell_type": "code",
   "execution_count": null,
   "metadata": {
    "execution": {
     "iopub.execute_input": "2024-09-13T15:49:40.605375Z",
     "iopub.status.busy": "2024-09-13T15:49:40.605292Z",
     "iopub.status.idle": "2024-09-13T15:49:40.609674Z",
     "shell.execute_reply": "2024-09-13T15:49:40.609461Z"
    },
    "jupyter": {
     "outputs_hidden": false
    }
   },
   "outputs": [],
   "source": [
    "X.vocs.feasibility_data(X.data)"
   ]
  },
  {
   "cell_type": "code",
   "execution_count": null,
   "metadata": {
    "execution": {
     "iopub.execute_input": "2024-09-13T15:49:40.611135Z",
     "iopub.status.busy": "2024-09-13T15:49:40.611035Z",
     "iopub.status.idle": "2024-09-13T15:49:41.732575Z",
     "shell.execute_reply": "2024-09-13T15:49:41.732305Z"
    },
    "jupyter": {
     "outputs_hidden": false
    }
   },
   "outputs": [],
   "source": [
    "# generate next point\n",
    "X.generator.generate(1)"
   ]
  }
 ],
 "metadata": {
  "kernelspec": {
   "display_name": "Python 3 (ipykernel)",
   "language": "python",
   "name": "python3"
  },
  "language_info": {
   "codemirror_mode": {
    "name": "ipython",
    "version": 3
   },
   "file_extension": ".py",
   "mimetype": "text/x-python",
   "name": "python",
   "nbconvert_exporter": "python",
   "pygments_lexer": "ipython3",
   "version": "3.12.6"
  }
 },
 "nbformat": 4,
 "nbformat_minor": 4
}
