{
 "cells": [
  {
   "cell_type": "markdown",
   "metadata": {
    "collapsed": false,
    "jupyter": {
     "outputs_hidden": false
    }
   },
   "source": [
    "# Bayesian Exploration\n",
    "Here we demonstrate the use of Bayesian Exploration to characterize an unknown\n",
    "function in the presence of constraints (see [here](https://www.nature.com/articles/s41467-021-25757-3)).\n",
    "The function we wish to explore is the first objective of the TNK test problem."
   ]
  },
  {
   "cell_type": "markdown",
   "metadata": {
    "collapsed": false,
    "jupyter": {
     "outputs_hidden": false
    }
   },
   "source": [
    "## Specifiying generator options\n",
    "We start with the generator defaults and modify as needed for conservative\n",
    "exploration, which should prevent any constraint violations."
   ]
  },
  {
   "cell_type": "code",
   "execution_count": null,
   "metadata": {
    "ExecuteTime": {
     "end_time": "2023-11-14T21:38:27.504548300Z",
     "start_time": "2023-11-14T21:38:24.272273500Z"
    },
    "execution": {
     "iopub.execute_input": "2024-09-13T15:49:43.989564Z",
     "iopub.status.busy": "2024-09-13T15:49:43.989239Z",
     "iopub.status.idle": "2024-09-13T15:49:45.516807Z",
     "shell.execute_reply": "2024-09-13T15:49:45.516507Z"
    },
    "jupyter": {
     "outputs_hidden": false
    }
   },
   "outputs": [],
   "source": [
    "# set values if testing\n",
    "import os\n",
    "\n",
    "from copy import deepcopy\n",
    "from xopt import Xopt, Evaluator\n",
    "from xopt.generators.bayesian import BayesianExplorationGenerator\n",
    "from xopt.resources.test_functions.tnk import evaluate_TNK, tnk_vocs\n",
    "\n",
    "# Ignore all warnings\n",
    "import warnings\n",
    "\n",
    "warnings.filterwarnings(\"ignore\")\n",
    "\n",
    "SMOKE_TEST = os.environ.get(\"SMOKE_TEST\")\n",
    "NUM_MC_SAMPLES = 1 if SMOKE_TEST else 128\n",
    "NUM_RESTARTS = 1 if SMOKE_TEST else 20\n",
    "\n",
    "\n",
    "vocs = deepcopy(tnk_vocs)\n",
    "vocs.objectives = {}\n",
    "vocs.observables = [\"y1\"]\n",
    "\n",
    "generator = BayesianExplorationGenerator(vocs=vocs)\n",
    "generator.numerical_optimizer.n_restarts = NUM_RESTARTS\n",
    "generator.numerical_optimizer.max_iter = 100\n",
    "generator.n_monte_carlo_samples = NUM_MC_SAMPLES\n",
    "generator.n_interpolate_points = 5\n",
    "\n",
    "evaluator = Evaluator(function=evaluate_TNK)\n",
    "\n",
    "X = Xopt(generator=generator, evaluator=evaluator, vocs=vocs)\n",
    "X"
   ]
  },
  {
   "cell_type": "markdown",
   "metadata": {
    "collapsed": false,
    "jupyter": {
     "outputs_hidden": false
    }
   },
   "source": [
    "## Run exploration\n",
    "We start with evaluating 2 points that we know satisfy the constraints. We then run\n",
    "30 exploration steps."
   ]
  },
  {
   "cell_type": "code",
   "execution_count": null,
   "metadata": {
    "ExecuteTime": {
     "end_time": "2023-11-14T21:38:27.547546500Z",
     "start_time": "2023-11-14T21:38:27.506549300Z"
    },
    "execution": {
     "iopub.execute_input": "2024-09-13T15:49:45.538126Z",
     "iopub.status.busy": "2024-09-13T15:49:45.537933Z",
     "iopub.status.idle": "2024-09-13T15:49:45.545152Z",
     "shell.execute_reply": "2024-09-13T15:49:45.544914Z"
    },
    "jupyter": {
     "outputs_hidden": false
    }
   },
   "outputs": [],
   "source": [
    "X.evaluate_data({\"x1\": [1.0, 0.75], \"x2\": [0.7, 0.95]})"
   ]
  },
  {
   "cell_type": "code",
   "execution_count": null,
   "metadata": {
    "ExecuteTime": {
     "end_time": "2023-11-14T21:38:58.405527100Z",
     "start_time": "2023-11-14T21:38:27.520548400Z"
    },
    "execution": {
     "iopub.execute_input": "2024-09-13T15:49:45.546556Z",
     "iopub.status.busy": "2024-09-13T15:49:45.546482Z",
     "iopub.status.idle": "2024-09-13T15:49:57.580498Z",
     "shell.execute_reply": "2024-09-13T15:49:57.580185Z"
    },
    "jupyter": {
     "outputs_hidden": false
    }
   },
   "outputs": [],
   "source": [
    "for i in range(20):\n",
    "    print(f\"step {i}\")\n",
    "    X.step()"
   ]
  },
  {
   "cell_type": "code",
   "execution_count": null,
   "metadata": {
    "ExecuteTime": {
     "end_time": "2023-11-14T21:38:58.420527100Z",
     "start_time": "2023-11-14T21:38:58.414526900Z"
    },
    "execution": {
     "iopub.execute_input": "2024-09-13T15:49:57.582464Z",
     "iopub.status.busy": "2024-09-13T15:49:57.582292Z",
     "iopub.status.idle": "2024-09-13T15:49:57.587523Z",
     "shell.execute_reply": "2024-09-13T15:49:57.587314Z"
    },
    "jupyter": {
     "outputs_hidden": false
    }
   },
   "outputs": [],
   "source": [
    "# view the data\n",
    "X.data"
   ]
  },
  {
   "cell_type": "code",
   "execution_count": null,
   "metadata": {
    "ExecuteTime": {
     "end_time": "2023-11-14T21:38:58.961213100Z",
     "start_time": "2023-11-14T21:38:58.421527Z"
    },
    "execution": {
     "iopub.execute_input": "2024-09-13T15:49:57.588870Z",
     "iopub.status.busy": "2024-09-13T15:49:57.588789Z",
     "iopub.status.idle": "2024-09-13T15:49:57.921151Z",
     "shell.execute_reply": "2024-09-13T15:49:57.920906Z"
    },
    "jupyter": {
     "outputs_hidden": false
    }
   },
   "outputs": [],
   "source": [
    "# plot results\n",
    "ax = X.data.plot(\"x1\", \"x2\")\n",
    "ax.set_aspect(\"equal\")"
   ]
  },
  {
   "cell_type": "markdown",
   "metadata": {
    "collapsed": false,
    "jupyter": {
     "outputs_hidden": false
    }
   },
   "source": [
    "## Introspect models, acquisition function and feasibility prediction\n",
    "During exploration we generate Gaussian Process models of each objective and\n",
    "constraint. We demonstrate how they are viewed below."
   ]
  },
  {
   "cell_type": "code",
   "execution_count": null,
   "metadata": {
    "ExecuteTime": {
     "end_time": "2023-11-14T21:39:03.161691600Z",
     "start_time": "2023-11-14T21:38:58.962214700Z"
    },
    "execution": {
     "iopub.execute_input": "2024-09-13T15:49:57.922739Z",
     "iopub.status.busy": "2024-09-13T15:49:57.922598Z",
     "iopub.status.idle": "2024-09-13T15:49:59.442036Z",
     "shell.execute_reply": "2024-09-13T15:49:59.441725Z"
    }
   },
   "outputs": [],
   "source": [
    "fig, ax = X.generator.visualize_model(show_feasibility=True, n_grid=100)"
   ]
  },
  {
   "cell_type": "markdown",
   "metadata": {
    "collapsed": false,
    "jupyter": {
     "outputs_hidden": false
    }
   },
   "source": [
    "## Generator model hyperparameters"
   ]
  },
  {
   "cell_type": "code",
   "execution_count": null,
   "metadata": {
    "ExecuteTime": {
     "end_time": "2023-11-14T21:39:03.220691400Z",
     "start_time": "2023-11-14T21:39:03.162691600Z"
    },
    "execution": {
     "iopub.execute_input": "2024-09-13T15:49:59.445523Z",
     "iopub.status.busy": "2024-09-13T15:49:59.445390Z",
     "iopub.status.idle": "2024-09-13T15:49:59.450445Z",
     "shell.execute_reply": "2024-09-13T15:49:59.450139Z"
    },
    "jupyter": {
     "outputs_hidden": false
    }
   },
   "outputs": [],
   "source": [
    "# print generator model hyperparameters\n",
    "for name, val in X.generator.model.named_parameters():\n",
    "    print(f\"{name}:{val}\")\n",
    "\n",
    "X.generator.model.models[2].covar_module.lengthscale"
   ]
  },
  {
   "cell_type": "markdown",
   "metadata": {
    "collapsed": false,
    "jupyter": {
     "outputs_hidden": false
    }
   },
   "source": [
    "## Examine the number of constraint violations\n",
    "Using the convience function provided by the vocs object we can evaluate which\n",
    "samples violate either or both of our constraints."
   ]
  },
  {
   "cell_type": "code",
   "execution_count": null,
   "metadata": {
    "ExecuteTime": {
     "end_time": "2023-11-14T21:39:03.234692100Z",
     "start_time": "2023-11-14T21:39:03.177693800Z"
    },
    "execution": {
     "iopub.execute_input": "2024-09-13T15:49:59.451848Z",
     "iopub.status.busy": "2024-09-13T15:49:59.451765Z",
     "iopub.status.idle": "2024-09-13T15:49:59.456690Z",
     "shell.execute_reply": "2024-09-13T15:49:59.456447Z"
    },
    "jupyter": {
     "outputs_hidden": false
    }
   },
   "outputs": [],
   "source": [
    "X.vocs.feasibility_data(X.data)"
   ]
  },
  {
   "cell_type": "code",
   "execution_count": null,
   "metadata": {
    "ExecuteTime": {
     "end_time": "2023-11-14T21:39:04.225690600Z",
     "start_time": "2023-11-14T21:39:03.192694800Z"
    },
    "execution": {
     "iopub.execute_input": "2024-09-13T15:49:59.457977Z",
     "iopub.status.busy": "2024-09-13T15:49:59.457892Z",
     "iopub.status.idle": "2024-09-13T15:50:00.022176Z",
     "shell.execute_reply": "2024-09-13T15:50:00.021807Z"
    },
    "jupyter": {
     "outputs_hidden": false
    }
   },
   "outputs": [],
   "source": [
    "# generate next point\n",
    "X.generator.generate(1)"
   ]
  }
 ],
 "metadata": {
  "kernelspec": {
   "display_name": "Python 3 (ipykernel)",
   "language": "python",
   "name": "python3"
  },
  "language_info": {
   "codemirror_mode": {
    "name": "ipython",
    "version": 3
   },
   "file_extension": ".py",
   "mimetype": "text/x-python",
   "name": "python",
   "nbconvert_exporter": "python",
   "pygments_lexer": "ipython3",
   "version": "3.12.6"
  }
 },
 "nbformat": 4,
 "nbformat_minor": 4
}
