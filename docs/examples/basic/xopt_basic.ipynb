{
 "cells": [
  {
   "cell_type": "markdown",
   "metadata": {},
   "source": [
    "# Xopt basic example\n",
    "\n",
    "Xopt optimization problems can be defined via one of two methods:\n",
    "- a yaml text file (for limiting the amount of python script writing and/or setting up simulation runs)\n",
    "- a simple python script (for those who prefer to use python directly)\n",
    "\n",
    "Here we will demonstrate how both of these techniques can be used to solve a relatively simple  constrained optimization problem.\n",
    "\n",
    "$n=2$ variables:\n",
    "$x_i \\in [0, \\pi], i=1,2$\n",
    "\n",
    "Objective:\n",
    "- $f(x) = \\sum_i x_i$\n",
    "\n",
    "Constraint:\n",
    "- $g(x) = -x_1^2 -x_2^2 + 1 \\le 0$"
   ]
  },
  {
   "cell_type": "markdown",
   "metadata": {
    "collapsed": false,
    "jupyter": {
     "outputs_hidden": false
    }
   },
   "source": [
    "## Xopt Components\n",
    "The definition of the Xopt object requires 3 parts, listed below:\n",
    "- The `Evaluator` object, which evaluates input points using the arbitrary function\n",
    "specified by the `function` property.\n",
    "- The `Generator` object, which, when given data that has been evaluated, generates\n",
    "future points to evaluate using the evaluator.\n",
    "- The `VOCS` (variables, objectives, constraints, statics) object, which specifies the\n",
    "input domain, the objectives, constraints and constants passed to the evaluator\n",
    "function.\n"
   ]
  },
  {
   "cell_type": "markdown",
   "metadata": {},
   "source": [
    "# Import "
   ]
  },
  {
   "cell_type": "code",
   "execution_count": null,
   "metadata": {
    "execution": {
     "iopub.execute_input": "2024-09-13T15:54:36.148851Z",
     "iopub.status.busy": "2024-09-13T15:54:36.148739Z",
     "iopub.status.idle": "2024-09-13T15:54:37.136112Z",
     "shell.execute_reply": "2024-09-13T15:54:37.135806Z"
    }
   },
   "outputs": [],
   "source": [
    "from xopt import Evaluator\n",
    "from xopt import VOCS\n",
    "from xopt import Xopt\n",
    "from xopt.generators import list_available_generators\n",
    "from xopt.generators import get_generator\n",
    "import math"
   ]
  },
  {
   "cell_type": "markdown",
   "metadata": {
    "collapsed": false,
    "jupyter": {
     "outputs_hidden": false
    }
   },
   "source": [
    "## Defining Xopt components using python\n",
    "We first examine how one would create and configure and Xopt optimization run using\n",
    "python. This can also be done via a YAML file (see the next section)."
   ]
  },
  {
   "cell_type": "markdown",
   "metadata": {
    "collapsed": false,
    "jupyter": {
     "outputs_hidden": false
    }
   },
   "source": [
    "### Define the objective function and the evaluator\n",
    "Note that the objective function takes in a dict of variable values and returns a dict of objective return values. The keys of the input and output dictionaries must contain the keys we will specify in VOCS (see below)."
   ]
  },
  {
   "cell_type": "code",
   "execution_count": null,
   "metadata": {
    "ExecuteTime": {
     "end_time": "2024-03-13T01:32:42.498257800Z",
     "start_time": "2024-03-13T01:32:40.155677200Z"
    },
    "execution": {
     "iopub.execute_input": "2024-09-13T15:54:37.138011Z",
     "iopub.status.busy": "2024-09-13T15:54:37.137879Z",
     "iopub.status.idle": "2024-09-13T15:54:37.142258Z",
     "shell.execute_reply": "2024-09-13T15:54:37.142023Z"
    }
   },
   "outputs": [],
   "source": [
    "def evaluate_function(inputs: dict) -> dict:\n",
    "    objective_value = inputs[\"x1\"] ** 2 + inputs[\"x2\"] ** 2\n",
    "    constraint_value = -(inputs[\"x1\"] ** 2) - inputs[\"x2\"] ** 2 + 1\n",
    "    return {\"f\": objective_value, \"g\": constraint_value}\n",
    "\n",
    "\n",
    "evaluator = Evaluator(function=evaluate_function)"
   ]
  },
  {
   "cell_type": "markdown",
   "metadata": {
    "collapsed": false,
    "jupyter": {
     "outputs_hidden": false
    }
   },
   "source": [
    "### Define VOCS\n",
    "Here we define the names and ranges of input parameters, the names and settings of\n",
    "objectives, and the names and settings of constraints. Note that the keys here should\n",
    " be referenced in the evaluate function above."
   ]
  },
  {
   "cell_type": "code",
   "execution_count": null,
   "metadata": {
    "ExecuteTime": {
     "end_time": "2024-03-13T01:32:42.513257500Z",
     "start_time": "2024-03-13T01:32:42.502259Z"
    },
    "execution": {
     "iopub.execute_input": "2024-09-13T15:54:37.143615Z",
     "iopub.status.busy": "2024-09-13T15:54:37.143539Z",
     "iopub.status.idle": "2024-09-13T15:54:37.145367Z",
     "shell.execute_reply": "2024-09-13T15:54:37.145161Z"
    }
   },
   "outputs": [],
   "source": [
    "vocs = VOCS(\n",
    "    variables={\"x1\": [0, math.pi], \"x2\": [0, math.pi]},\n",
    "    objectives={\"f\": \"MINIMIZE\"},\n",
    "    constraints={\"g\": [\"LESS_THAN\", 0]},\n",
    ")"
   ]
  },
  {
   "cell_type": "markdown",
   "metadata": {
    "collapsed": false,
    "jupyter": {
     "outputs_hidden": false
    }
   },
   "source": [
    "### Define the Generator\n",
    "First lets see which generators are available for use."
   ]
  },
  {
   "cell_type": "code",
   "execution_count": null,
   "metadata": {
    "ExecuteTime": {
     "end_time": "2024-03-13T01:32:43.608257600Z",
     "start_time": "2024-03-13T01:32:42.515259Z"
    },
    "execution": {
     "iopub.execute_input": "2024-09-13T15:54:37.147015Z",
     "iopub.status.busy": "2024-09-13T15:54:37.146935Z",
     "iopub.status.idle": "2024-09-13T15:54:37.755022Z",
     "shell.execute_reply": "2024-09-13T15:54:37.754727Z"
    }
   },
   "outputs": [],
   "source": [
    "list_available_generators()"
   ]
  },
  {
   "cell_type": "markdown",
   "metadata": {
    "collapsed": false,
    "jupyter": {
     "outputs_hidden": false
    }
   },
   "source": [
    "Here we will use the simplest generator that is defined by Xopt, random number generation."
   ]
  },
  {
   "cell_type": "code",
   "execution_count": null,
   "metadata": {
    "ExecuteTime": {
     "end_time": "2024-03-13T01:32:43.652266600Z",
     "start_time": "2024-03-13T01:32:43.611259600Z"
    },
    "execution": {
     "iopub.execute_input": "2024-09-13T15:54:37.777252Z",
     "iopub.status.busy": "2024-09-13T15:54:37.777024Z",
     "iopub.status.idle": "2024-09-13T15:54:37.779234Z",
     "shell.execute_reply": "2024-09-13T15:54:37.778989Z"
    }
   },
   "outputs": [],
   "source": [
    "# get the docstring for the random generator\n",
    "print(get_generator(\"random\").__doc__)\n",
    "\n",
    "# use the get generator method to get the random number generator\n",
    "generator = get_generator(\"random\")(vocs=vocs)"
   ]
  },
  {
   "cell_type": "markdown",
   "metadata": {
    "collapsed": false,
    "jupyter": {
     "outputs_hidden": false
    }
   },
   "source": [
    "###  Combine into Xopt object"
   ]
  },
  {
   "cell_type": "code",
   "execution_count": null,
   "metadata": {
    "ExecuteTime": {
     "end_time": "2024-03-13T01:32:43.652266600Z",
     "start_time": "2024-03-13T01:32:43.626258200Z"
    },
    "execution": {
     "iopub.execute_input": "2024-09-13T15:54:37.780722Z",
     "iopub.status.busy": "2024-09-13T15:54:37.780612Z",
     "iopub.status.idle": "2024-09-13T15:54:37.782226Z",
     "shell.execute_reply": "2024-09-13T15:54:37.781968Z"
    }
   },
   "outputs": [],
   "source": [
    "X = Xopt(vocs=vocs, generator=generator, evaluator=evaluator)"
   ]
  },
  {
   "cell_type": "markdown",
   "metadata": {
    "collapsed": false,
    "jupyter": {
     "outputs_hidden": false
    }
   },
   "source": [
    "## Defining Xopt object from yaml file\n",
    "Alternatively, it might be more useful to define the Xopt object from a text file or\n",
    "YAML string. We replicate the code above with the YAML file below."
   ]
  },
  {
   "cell_type": "code",
   "execution_count": null,
   "metadata": {
    "ExecuteTime": {
     "end_time": "2024-03-13T01:32:43.660292300Z",
     "start_time": "2024-03-13T01:32:43.641259200Z"
    },
    "execution": {
     "iopub.execute_input": "2024-09-13T15:54:37.783675Z",
     "iopub.status.busy": "2024-09-13T15:54:37.783585Z",
     "iopub.status.idle": "2024-09-13T15:54:37.785281Z",
     "shell.execute_reply": "2024-09-13T15:54:37.785057Z"
    }
   },
   "outputs": [],
   "source": [
    "# Make a proper input file.\n",
    "YAML = \"\"\"\n",
    "evaluator:\n",
    "    function: __main__.evaluate_function\n",
    "\n",
    "generator:\n",
    "    name: random\n",
    "\n",
    "vocs:\n",
    "    variables:\n",
    "        x1: [0, 3.14159]\n",
    "        x2: [0, 3.14159]\n",
    "    objectives: {f: MINIMIZE}\n",
    "    constraints:\n",
    "        g: [LESS_THAN, 0]\n",
    "\n",
    "\"\"\""
   ]
  },
  {
   "cell_type": "code",
   "execution_count": null,
   "metadata": {
    "ExecuteTime": {
     "end_time": "2024-03-13T01:32:43.669259800Z",
     "start_time": "2024-03-13T01:32:43.655257700Z"
    },
    "execution": {
     "iopub.execute_input": "2024-09-13T15:54:37.786740Z",
     "iopub.status.busy": "2024-09-13T15:54:37.786655Z",
     "iopub.status.idle": "2024-09-13T15:54:37.789636Z",
     "shell.execute_reply": "2024-09-13T15:54:37.789373Z"
    }
   },
   "outputs": [],
   "source": [
    "# create Xopt object.\n",
    "X_from_yaml = Xopt.from_yaml(YAML)"
   ]
  },
  {
   "cell_type": "markdown",
   "metadata": {
    "collapsed": false,
    "jupyter": {
     "outputs_hidden": false
    }
   },
   "source": [
    "## Introspection\n",
    "Objects in Xopt can be printed to a string or dumped to a text file for easy\n",
    "introspection of attributes and current configuration."
   ]
  },
  {
   "cell_type": "code",
   "execution_count": null,
   "metadata": {
    "ExecuteTime": {
     "end_time": "2024-03-13T01:32:43.712296Z",
     "start_time": "2024-03-13T01:32:43.671257800Z"
    },
    "execution": {
     "iopub.execute_input": "2024-09-13T15:54:37.791038Z",
     "iopub.status.busy": "2024-09-13T15:54:37.790938Z",
     "iopub.status.idle": "2024-09-13T15:54:37.794335Z",
     "shell.execute_reply": "2024-09-13T15:54:37.794092Z"
    }
   },
   "outputs": [],
   "source": [
    "# Convenient representation of the state.\n",
    "X"
   ]
  },
  {
   "cell_type": "markdown",
   "metadata": {
    "collapsed": false,
    "jupyter": {
     "outputs_hidden": false
    }
   },
   "source": [
    "## Evaluating randomly generated or fixed inputs.\n",
    "The main Xopt object has a variety of means for evaluating random or fixed points.\n",
    "This is often used to initialize optimization, but can be used independently of any\n",
    "generator. Results from evaluations are stored in the `data` attribute. Data can also\n",
    " be explictly added to the Xopt object (and by extension the generator attached to\n",
    " the xopt object by calling `X.add_data()`."
   ]
  },
  {
   "cell_type": "code",
   "execution_count": null,
   "metadata": {
    "ExecuteTime": {
     "end_time": "2024-03-13T01:32:43.722288700Z",
     "start_time": "2024-03-13T01:32:43.687283700Z"
    },
    "execution": {
     "iopub.execute_input": "2024-09-13T15:54:37.795665Z",
     "iopub.status.busy": "2024-09-13T15:54:37.795566Z",
     "iopub.status.idle": "2024-09-13T15:54:37.802776Z",
     "shell.execute_reply": "2024-09-13T15:54:37.802553Z"
    }
   },
   "outputs": [],
   "source": [
    "# randomly evaluate some points and add data to Xopt object\n",
    "X.random_evaluate(5)"
   ]
  },
  {
   "cell_type": "code",
   "execution_count": null,
   "metadata": {
    "ExecuteTime": {
     "end_time": "2024-03-13T01:32:43.722288700Z",
     "start_time": "2024-03-13T01:32:43.712296Z"
    },
    "execution": {
     "iopub.execute_input": "2024-09-13T15:54:37.804109Z",
     "iopub.status.busy": "2024-09-13T15:54:37.804027Z",
     "iopub.status.idle": "2024-09-13T15:54:37.808684Z",
     "shell.execute_reply": "2024-09-13T15:54:37.808446Z"
    }
   },
   "outputs": [],
   "source": [
    "# evaluate some points additionally\n",
    "points = {\"x1\": [1.0, 0.5, 2.25], \"x2\": [0, 1.75, 0.6]}\n",
    "X.evaluate_data(points)"
   ]
  },
  {
   "cell_type": "code",
   "execution_count": null,
   "metadata": {
    "ExecuteTime": {
     "end_time": "2024-03-13T01:32:43.729258500Z",
     "start_time": "2024-03-13T01:32:43.716261900Z"
    },
    "execution": {
     "iopub.execute_input": "2024-09-13T15:54:37.810013Z",
     "iopub.status.busy": "2024-09-13T15:54:37.809931Z",
     "iopub.status.idle": "2024-09-13T15:54:37.813719Z",
     "shell.execute_reply": "2024-09-13T15:54:37.813492Z"
    }
   },
   "outputs": [],
   "source": [
    "# examine the data stored in Xopt\n",
    "X.data"
   ]
  },
  {
   "cell_type": "markdown",
   "metadata": {
    "collapsed": false,
    "jupyter": {
     "outputs_hidden": false
    }
   },
   "source": [
    "## Optimization\n",
    "Xopt conducts a single iteration of optimization by calling `X.step()`. Inside this\n",
    "function Xopt will generate a point (or set of points) using the generator object,\n",
    "then send the point to be evaluated by the evaluator. Results will be stored in the\n",
    "data attribute."
   ]
  },
  {
   "cell_type": "code",
   "execution_count": null,
   "metadata": {
    "ExecuteTime": {
     "end_time": "2024-03-13T01:32:43.772322900Z",
     "start_time": "2024-03-13T01:32:43.730259200Z"
    },
    "execution": {
     "iopub.execute_input": "2024-09-13T15:54:37.815111Z",
     "iopub.status.busy": "2024-09-13T15:54:37.815038Z",
     "iopub.status.idle": "2024-09-13T15:54:37.817763Z",
     "shell.execute_reply": "2024-09-13T15:54:37.817558Z"
    }
   },
   "outputs": [],
   "source": [
    "# Take one step (generate a single point)\n",
    "X.step()"
   ]
  },
  {
   "cell_type": "code",
   "execution_count": null,
   "metadata": {
    "ExecuteTime": {
     "end_time": "2024-03-13T01:32:43.862089800Z",
     "start_time": "2024-03-13T01:32:43.745260300Z"
    },
    "execution": {
     "iopub.execute_input": "2024-09-13T15:54:37.818983Z",
     "iopub.status.busy": "2024-09-13T15:54:37.818903Z",
     "iopub.status.idle": "2024-09-13T15:54:37.822785Z",
     "shell.execute_reply": "2024-09-13T15:54:37.822555Z"
    }
   },
   "outputs": [],
   "source": [
    "# examine the results\n",
    "X.data"
   ]
  },
  {
   "cell_type": "code",
   "execution_count": null,
   "metadata": {
    "ExecuteTime": {
     "end_time": "2024-03-13T01:32:43.897089900Z",
     "start_time": "2024-03-13T01:32:43.772322900Z"
    },
    "execution": {
     "iopub.execute_input": "2024-09-13T15:54:37.824518Z",
     "iopub.status.busy": "2024-09-13T15:54:37.824357Z",
     "iopub.status.idle": "2024-09-13T15:54:37.839928Z",
     "shell.execute_reply": "2024-09-13T15:54:37.839600Z"
    }
   },
   "outputs": [],
   "source": [
    "# take a couple of steps and examine the results\n",
    "for _ in range(10):\n",
    "    X.step()\n",
    "X.data"
   ]
  },
  {
   "cell_type": "markdown",
   "metadata": {
    "collapsed": false,
    "jupyter": {
     "outputs_hidden": false
    }
   },
   "source": [
    "## Find and evaluate the best point from `X.data`"
   ]
  },
  {
   "cell_type": "code",
   "execution_count": null,
   "metadata": {
    "ExecuteTime": {
     "end_time": "2024-03-13T01:32:43.937089900Z",
     "start_time": "2024-03-13T01:32:43.832332500Z"
    },
    "execution": {
     "iopub.execute_input": "2024-09-13T15:54:37.841842Z",
     "iopub.status.busy": "2024-09-13T15:54:37.841699Z",
     "iopub.status.idle": "2024-09-13T15:54:37.849613Z",
     "shell.execute_reply": "2024-09-13T15:54:37.849371Z"
    }
   },
   "outputs": [],
   "source": [
    "idx, val, params = select_best(X.vocs, X.data)\n",
    "print(f\"best objective value {val}\")\n",
    "print(f\"best point {params}\")\n",
    "\n",
    "X.evaluate_data(params)"
   ]
  },
  {
   "cell_type": "markdown",
   "metadata": {
    "collapsed": false,
    "jupyter": {
     "outputs_hidden": false
    }
   },
   "source": [
    "## Visualization\n",
    "Finally, we can visualize the objectives and variables to monitor optimization or\n",
    "visualize the results"
   ]
  },
  {
   "cell_type": "code",
   "execution_count": null,
   "metadata": {
    "ExecuteTime": {
     "end_time": "2024-03-13T01:32:44.620735900Z",
     "start_time": "2024-03-13T01:32:43.851332300Z"
    },
    "execution": {
     "iopub.execute_input": "2024-09-13T15:54:37.851221Z",
     "iopub.status.busy": "2024-09-13T15:54:37.851110Z",
     "iopub.status.idle": "2024-09-13T15:54:38.258640Z",
     "shell.execute_reply": "2024-09-13T15:54:38.258327Z"
    }
   },
   "outputs": [],
   "source": [
    "# view objective values\n",
    "X.data.plot(y=X.vocs.objective_names)\n",
    "\n",
    "# view variables values\n",
    "X.data.plot(*X.vocs.variable_names, kind=\"scatter\")\n",
    "\n",
    "# you can also normalize the variables\n",
    "X.vocs.normalize_inputs(X.data).plot(*X.vocs.variable_names, kind=\"scatter\")"
   ]
  }
 ],
 "metadata": {
  "interpreter": {
   "hash": "72034539424920dfb606fe3b820b3f27dca0cbf1c69938110810ec4641e275b1"
  },
  "kernelspec": {
   "display_name": "Python 3 (ipykernel)",
   "language": "python",
   "name": "python3"
  },
  "language_info": {
   "codemirror_mode": {
    "name": "ipython",
    "version": 3
   },
   "file_extension": ".py",
   "mimetype": "text/x-python",
   "name": "python",
   "nbconvert_exporter": "python",
   "pygments_lexer": "ipython3",
   "version": "3.12.6"
  }
 },
 "nbformat": 4,
 "nbformat_minor": 4
}
