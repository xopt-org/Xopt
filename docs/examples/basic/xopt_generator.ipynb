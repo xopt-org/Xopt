{
 "cells": [
  {
   "cell_type": "markdown",
   "metadata": {},
   "source": [
    "# Working with Xopt generators\n",
    "\n"
   ]
  },
  {
   "cell_type": "code",
   "execution_count": null,
   "metadata": {
    "ExecuteTime": {
     "end_time": "2024-04-02T14:38:03.984509500Z",
     "start_time": "2024-04-02T14:37:58.291483Z"
    },
    "execution": {
     "iopub.execute_input": "2024-09-13T15:54:18.892761Z",
     "iopub.status.busy": "2024-09-13T15:54:18.892631Z",
     "iopub.status.idle": "2024-09-13T15:54:19.917312Z",
     "shell.execute_reply": "2024-09-13T15:54:19.916980Z"
    }
   },
   "outputs": [],
   "source": [
    "# Import the class\n",
    "from xopt.generators import generators, get_generator\n",
    "from xopt.vocs import VOCS\n",
    "from xopt import Xopt, Evaluator, Generator\n",
    "\n",
    "import math\n",
    "import numpy as np"
   ]
  },
  {
   "cell_type": "code",
   "execution_count": null,
   "metadata": {
    "ExecuteTime": {
     "end_time": "2024-04-02T14:38:04.059481Z",
     "start_time": "2024-04-02T14:38:04.043479100Z"
    },
    "execution": {
     "iopub.execute_input": "2024-09-13T15:54:19.919265Z",
     "iopub.status.busy": "2024-09-13T15:54:19.919104Z",
     "iopub.status.idle": "2024-09-13T15:54:19.922532Z",
     "shell.execute_reply": "2024-09-13T15:54:19.922173Z"
    }
   },
   "outputs": [],
   "source": [
    "# named generators\n",
    "generators.keys()"
   ]
  },
  {
   "cell_type": "code",
   "execution_count": null,
   "metadata": {
    "ExecuteTime": {
     "end_time": "2024-04-02T14:38:06.698513600Z",
     "start_time": "2024-04-02T14:38:04.061480600Z"
    },
    "execution": {
     "iopub.execute_input": "2024-09-13T15:54:19.944610Z",
     "iopub.status.busy": "2024-09-13T15:54:19.944468Z",
     "iopub.status.idle": "2024-09-13T15:54:20.524671Z",
     "shell.execute_reply": "2024-09-13T15:54:20.524249Z"
    }
   },
   "outputs": [],
   "source": [
    "# get default options for the upper confidence bound generator\n",
    "generator_type = get_generator(\"upper_confidence_bound\")"
   ]
  },
  {
   "cell_type": "code",
   "execution_count": null,
   "metadata": {
    "ExecuteTime": {
     "end_time": "2024-04-02T14:38:06.713510Z",
     "start_time": "2024-04-02T14:38:06.701481300Z"
    },
    "execution": {
     "iopub.execute_input": "2024-09-13T15:54:20.526871Z",
     "iopub.status.busy": "2024-09-13T15:54:20.526495Z",
     "iopub.status.idle": "2024-09-13T15:54:20.528754Z",
     "shell.execute_reply": "2024-09-13T15:54:20.528499Z"
    }
   },
   "outputs": [],
   "source": [
    "# define vocs for the problem\n",
    "\n",
    "vocs = VOCS(\n",
    "    variables={\"x\": [0, 2 * math.pi]},\n",
    "    objectives={\"f\": \"MINIMIZE\"},\n",
    ")"
   ]
  },
  {
   "cell_type": "code",
   "execution_count": null,
   "metadata": {
    "ExecuteTime": {
     "end_time": "2024-04-02T14:38:06.732510500Z",
     "start_time": "2024-04-02T14:38:06.716506100Z"
    },
    "execution": {
     "iopub.execute_input": "2024-09-13T15:54:20.530460Z",
     "iopub.status.busy": "2024-09-13T15:54:20.530338Z",
     "iopub.status.idle": "2024-09-13T15:54:20.532404Z",
     "shell.execute_reply": "2024-09-13T15:54:20.532136Z"
    }
   },
   "outputs": [],
   "source": [
    "# define a test function to optimize\n",
    "\n",
    "\n",
    "def test_function(input_dict):\n",
    "    return {\"f\": np.sin(input_dict[\"x\"])}"
   ]
  },
  {
   "cell_type": "code",
   "execution_count": null,
   "metadata": {
    "ExecuteTime": {
     "end_time": "2024-04-02T14:38:06.787509400Z",
     "start_time": "2024-04-02T14:38:06.730483400Z"
    },
    "execution": {
     "iopub.execute_input": "2024-09-13T15:54:20.533901Z",
     "iopub.status.busy": "2024-09-13T15:54:20.533785Z",
     "iopub.status.idle": "2024-09-13T15:54:20.593852Z",
     "shell.execute_reply": "2024-09-13T15:54:20.593555Z"
    }
   },
   "outputs": [],
   "source": [
    "evaluator = Evaluator(function=test_function)\n",
    "generator = generator_type(vocs=vocs)\n",
    "X = Xopt(generator=generator, evaluator=evaluator, vocs=vocs)\n",
    "X"
   ]
  },
  {
   "cell_type": "code",
   "execution_count": null,
   "metadata": {
    "ExecuteTime": {
     "end_time": "2024-04-02T14:38:07.329478900Z",
     "start_time": "2024-04-02T14:38:06.760517Z"
    },
    "execution": {
     "iopub.execute_input": "2024-09-13T15:54:20.595302Z",
     "iopub.status.busy": "2024-09-13T15:54:20.595189Z",
     "iopub.status.idle": "2024-09-13T15:54:21.114663Z",
     "shell.execute_reply": "2024-09-13T15:54:21.114313Z"
    }
   },
   "outputs": [],
   "source": [
    "# run the optimization for a couple of iterations (see bayes_opt folder for\n",
    "# more examples of ucb)\n",
    "X.random_evaluate(2)\n",
    "for i in range(4):\n",
    "    X.step()"
   ]
  },
  {
   "cell_type": "code",
   "execution_count": null,
   "metadata": {
    "ExecuteTime": {
     "end_time": "2024-04-02T14:38:07.343479300Z",
     "start_time": "2024-04-02T14:38:07.330479700Z"
    },
    "execution": {
     "iopub.execute_input": "2024-09-13T15:54:21.116528Z",
     "iopub.status.busy": "2024-09-13T15:54:21.116363Z",
     "iopub.status.idle": "2024-09-13T15:54:21.121624Z",
     "shell.execute_reply": "2024-09-13T15:54:21.121332Z"
    }
   },
   "outputs": [],
   "source": [
    "X.data"
   ]
  },
  {
   "cell_type": "markdown",
   "metadata": {
    "collapsed": false,
    "jupyter": {
     "outputs_hidden": false
    }
   },
   "source": [
    "## Write your own generator\n",
    "Here we write a generator that generates the same point every time."
   ]
  },
  {
   "cell_type": "code",
   "execution_count": null,
   "metadata": {
    "ExecuteTime": {
     "end_time": "2024-04-02T14:38:30.157799200Z",
     "start_time": "2024-04-02T14:38:30.148798400Z"
    },
    "execution": {
     "iopub.execute_input": "2024-09-13T15:54:21.123537Z",
     "iopub.status.busy": "2024-09-13T15:54:21.123381Z",
     "iopub.status.idle": "2024-09-13T15:54:21.130807Z",
     "shell.execute_reply": "2024-09-13T15:54:21.130499Z"
    }
   },
   "outputs": [],
   "source": [
    "class MyGenerator(Generator):\n",
    "    supports_single_objective: bool = True\n",
    "\n",
    "    def generate(self, n_candidates) -> list[dict]:\n",
    "        points = [{\"x\": 1.0}] * n_candidates\n",
    "        return points\n",
    "\n",
    "\n",
    "my_generator = MyGenerator(vocs=vocs)\n",
    "X2 = Xopt(evaluator=evaluator, vocs=vocs, generator=my_generator)\n",
    "\n",
    "for i in range(4):\n",
    "    X2.step()"
   ]
  },
  {
   "cell_type": "code",
   "execution_count": null,
   "metadata": {
    "ExecuteTime": {
     "end_time": "2024-04-02T14:38:31.306804300Z",
     "start_time": "2024-04-02T14:38:31.288798900Z"
    },
    "execution": {
     "iopub.execute_input": "2024-09-13T15:54:21.132352Z",
     "iopub.status.busy": "2024-09-13T15:54:21.132250Z",
     "iopub.status.idle": "2024-09-13T15:54:21.135795Z",
     "shell.execute_reply": "2024-09-13T15:54:21.135566Z"
    }
   },
   "outputs": [],
   "source": [
    "X2.data"
   ]
  }
 ],
 "metadata": {
  "kernelspec": {
   "display_name": "Python 3",
   "language": "python",
   "name": "python3"
  },
  "language_info": {
   "codemirror_mode": {
    "name": "ipython",
    "version": 3
   },
   "file_extension": ".py",
   "mimetype": "text/x-python",
   "name": "python",
   "nbconvert_exporter": "python",
   "pygments_lexer": "ipython3",
   "version": "3.12.9"
  }
 },
 "nbformat": 4,
 "nbformat_minor": 4
}
