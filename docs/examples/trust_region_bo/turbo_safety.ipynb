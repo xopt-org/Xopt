{
 "cells": [
  {
   "cell_type": "markdown",
   "metadata": {
    "collapsed": false,
    "jupyter": {
     "outputs_hidden": false
    }
   },
   "source": [
    "# TuRBO Bayesian Optimization - Safety\n",
    "In this tutorial we demonstrate the use of Xopt to preform \"Safety\" based Trust Region Bayesian Optimization (TuRBO) on a simple test problem. During optimization of high dimensional input spaces off the shelf BO tends to over-emphasize exploration which severely degrades optimization performance. TuRBO attempts to prevent this by maintaining a surrogate model over a local (trust) region. As opposed to optimization based TuRBO, which centers the trust region on the best previously observed point, safety-based TurBO is centered on the center-of-mass location of vaild points (points that satisfy all constraints). The trust region is expanded and contracted based on the number of `successful` (observations that satisfy all constraints) or `unsuccessful` (observations that don't) observations in a row. This approach can be useful to reduce the number of constraint violations in tightly constrained parameter spaces."
   ]
  },
  {
   "cell_type": "markdown",
   "metadata": {
    "collapsed": false,
    "jupyter": {
     "outputs_hidden": false
    }
   },
   "source": [
    "## Define the test problem\n",
    "Here we define a simple optimization problem, where we attempt to minimize a function in the domian [0,2*pi]. Note that the function used to evaluate the objective function takes a dictionary as input and returns a dictionary as the output. In this case we also specify a constraining function."
   ]
  },
  {
   "cell_type": "code",
   "execution_count": null,
   "metadata": {
    "ExecuteTime": {
     "end_time": "2024-08-07T01:59:27.474306300Z",
     "start_time": "2024-08-07T01:59:25.101273800Z"
    },
    "execution": {
     "iopub.execute_input": "2024-09-13T15:56:03.477703Z",
     "iopub.status.busy": "2024-09-13T15:56:03.477389Z",
     "iopub.status.idle": "2024-09-13T15:56:05.180187Z",
     "shell.execute_reply": "2024-09-13T15:56:05.179805Z"
    }
   },
   "outputs": [],
   "source": [
    "from xopt.evaluator import Evaluator\n",
    "from xopt.generators.bayesian import ExpectedImprovementGenerator\n",
    "from xopt import Xopt\n",
    "from xopt.vocs import VOCS\n",
    "import math\n",
    "import numpy as np\n",
    "import pandas as pd\n",
    "import torch\n",
    "import matplotlib.pyplot as plt\n",
    "\n",
    "# define variables and function objectives\n",
    "constraint_max = -2.0\n",
    "vocs = VOCS(\n",
    "    variables={\"x\": [0, 2 * math.pi]},\n",
    "    constraints={\"c\": [\"LESS_THAN\", constraint_max]},\n",
    "    objectives={\"f\": \"MINIMIZE\"},\n",
    ")"
   ]
  },
  {
   "cell_type": "code",
   "execution_count": null,
   "metadata": {
    "ExecuteTime": {
     "end_time": "2024-08-07T01:59:27.502331400Z",
     "start_time": "2024-08-07T01:59:27.476306700Z"
    },
    "execution": {
     "iopub.execute_input": "2024-09-13T15:56:05.182105Z",
     "iopub.status.busy": "2024-09-13T15:56:05.181910Z",
     "iopub.status.idle": "2024-09-13T15:56:05.183934Z",
     "shell.execute_reply": "2024-09-13T15:56:05.183678Z"
    }
   },
   "outputs": [],
   "source": [
    "# define a test function to optimize\n",
    "def sin_function(input_dict):\n",
    "    x = input_dict[\"x\"]\n",
    "    return {\n",
    "        \"f\": np.sin(x),\n",
    "        \"c\": -10 * np.exp(-((x - np.pi) ** 2) / 0.1) + 0.5 * np.sin(5 * x),\n",
    "    }"
   ]
  },
  {
   "cell_type": "markdown",
   "metadata": {
    "collapsed": false,
    "jupyter": {
     "outputs_hidden": false
    }
   },
   "source": [
    "## Create Xopt objects\n",
    "Create the evaluator to evaluate our test function and create a generator that uses the ExpectedImprovement acquisition function to perform Bayesian Optimization. Assuming that a relatively small region of parameter space is valid, it is beneficial to start with a smaller trust region. To do that we set the initial length of the trust region to be 5% of the input domain."
   ]
  },
  {
   "cell_type": "code",
   "execution_count": null,
   "metadata": {
    "ExecuteTime": {
     "end_time": "2024-08-07T01:59:28.802460800Z",
     "start_time": "2024-08-07T01:59:27.502331400Z"
    },
    "execution": {
     "iopub.execute_input": "2024-09-13T15:56:05.185338Z",
     "iopub.status.busy": "2024-09-13T15:56:05.185241Z",
     "iopub.status.idle": "2024-09-13T15:56:05.189688Z",
     "shell.execute_reply": "2024-09-13T15:56:05.189466Z"
    }
   },
   "outputs": [],
   "source": [
    "evaluator = Evaluator(function=sin_function)\n",
    "generator = ExpectedImprovementGenerator(vocs=vocs, turbo_controller=\"safety\")\n",
    "generator.gp_constructor.use_low_noise_prior = True\n",
    "generator.turbo_controller.length = (\n",
    "    0.05  # set the initial trust region length scale to 5% of the range\n",
    ")\n",
    "X = Xopt(evaluator=evaluator, generator=generator, vocs=vocs)"
   ]
  },
  {
   "cell_type": "code",
   "execution_count": null,
   "metadata": {
    "ExecuteTime": {
     "end_time": "2024-08-07T01:59:28.814460100Z",
     "start_time": "2024-08-07T01:59:28.803460700Z"
    },
    "execution": {
     "iopub.execute_input": "2024-09-13T15:56:05.191014Z",
     "iopub.status.busy": "2024-09-13T15:56:05.190910Z",
     "iopub.status.idle": "2024-09-13T15:56:05.196944Z",
     "shell.execute_reply": "2024-09-13T15:56:05.196575Z"
    }
   },
   "outputs": [],
   "source": [
    "X"
   ]
  },
  {
   "cell_type": "markdown",
   "metadata": {
    "collapsed": false,
    "jupyter": {
     "outputs_hidden": false
    }
   },
   "source": [
    "## Generate and evaluate initial points\n",
    "To begin optimization, we must generate some random initial data points. The first call\n",
    "to `X.step()` will generate and evaluate a number of randomly points specified by the\n",
    " generator. Note that if we add data to xopt before calling `X.step()` by assigning\n",
    " the data to `X.data`, calls to `X.step()` will ignore the random generation and\n",
    " proceed to generating points via Bayesian optimization."
   ]
  },
  {
   "cell_type": "code",
   "execution_count": null,
   "metadata": {
    "ExecuteTime": {
     "end_time": "2024-08-07T01:59:28.883458900Z",
     "start_time": "2024-08-07T01:59:28.816461400Z"
    },
    "execution": {
     "iopub.execute_input": "2024-09-13T15:56:05.219975Z",
     "iopub.status.busy": "2024-09-13T15:56:05.219805Z",
     "iopub.status.idle": "2024-09-13T15:56:05.227477Z",
     "shell.execute_reply": "2024-09-13T15:56:05.227127Z"
    }
   },
   "outputs": [],
   "source": [
    "X.evaluate_data(pd.DataFrame({\"x\": [2.9]}))\n",
    "\n",
    "# inspect the gathered data\n",
    "X.data"
   ]
  },
  {
   "cell_type": "code",
   "execution_count": null,
   "metadata": {
    "ExecuteTime": {
     "end_time": "2024-08-07T01:59:29.053969300Z",
     "start_time": "2024-08-07T01:59:28.844461500Z"
    },
    "execution": {
     "iopub.execute_input": "2024-09-13T15:56:05.229360Z",
     "iopub.status.busy": "2024-09-13T15:56:05.229229Z",
     "iopub.status.idle": "2024-09-13T15:56:05.437052Z",
     "shell.execute_reply": "2024-09-13T15:56:05.436790Z"
    }
   },
   "outputs": [],
   "source": [
    "# determine trust region from gathered data\n",
    "X.generator.train_model()\n",
    "X.generator.turbo_controller.update_state(X.generator)\n",
    "X.generator.turbo_controller.get_trust_region(X.generator)"
   ]
  },
  {
   "cell_type": "markdown",
   "metadata": {
    "collapsed": false,
    "jupyter": {
     "outputs_hidden": false
    }
   },
   "source": [
    "## Define plotting utility"
   ]
  },
  {
   "cell_type": "code",
   "execution_count": null,
   "metadata": {
    "ExecuteTime": {
     "end_time": "2024-08-07T01:59:29.069971400Z",
     "start_time": "2024-08-07T01:59:29.059970500Z"
    },
    "execution": {
     "iopub.execute_input": "2024-09-13T15:56:05.438704Z",
     "iopub.status.busy": "2024-09-13T15:56:05.438549Z",
     "iopub.status.idle": "2024-09-13T15:56:05.442827Z",
     "shell.execute_reply": "2024-09-13T15:56:05.442581Z"
    }
   },
   "outputs": [],
   "source": [
    "def plot_turbo(X):\n",
    "    # get the Gaussian process model from the generator\n",
    "    model = X.generator.train_model()\n",
    "\n",
    "    # get trust region\n",
    "    trust_region = X.generator.turbo_controller.get_trust_region(generator).squeeze()\n",
    "    scale_factor = X.generator.turbo_controller.length\n",
    "    region_width = trust_region[1] - trust_region[0]\n",
    "\n",
    "    # get number of successes and failures\n",
    "    n_successes = X.generator.turbo_controller.success_counter\n",
    "    n_failures = X.generator.turbo_controller.failure_counter\n",
    "\n",
    "    # get acquisition function from generator\n",
    "    acq = X.generator.get_acquisition(model)\n",
    "    test_x = torch.linspace(*X.vocs.bounds.flatten(), 500).double()\n",
    "\n",
    "    with torch.no_grad():\n",
    "        posterior = model.posterior(test_x.unsqueeze(1))\n",
    "        acq_val = acq(test_x.reshape(-1, 1, 1))\n",
    "\n",
    "    # get mean function and confidence regions\n",
    "    mean = posterior.mean\n",
    "    lower, upper = posterior.mvn.confidence_region()\n",
    "\n",
    "    # plot model and acquisition function\n",
    "    fig, ax = plt.subplots(3, 1, sharex=\"all\")\n",
    "\n",
    "    # add title for successes and failures\n",
    "    ax[0].set_title(\n",
    "        f\"n_successes: {n_successes}, n_failures: {n_failures}, \"\n",
    "        f\"scale_factor: {scale_factor}, region_width: {region_width:.2}, \"\n",
    "    )\n",
    "\n",
    "    # plot objective posterior\n",
    "    ax[0].plot(test_x, mean[:, 0], \"C0\", label=\"Objective mean\")\n",
    "    ax[0].fill_between(\n",
    "        test_x, lower[:, 0], upper[:, 0], alpha=0.25, label=\"Confidence region\"\n",
    "    )\n",
    "\n",
    "    # plot constraint posterior\n",
    "    ax[1].plot(test_x, mean[:, 1], \"C1\", label=\"Constraint mean\")\n",
    "    ax[1].fill_between(\n",
    "        test_x,\n",
    "        lower[:, 1],\n",
    "        upper[:, 1],\n",
    "        fc=\"C1\",\n",
    "        alpha=0.25,\n",
    "        label=\"Constraint confidence region\",\n",
    "    )\n",
    "\n",
    "    # add constraint boundary\n",
    "    ax[1].axhline(constraint_max, c=\"C2\", label=\"Constraint boundary\")\n",
    "\n",
    "    # add data to model plot\n",
    "    ax[0].plot(X.data[\"x\"], X.data[\"f\"], \"C0o\", label=\"Training data\")\n",
    "\n",
    "    # add data to constraint plot\n",
    "    ax[1].plot(X.data[\"x\"], X.data[\"c\"], \"C1o\", label=\"Training data\")\n",
    "\n",
    "    # plot true function\n",
    "    ground_truth = sin_function({\"x\": test_x.numpy()})\n",
    "    ax[0].plot(test_x, ground_truth[\"f\"], \"C0--\", label=\"Ground truth objective\")\n",
    "    ax[1].plot(test_x, ground_truth[\"c\"], \"C1--\", label=\"Ground truth constraint\")\n",
    "\n",
    "    # plot acquisition function\n",
    "    ax[2].plot(test_x, acq_val.flatten().exp(), \"C0\", label=\"Acquisition function\")\n",
    "\n",
    "    ax[0].set_ylabel(\"f\")\n",
    "    ax[0].set_ylim(-1.5, 1.5)\n",
    "    ax[1].set_ylabel(\"c\")\n",
    "    ax[1].set_ylim(-12, 2)\n",
    "    ax[2].set_ylabel(r\"$exp[\\alpha(x)]$\")\n",
    "    ax[2].set_xlabel(\"x\")\n",
    "\n",
    "    # plot trust region\n",
    "    for a in ax:\n",
    "        a.axvline(trust_region[0], c=\"r\", label=\"Trust region boundary\")\n",
    "        a.axvline(trust_region[1], c=\"r\")\n",
    "\n",
    "    # add legend\n",
    "    ax[0].legend(fontsize=\"x-small\")\n",
    "    ax[1].legend(fontsize=\"x-small\")\n",
    "\n",
    "    fig.tight_layout()\n",
    "\n",
    "    return fig, ax"
   ]
  },
  {
   "cell_type": "markdown",
   "metadata": {
    "collapsed": false,
    "jupyter": {
     "outputs_hidden": false
    }
   },
   "source": [
    "## Do bayesian optimization steps\n",
    "Notice that when the number of successive successes or failures reaches 2 the trust\n",
    "region expands or contracts and counters are reset to zero. Counters are also reset\n",
    "to zero during alternate successes/failures. Finally, the model is most accurate\n",
    "inside the trust region, which supports our goal of local optimization."
   ]
  },
  {
   "cell_type": "code",
   "execution_count": null,
   "metadata": {
    "ExecuteTime": {
     "end_time": "2024-08-07T01:59:40.084279200Z",
     "start_time": "2024-08-07T01:59:29.069971400Z"
    },
    "execution": {
     "iopub.execute_input": "2024-09-13T15:56:05.444248Z",
     "iopub.status.busy": "2024-09-13T15:56:05.444168Z",
     "iopub.status.idle": "2024-09-13T15:56:09.703297Z",
     "shell.execute_reply": "2024-09-13T15:56:09.703018Z"
    }
   },
   "outputs": [],
   "source": [
    "for i in range(5):\n",
    "    # plot trust region analysis\n",
    "    fig, ax = plot_turbo(X)\n",
    "\n",
    "    # take optimization state\n",
    "    X.step()"
   ]
  },
  {
   "cell_type": "code",
   "execution_count": null,
   "metadata": {
    "ExecuteTime": {
     "end_time": "2024-08-07T01:59:40.126280300Z",
     "start_time": "2024-08-07T01:59:40.084279200Z"
    },
    "execution": {
     "iopub.execute_input": "2024-09-13T15:56:09.704882Z",
     "iopub.status.busy": "2024-09-13T15:56:09.704770Z",
     "iopub.status.idle": "2024-09-13T15:56:09.706953Z",
     "shell.execute_reply": "2024-09-13T15:56:09.706701Z"
    }
   },
   "outputs": [],
   "source": [
    "# access the collected data\n",
    "X.generator.turbo_controller"
   ]
  },
  {
   "cell_type": "code",
   "execution_count": null,
   "metadata": {
    "ExecuteTime": {
     "end_time": "2024-08-07T01:59:40.140291900Z",
     "start_time": "2024-08-07T01:59:40.100281300Z"
    },
    "execution": {
     "iopub.execute_input": "2024-09-13T15:56:09.708312Z",
     "iopub.status.busy": "2024-09-13T15:56:09.708214Z",
     "iopub.status.idle": "2024-09-13T15:56:09.712062Z",
     "shell.execute_reply": "2024-09-13T15:56:09.711826Z"
    }
   },
   "outputs": [],
   "source": [
    "X.data"
   ]
  }
 ],
 "metadata": {
  "kernelspec": {
   "display_name": "Python 3",
   "language": "python",
   "name": "python3"
  },
  "language_info": {
   "codemirror_mode": {
    "name": "ipython",
    "version": 3
   },
   "file_extension": ".py",
   "mimetype": "text/x-python",
   "name": "python",
   "nbconvert_exporter": "python",
   "pygments_lexer": "ipython3",
   "version": "3.12.9"
  }
 },
 "nbformat": 4,
 "nbformat_minor": 4
}
